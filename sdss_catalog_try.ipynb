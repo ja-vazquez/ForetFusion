{
 "cells": [
  {
   "cell_type": "code",
   "execution_count": 3,
   "metadata": {
    "collapsed": false
   },
   "outputs": [
    {
     "name": "stderr",
     "output_type": "stream",
     "text": [
      "/Library/Python/2.7/site-packages/matplotlib/font_manager.py:273: UserWarning: Matplotlib is building the font cache using fc-list. This may take a moment.\n",
      "  warnings.warn('Matplotlib is building the font cache using fc-list. This may take a moment.')\n"
     ]
    }
   ],
   "source": [
    "import fitsio\n",
    "import numpy as np\n",
    "import healpy as hp\n",
    "import pandas as pd\n",
    "import matplotlib.pyplot as plt\n",
    "\n",
    "#from base64 import b64encode\n",
    "#import mechanize\n",
    "\n",
    "%matplotlib inline\n",
    "\n",
    "# I'm using Pandas (based on numpy), which is a very useful tool for\n",
    "# handling tables and data.\n",
    "# I'll properly put them into classes or more organized later"
   ]
  },
  {
   "cell_type": "code",
   "execution_count": 2,
   "metadata": {
    "collapsed": true
   },
   "outputs": [],
   "source": [
    "#12GB file, be carefull\n",
    "file_name = 'data/spAll-v5_10_0.fits'\n",
    "\n",
    "fits = fitsio.FITS(file_name) \n",
    "\n",
    "# Columns we are interested on\n",
    "cols = ['CLASS', 'RA','DEC','THING_ID','OBJTYPE','MJD','PLATE','FIBERID','BOSS_TARGET1','EBOSS_TARGET0','EBOSS_TARGET1']"
   ]
  },
  {
   "cell_type": "code",
   "execution_count": 3,
   "metadata": {
    "collapsed": true
   },
   "outputs": [],
   "source": [
    "# to show all names in file\n",
    "#fits[1]"
   ]
  },
  {
   "cell_type": "code",
   "execution_count": 4,
   "metadata": {
    "collapsed": true
   },
   "outputs": [],
   "source": [
    "data  = fits[1].read(columns= cols)"
   ]
  },
  {
   "cell_type": "code",
   "execution_count": 5,
   "metadata": {
    "collapsed": false
   },
   "outputs": [
    {
     "name": "stdout",
     "output_type": "stream",
     "text": [
      "CPU times: user 356 ms, sys: 375 ms, total: 731 ms\n",
      "Wall time: 795 ms\n"
     ]
    }
   ],
   "source": [
    "%%time\n",
    "\n",
    "d = {col:data[col].byteswap().newbyteorder() for col in cols}"
   ]
  },
  {
   "cell_type": "code",
   "execution_count": 6,
   "metadata": {
    "collapsed": true
   },
   "outputs": [],
   "source": [
    "#%%time\n",
    "\n",
    "# Reading columns\n",
    "#http://stackoverflow.com/questions/30283836/creating-pandas-dataframe-from-numpy-array-leads-to-strange-errors\n",
    "#d = {col: fits[1][col].read().byteswap().newbyteorder() for col in cols}"
   ]
  },
  {
   "cell_type": "code",
   "execution_count": 7,
   "metadata": {
    "collapsed": false
   },
   "outputs": [
    {
     "data": {
      "text/html": [
       "<div>\n",
       "<table border=\"1\" class=\"dataframe\">\n",
       "  <thead>\n",
       "    <tr style=\"text-align: right;\">\n",
       "      <th></th>\n",
       "      <th>BOSS_TARGET1</th>\n",
       "      <th>CLASS</th>\n",
       "      <th>DEC</th>\n",
       "      <th>EBOSS_TARGET0</th>\n",
       "      <th>EBOSS_TARGET1</th>\n",
       "      <th>FIBERID</th>\n",
       "      <th>MJD</th>\n",
       "      <th>OBJTYPE</th>\n",
       "      <th>PLATE</th>\n",
       "      <th>RA</th>\n",
       "      <th>THING_ID</th>\n",
       "    </tr>\n",
       "  </thead>\n",
       "  <tbody>\n",
       "    <tr>\n",
       "      <th>0</th>\n",
       "      <td>0</td>\n",
       "      <td>GALAXY</td>\n",
       "      <td>26.188042</td>\n",
       "      <td>0</td>\n",
       "      <td>2</td>\n",
       "      <td>1</td>\n",
       "      <td>57346</td>\n",
       "      <td>GALAXY</td>\n",
       "      <td>10000</td>\n",
       "      <td>30.012094</td>\n",
       "      <td>339167825</td>\n",
       "    </tr>\n",
       "    <tr>\n",
       "      <th>1</th>\n",
       "      <td>0</td>\n",
       "      <td>QSO</td>\n",
       "      <td>26.582945</td>\n",
       "      <td>0</td>\n",
       "      <td>1024</td>\n",
       "      <td>2</td>\n",
       "      <td>57346</td>\n",
       "      <td>QSO</td>\n",
       "      <td>10000</td>\n",
       "      <td>31.282286</td>\n",
       "      <td>342410358</td>\n",
       "    </tr>\n",
       "    <tr>\n",
       "      <th>2</th>\n",
       "      <td>0</td>\n",
       "      <td>GALAXY</td>\n",
       "      <td>26.608501</td>\n",
       "      <td>0</td>\n",
       "      <td>2</td>\n",
       "      <td>3</td>\n",
       "      <td>57346</td>\n",
       "      <td>GALAXY</td>\n",
       "      <td>10000</td>\n",
       "      <td>31.279594</td>\n",
       "      <td>342410449</td>\n",
       "    </tr>\n",
       "    <tr>\n",
       "      <th>3</th>\n",
       "      <td>0</td>\n",
       "      <td>QSO</td>\n",
       "      <td>26.682522</td>\n",
       "      <td>0</td>\n",
       "      <td>2048</td>\n",
       "      <td>4</td>\n",
       "      <td>57346</td>\n",
       "      <td>QSO</td>\n",
       "      <td>10000</td>\n",
       "      <td>31.237546</td>\n",
       "      <td>342675982</td>\n",
       "    </tr>\n",
       "    <tr>\n",
       "      <th>4</th>\n",
       "      <td>0</td>\n",
       "      <td>STAR</td>\n",
       "      <td>26.866054</td>\n",
       "      <td>0</td>\n",
       "      <td>2</td>\n",
       "      <td>5</td>\n",
       "      <td>57346</td>\n",
       "      <td>GALAXY</td>\n",
       "      <td>10000</td>\n",
       "      <td>31.394521</td>\n",
       "      <td>344112497</td>\n",
       "    </tr>\n",
       "  </tbody>\n",
       "</table>\n",
       "</div>"
      ],
      "text/plain": [
       "   BOSS_TARGET1   CLASS        DEC  EBOSS_TARGET0  EBOSS_TARGET1  FIBERID  \\\n",
       "0             0  GALAXY  26.188042              0              2        1   \n",
       "1             0  QSO     26.582945              0           1024        2   \n",
       "2             0  GALAXY  26.608501              0              2        3   \n",
       "3             0  QSO     26.682522              0           2048        4   \n",
       "4             0  STAR    26.866054              0              2        5   \n",
       "\n",
       "     MJD           OBJTYPE  PLATE         RA   THING_ID  \n",
       "0  57346  GALAXY            10000  30.012094  339167825  \n",
       "1  57346  QSO               10000  31.282286  342410358  \n",
       "2  57346  GALAXY            10000  31.279594  342410449  \n",
       "3  57346  QSO               10000  31.237546  342675982  \n",
       "4  57346  GALAXY            10000  31.394521  344112497  "
      ]
     },
     "execution_count": 7,
     "metadata": {},
     "output_type": "execute_result"
    }
   ],
   "source": [
    "df = pd.DataFrame(d)\n",
    "#print 'number of rows =', len(df)\n",
    "df.head()"
   ]
  },
  {
   "cell_type": "code",
   "execution_count": 8,
   "metadata": {
    "collapsed": true
   },
   "outputs": [],
   "source": [
    "#%%time\n",
    "#df.to_csv('subset_spAll-v5_10_0.csv', index=False)\n",
    "#df = pd.read_csv('data/subset_spAll-v5_10_0.csv')"
   ]
  },
  {
   "cell_type": "code",
   "execution_count": 9,
   "metadata": {
    "collapsed": false
   },
   "outputs": [
    {
     "name": "stdout",
     "output_type": "stream",
     "text": [
      "('number of rows =', 3008000)\n"
     ]
    },
    {
     "data": {
      "text/html": [
       "<div>\n",
       "<table border=\"1\" class=\"dataframe\">\n",
       "  <thead>\n",
       "    <tr style=\"text-align: right;\">\n",
       "      <th></th>\n",
       "      <th>BOSS_TARGET1</th>\n",
       "      <th>CLASS</th>\n",
       "      <th>DEC</th>\n",
       "      <th>EBOSS_TARGET0</th>\n",
       "      <th>EBOSS_TARGET1</th>\n",
       "      <th>FIBERID</th>\n",
       "      <th>MJD</th>\n",
       "      <th>OBJTYPE</th>\n",
       "      <th>PLATE</th>\n",
       "      <th>RA</th>\n",
       "      <th>THING_ID</th>\n",
       "    </tr>\n",
       "  </thead>\n",
       "  <tbody>\n",
       "    <tr>\n",
       "      <th>0</th>\n",
       "      <td>0</td>\n",
       "      <td>GALAXY</td>\n",
       "      <td>26.188042</td>\n",
       "      <td>0</td>\n",
       "      <td>2</td>\n",
       "      <td>1</td>\n",
       "      <td>57346</td>\n",
       "      <td>GALAXY</td>\n",
       "      <td>10000</td>\n",
       "      <td>30.012094</td>\n",
       "      <td>339167825</td>\n",
       "    </tr>\n",
       "    <tr>\n",
       "      <th>1</th>\n",
       "      <td>0</td>\n",
       "      <td>QSO</td>\n",
       "      <td>26.582945</td>\n",
       "      <td>0</td>\n",
       "      <td>1024</td>\n",
       "      <td>2</td>\n",
       "      <td>57346</td>\n",
       "      <td>QSO</td>\n",
       "      <td>10000</td>\n",
       "      <td>31.282286</td>\n",
       "      <td>342410358</td>\n",
       "    </tr>\n",
       "    <tr>\n",
       "      <th>2</th>\n",
       "      <td>0</td>\n",
       "      <td>GALAXY</td>\n",
       "      <td>26.608501</td>\n",
       "      <td>0</td>\n",
       "      <td>2</td>\n",
       "      <td>3</td>\n",
       "      <td>57346</td>\n",
       "      <td>GALAXY</td>\n",
       "      <td>10000</td>\n",
       "      <td>31.279594</td>\n",
       "      <td>342410449</td>\n",
       "    </tr>\n",
       "    <tr>\n",
       "      <th>3</th>\n",
       "      <td>0</td>\n",
       "      <td>QSO</td>\n",
       "      <td>26.682522</td>\n",
       "      <td>0</td>\n",
       "      <td>2048</td>\n",
       "      <td>4</td>\n",
       "      <td>57346</td>\n",
       "      <td>QSO</td>\n",
       "      <td>10000</td>\n",
       "      <td>31.237546</td>\n",
       "      <td>342675982</td>\n",
       "    </tr>\n",
       "    <tr>\n",
       "      <th>4</th>\n",
       "      <td>0</td>\n",
       "      <td>STAR</td>\n",
       "      <td>26.866054</td>\n",
       "      <td>0</td>\n",
       "      <td>2</td>\n",
       "      <td>5</td>\n",
       "      <td>57346</td>\n",
       "      <td>GALAXY</td>\n",
       "      <td>10000</td>\n",
       "      <td>31.394521</td>\n",
       "      <td>344112497</td>\n",
       "    </tr>\n",
       "  </tbody>\n",
       "</table>\n",
       "</div>"
      ],
      "text/plain": [
       "   BOSS_TARGET1   CLASS        DEC  EBOSS_TARGET0  EBOSS_TARGET1  FIBERID  \\\n",
       "0             0  GALAXY  26.188042              0              2        1   \n",
       "1             0  QSO     26.582945              0           1024        2   \n",
       "2             0  GALAXY  26.608501              0              2        3   \n",
       "3             0  QSO     26.682522              0           2048        4   \n",
       "4             0  STAR    26.866054              0              2        5   \n",
       "\n",
       "     MJD           OBJTYPE  PLATE         RA   THING_ID  \n",
       "0  57346  GALAXY            10000  30.012094  339167825  \n",
       "1  57346  QSO               10000  31.282286  342410358  \n",
       "2  57346  GALAXY            10000  31.279594  342410449  \n",
       "3  57346  QSO               10000  31.237546  342675982  \n",
       "4  57346  GALAXY            10000  31.394521  344112497  "
      ]
     },
     "execution_count": 9,
     "metadata": {},
     "output_type": "execute_result"
    }
   ],
   "source": [
    "print ('number of rows =', len(df))\n",
    "df.head()"
   ]
  },
  {
   "cell_type": "markdown",
   "metadata": {},
   "source": [
    "## Computing pixels"
   ]
  },
  {
   "cell_type": "code",
   "execution_count": 10,
   "metadata": {
    "collapsed": false
   },
   "outputs": [
    {
     "data": {
      "text/plain": [
       "3369"
      ]
     },
     "execution_count": 10,
     "metadata": {},
     "output_type": "execute_result"
    }
   ],
   "source": [
    "'''map celestial coordinates to angular'''\n",
    "\n",
    "#The resolution of the map\n",
    "NSide = 2**5\n",
    "\n",
    "phi_rad   = lambda ra : ra*np.pi/180.\n",
    "theta_rad = lambda dec: (90.0 - dec)*np.pi/180.\n",
    "\n",
    "df['PIX'] = hp.ang2pix(NSide, theta_rad(df['DEC']), phi_rad(df['RA']))\n",
    "\n",
    "# Number of unique pixels\n",
    "len(df['PIX'].unique())"
   ]
  },
  {
   "cell_type": "code",
   "execution_count": 11,
   "metadata": {
    "collapsed": false
   },
   "outputs": [
    {
     "data": {
      "text/html": [
       "<div>\n",
       "<table border=\"1\" class=\"dataframe\">\n",
       "  <thead>\n",
       "    <tr style=\"text-align: right;\">\n",
       "      <th></th>\n",
       "      <th>BOSS_TARGET1</th>\n",
       "      <th>CLASS</th>\n",
       "      <th>DEC</th>\n",
       "      <th>EBOSS_TARGET0</th>\n",
       "      <th>EBOSS_TARGET1</th>\n",
       "      <th>FIBERID</th>\n",
       "      <th>MJD</th>\n",
       "      <th>OBJTYPE</th>\n",
       "      <th>PLATE</th>\n",
       "      <th>RA</th>\n",
       "      <th>THING_ID</th>\n",
       "      <th>PIX</th>\n",
       "    </tr>\n",
       "  </thead>\n",
       "  <tbody>\n",
       "    <tr>\n",
       "      <th>1</th>\n",
       "      <td>0</td>\n",
       "      <td>QSO</td>\n",
       "      <td>26.582945</td>\n",
       "      <td>0</td>\n",
       "      <td>1024</td>\n",
       "      <td>2</td>\n",
       "      <td>57346</td>\n",
       "      <td>QSO</td>\n",
       "      <td>10000</td>\n",
       "      <td>31.282286</td>\n",
       "      <td>342410358</td>\n",
       "      <td>3403</td>\n",
       "    </tr>\n",
       "    <tr>\n",
       "      <th>3</th>\n",
       "      <td>0</td>\n",
       "      <td>QSO</td>\n",
       "      <td>26.682522</td>\n",
       "      <td>0</td>\n",
       "      <td>2048</td>\n",
       "      <td>4</td>\n",
       "      <td>57346</td>\n",
       "      <td>QSO</td>\n",
       "      <td>10000</td>\n",
       "      <td>31.237546</td>\n",
       "      <td>342675982</td>\n",
       "      <td>3403</td>\n",
       "    </tr>\n",
       "    <tr>\n",
       "      <th>5</th>\n",
       "      <td>0</td>\n",
       "      <td>QSO</td>\n",
       "      <td>26.810259</td>\n",
       "      <td>0</td>\n",
       "      <td>1024</td>\n",
       "      <td>6</td>\n",
       "      <td>57346</td>\n",
       "      <td>QSO</td>\n",
       "      <td>10000</td>\n",
       "      <td>31.327011</td>\n",
       "      <td>344111998</td>\n",
       "      <td>3403</td>\n",
       "    </tr>\n",
       "    <tr>\n",
       "      <th>6</th>\n",
       "      <td>0</td>\n",
       "      <td>QSO</td>\n",
       "      <td>26.935936</td>\n",
       "      <td>0</td>\n",
       "      <td>2048</td>\n",
       "      <td>7</td>\n",
       "      <td>57346</td>\n",
       "      <td>QSO</td>\n",
       "      <td>10000</td>\n",
       "      <td>31.408747</td>\n",
       "      <td>345724597</td>\n",
       "      <td>3275</td>\n",
       "    </tr>\n",
       "    <tr>\n",
       "      <th>7</th>\n",
       "      <td>0</td>\n",
       "      <td>QSO</td>\n",
       "      <td>26.953807</td>\n",
       "      <td>0</td>\n",
       "      <td>1024</td>\n",
       "      <td>8</td>\n",
       "      <td>57346</td>\n",
       "      <td>QSO</td>\n",
       "      <td>10000</td>\n",
       "      <td>31.362048</td>\n",
       "      <td>345724589</td>\n",
       "      <td>3275</td>\n",
       "    </tr>\n",
       "  </tbody>\n",
       "</table>\n",
       "</div>"
      ],
      "text/plain": [
       "   BOSS_TARGET1   CLASS        DEC  EBOSS_TARGET0  EBOSS_TARGET1  FIBERID  \\\n",
       "1             0  QSO     26.582945              0           1024        2   \n",
       "3             0  QSO     26.682522              0           2048        4   \n",
       "5             0  QSO     26.810259              0           1024        6   \n",
       "6             0  QSO     26.935936              0           2048        7   \n",
       "7             0  QSO     26.953807              0           1024        8   \n",
       "\n",
       "     MJD           OBJTYPE  PLATE         RA   THING_ID   PIX  \n",
       "1  57346  QSO               10000  31.282286  342410358  3403  \n",
       "3  57346  QSO               10000  31.237546  342675982  3403  \n",
       "5  57346  QSO               10000  31.327011  344111998  3403  \n",
       "6  57346  QSO               10000  31.408747  345724597  3275  \n",
       "7  57346  QSO               10000  31.362048  345724589  3275  "
      ]
     },
     "execution_count": 11,
     "metadata": {},
     "output_type": "execute_result"
    }
   ],
   "source": [
    "df = df.query('CLASS== \"QSO\".ljust(6) & (OBJTYPE==\"QSO\".ljust(16) | OBJTYPE==\"NA\".ljust(16)) & THING_ID != -1')\n",
    "df.head()"
   ]
  },
  {
   "cell_type": "code",
   "execution_count": null,
   "metadata": {
    "collapsed": true
   },
   "outputs": [],
   "source": []
  },
  {
   "cell_type": "code",
   "execution_count": null,
   "metadata": {
    "collapsed": true
   },
   "outputs": [],
   "source": []
  },
  {
   "cell_type": "code",
   "execution_count": null,
   "metadata": {
    "collapsed": true
   },
   "outputs": [],
   "source": []
  },
  {
   "cell_type": "code",
   "execution_count": null,
   "metadata": {
    "collapsed": true
   },
   "outputs": [],
   "source": []
  },
  {
   "cell_type": "code",
   "execution_count": null,
   "metadata": {
    "collapsed": true
   },
   "outputs": [],
   "source": []
  },
  {
   "cell_type": "code",
   "execution_count": null,
   "metadata": {
    "collapsed": true
   },
   "outputs": [],
   "source": []
  },
  {
   "cell_type": "code",
   "execution_count": null,
   "metadata": {
    "collapsed": true
   },
   "outputs": [],
   "source": []
  },
  {
   "cell_type": "code",
   "execution_count": 218,
   "metadata": {
    "collapsed": false
   },
   "outputs": [
    {
     "data": {
      "text/plain": [
       "['healp_1', 'healp_2']"
      ]
     },
     "execution_count": 218,
     "metadata": {},
     "output_type": "execute_result"
    }
   ],
   "source": [
    "data = {'healp_1':[1,2,3], 'healp_2':[2,3,4]}\n",
    "list(data)"
   ]
  },
  {
   "cell_type": "code",
   "execution_count": null,
   "metadata": {
    "collapsed": true
   },
   "outputs": [],
   "source": [
    "import fitsio\n",
    "from fitsio import FITS,FITSHDR"
   ]
  },
  {
   "cell_type": "code",
   "execution_count": 463,
   "metadata": {
    "collapsed": false
   },
   "outputs": [
    {
     "ename": "TypeError",
     "evalue": "Unsupported numpy table datatype 20",
     "output_type": "error",
     "traceback": [
      "\u001b[0;31m---------------------------------------------------------------------------\u001b[0m",
      "\u001b[0;31mTypeError\u001b[0m                                 Traceback (most recent call last)",
      "\u001b[0;32m<ipython-input-463-b0c0cfa00893>\u001b[0m in \u001b[0;36m<module>\u001b[0;34m()\u001b[0m\n\u001b[1;32m      8\u001b[0m \u001b[0;34m\u001b[0m\u001b[0m\n\u001b[1;32m      9\u001b[0m \u001b[0;31m# create a new table extension and write the data\u001b[0m\u001b[0;34m\u001b[0m\u001b[0;34m\u001b[0m\u001b[0m\n\u001b[0;32m---> 10\u001b[0;31m \u001b[0mfits\u001b[0m\u001b[0;34m.\u001b[0m\u001b[0mwrite\u001b[0m\u001b[0;34m(\u001b[0m\u001b[0mdata\u001b[0m\u001b[0;34m)\u001b[0m\u001b[0;34m\u001b[0m\u001b[0m\n\u001b[0m",
      "\u001b[0;32m/Library/Python/2.7/site-packages/fitsio/fitslib.pyc\u001b[0m in \u001b[0;36mwrite\u001b[0;34m(self, data, units, extname, extver, compress, tile_dims, header, names, table_type, **keys)\u001b[0m\n\u001b[1;32m    484\u001b[0m                              \u001b[0mextname\u001b[0m\u001b[0;34m=\u001b[0m\u001b[0mextname\u001b[0m\u001b[0;34m,\u001b[0m \u001b[0mextver\u001b[0m\u001b[0;34m=\u001b[0m\u001b[0mextver\u001b[0m\u001b[0;34m,\u001b[0m \u001b[0mheader\u001b[0m\u001b[0;34m=\u001b[0m\u001b[0mheader\u001b[0m\u001b[0;34m,\u001b[0m\u001b[0;34m\u001b[0m\u001b[0m\n\u001b[1;32m    485\u001b[0m                              \u001b[0mnames\u001b[0m\u001b[0;34m=\u001b[0m\u001b[0mnames\u001b[0m\u001b[0;34m,\u001b[0m\u001b[0;34m\u001b[0m\u001b[0m\n\u001b[0;32m--> 486\u001b[0;31m                              table_type=table_type)\n\u001b[0m\u001b[1;32m    487\u001b[0m \u001b[0;34m\u001b[0m\u001b[0m\n\u001b[1;32m    488\u001b[0m \u001b[0;34m\u001b[0m\u001b[0m\n",
      "\u001b[0;32m/Library/Python/2.7/site-packages/fitsio/fitslib.pyc\u001b[0m in \u001b[0;36mwrite_table\u001b[0;34m(self, data, table_type, names, formats, units, extname, extver, header)\u001b[0m\n\u001b[1;32m    771\u001b[0m             \u001b[0mself\u001b[0m\u001b[0;34m[\u001b[0m\u001b[0;34m-\u001b[0m\u001b[0;36m1\u001b[0m\u001b[0;34m]\u001b[0m\u001b[0;34m.\u001b[0m\u001b[0m_update_info\u001b[0m\u001b[0;34m(\u001b[0m\u001b[0;34m)\u001b[0m\u001b[0;34m\u001b[0m\u001b[0m\n\u001b[1;32m    772\u001b[0m \u001b[0;34m\u001b[0m\u001b[0m\n\u001b[0;32m--> 773\u001b[0;31m         \u001b[0mself\u001b[0m\u001b[0;34m[\u001b[0m\u001b[0;34m-\u001b[0m\u001b[0;36m1\u001b[0m\u001b[0;34m]\u001b[0m\u001b[0;34m.\u001b[0m\u001b[0mwrite\u001b[0m\u001b[0;34m(\u001b[0m\u001b[0mdata\u001b[0m\u001b[0;34m,\u001b[0m\u001b[0mnames\u001b[0m\u001b[0;34m=\u001b[0m\u001b[0mnames\u001b[0m\u001b[0;34m)\u001b[0m\u001b[0;34m\u001b[0m\u001b[0m\n\u001b[0m\u001b[1;32m    774\u001b[0m \u001b[0;34m\u001b[0m\u001b[0m\n\u001b[1;32m    775\u001b[0m     def create_table_hdu(self, data=None, dtype=None, \n",
      "\u001b[0;32m/Library/Python/2.7/site-packages/fitsio/fitslib.pyc\u001b[0m in \u001b[0;36mwrite\u001b[0;34m(self, data, **keys)\u001b[0m\n\u001b[1;32m   1604\u001b[0m                 \u001b[0mfirstrow\u001b[0m\u001b[0;34m=\u001b[0m\u001b[0mkeys\u001b[0m\u001b[0;34m.\u001b[0m\u001b[0mget\u001b[0m\u001b[0;34m(\u001b[0m\u001b[0;34m'firstrow'\u001b[0m\u001b[0;34m,\u001b[0m\u001b[0;36m0\u001b[0m\u001b[0;34m)\u001b[0m\u001b[0;34m\u001b[0m\u001b[0m\n\u001b[1;32m   1605\u001b[0m                 self._FITS.write_columns(self._ext+1, nonobj_colnums, nonobj_arrays, \n\u001b[0;32m-> 1606\u001b[0;31m                                          firstrow=firstrow+1)\n\u001b[0m\u001b[1;32m   1607\u001b[0m \u001b[0;34m\u001b[0m\u001b[0m\n\u001b[1;32m   1608\u001b[0m         \u001b[0;31m# writing the object arrays always occurs the same way\u001b[0m\u001b[0;34m\u001b[0m\u001b[0;34m\u001b[0m\u001b[0m\n",
      "\u001b[0;31mTypeError\u001b[0m: Unsupported numpy table datatype 20"
     ]
    }
   ],
   "source": [
    "%rm test3.fits\n",
    "fits = FITS('test3.fits','rw')\n",
    "nrows=1\n",
    "data = dict()\n",
    "#data = numpy.zeros(nrows, dtype=[('arr','S10',(1,4))])\n",
    "data['arr'] = np.array(['abcd','1','2','3'],dtype=[('arr','S10',(1,4))]) #numpy.arange(nrows*1*4,dtype='f4').reshape(nrows,1,4)\n",
    "#data['arr2'] = np.array('abca','2','3','4',dtype=[('arr2','S10',(1,4))])\n",
    "\n",
    "# create a new table extension and write the data\n",
    "fits.write(data)"
   ]
  },
  {
   "cell_type": "code",
   "execution_count": 451,
   "metadata": {
    "collapsed": false
   },
   "outputs": [
    {
     "data": {
      "text/plain": [
       "{'arr': array([([['abcd', '', '', '']],), ([['1', '', '', '']],),\n",
       "        ([['2', '', '', '']],), ([['3', '', '', '']],)], \n",
       "       dtype=[('arr', 'S10', (1, 4))]),\n",
       " 'arr2': array([([['abca', '', '', '']],), ([['2', '', '', '']],),\n",
       "        ([['3', '', '', '']],), ([['4', '', '', '']],)], \n",
       "       dtype=[('arr2', 'S10', (1, 4))])}"
      ]
     },
     "execution_count": 451,
     "metadata": {},
     "output_type": "execute_result"
    }
   ],
   "source": [
    "data"
   ]
  },
  {
   "cell_type": "code",
   "execution_count": 423,
   "metadata": {
    "collapsed": false
   },
   "outputs": [],
   "source": [
    "%rm test3.fits\n",
    "data = {'healp_1':np.array([1,2,3]), 'healp_2':np.array([2,3,4])}\n",
    "data['healp_4'] = np.array(['a','d','b'])\n",
    "#data['healp_3'] = np.array([[[1,2,3],[2,3,4]]])\n",
    "fdata   = data\n",
    "fits = fitsio.FITS('test3.fits','rw')\n",
    "fits.write(fdata)\n"
   ]
  },
  {
   "cell_type": "code",
   "execution_count": 445,
   "metadata": {
    "collapsed": false
   },
   "outputs": [],
   "source": [
    "fits = fitsio.FITS('test3.fits') "
   ]
  },
  {
   "cell_type": "code",
   "execution_count": 446,
   "metadata": {
    "collapsed": false
   },
   "outputs": [
    {
     "data": {
      "text/plain": [
       "array([[['abcd      ', '1         ', '2         ', '3         ']]], \n",
       "      dtype='|S10')"
      ]
     },
     "execution_count": 446,
     "metadata": {},
     "output_type": "execute_result"
    }
   ],
   "source": [
    "fits[1]['arr'][:]"
   ]
  },
  {
   "cell_type": "code",
   "execution_count": 464,
   "metadata": {
    "collapsed": false
   },
   "outputs": [],
   "source": [
    "d= {3403: {341840412: ['10000/spec-10000-57346-0100.fits', '5698/spec-5698-55947-0594.fits', '7691/spec-7691-57040-0093.fits', '7691/spec-7691-57360-0099.fits'], 340637645: ['10000/spec-10000-57346-0136.fits', '5697/spec-5697-55944-0969.fits', '7691/spec-7691-57040-0134.fits', '7691/spec-7691-57360-0132.fits'], 341840093: ['10000/spec-10000-57346-0092.fits', '5697/spec-5697-55944-0990.fits', '6270/spec-6270-56273-0202.fits', '7691/spec-7691-57040-0100.fits', '7691/spec-7691-57360-0094.fits']}}"
   ]
  },
  {
   "cell_type": "code",
   "execution_count": 468,
   "metadata": {
    "collapsed": false
   },
   "outputs": [
    {
     "data": {
      "text/plain": [
       "['10000/spec-10000-57346-0136.fits',\n",
       " '5697/spec-5697-55944-0969.fits',\n",
       " '7691/spec-7691-57040-0134.fits',\n",
       " '7691/spec-7691-57360-0132.fits']"
      ]
     },
     "execution_count": 468,
     "metadata": {},
     "output_type": "execute_result"
    }
   ],
   "source": [
    "d[3403][340637645]"
   ]
  },
  {
   "cell_type": "code",
   "execution_count": 547,
   "metadata": {
    "collapsed": false
   },
   "outputs": [],
   "source": [
    "with open('master_0.csv', 'r') as myfile:\n",
    "    data=myfile.read().replace('\\n', '')"
   ]
  },
  {
   "cell_type": "code",
   "execution_count": 565,
   "metadata": {
    "collapsed": false
   },
   "outputs": [],
   "source": [
    "a = pd.read_json('{\"0\":{\"0\":[1,2,3],\"1\":3},\"1\":{\"0\":2,\"1\":4}}')"
   ]
  },
  {
   "cell_type": "code",
   "execution_count": 567,
   "metadata": {
    "collapsed": false
   },
   "outputs": [
    {
     "data": {
      "text/plain": [
       "[1, 2, 3]"
      ]
     },
     "execution_count": 567,
     "metadata": {},
     "output_type": "execute_result"
    }
   ],
   "source": [
    "a[0][0]"
   ]
  },
  {
   "cell_type": "code",
   "execution_count": 508,
   "metadata": {
    "collapsed": false
   },
   "outputs": [
    {
     "data": {
      "text/html": [
       "<div>\n",
       "<table border=\"1\" class=\"dataframe\">\n",
       "  <thead>\n",
       "    <tr style=\"text-align: right;\">\n",
       "      <th></th>\n",
       "      <th>0</th>\n",
       "    </tr>\n",
       "  </thead>\n",
       "  <tbody>\n",
       "    <tr>\n",
       "      <th>0</th>\n",
       "      <td>{3403: {341840412: ['10000/spec-10000-57346-01...</td>\n",
       "    </tr>\n",
       "    <tr>\n",
       "      <th>1</th>\n",
       "      <td>{3275: {349534382: ['10000/spec-10000-57346-09...</td>\n",
       "    </tr>\n",
       "    <tr>\n",
       "      <th>2</th>\n",
       "      <td>{3274: {350554689: ['10000/spec-10000-57346-06...</td>\n",
       "    </tr>\n",
       "    <tr>\n",
       "      <th>3</th>\n",
       "      <td>{3402: {341037487: ['10000/spec-10000-57346-04...</td>\n",
       "    </tr>\n",
       "  </tbody>\n",
       "</table>\n",
       "</div>"
      ],
      "text/plain": [
       "                                                   0\n",
       "0  {3403: {341840412: ['10000/spec-10000-57346-01...\n",
       "1  {3275: {349534382: ['10000/spec-10000-57346-09...\n",
       "2  {3274: {350554689: ['10000/spec-10000-57346-06...\n",
       "3  {3402: {341037487: ['10000/spec-10000-57346-04..."
      ]
     },
     "execution_count": 508,
     "metadata": {},
     "output_type": "execute_result"
    }
   ],
   "source": []
  },
  {
   "cell_type": "code",
   "execution_count": 484,
   "metadata": {
    "collapsed": false
   },
   "outputs": [
    {
     "data": {
      "text/plain": [
       "{3402: {336426277: ['10000/spec-10000-57346-0364.fits',\n",
       "   '5697/spec-5697-55944-0814.fits',\n",
       "   '7691/spec-7691-57040-0364.fits',\n",
       "   '7691/spec-7691-57360-0364.fits'],\n",
       "  341037487: ['10000/spec-10000-57346-0456.fits',\n",
       "   '5697/spec-5697-55944-0672.fits',\n",
       "   '7691/spec-7691-57040-0456.fits',\n",
       "   '7691/spec-7691-57360-0448.fits'],\n",
       "  343269820: ['10000/spec-10000-57346-0482.fits',\n",
       "   '6268/spec-6268-56245-0210.fits',\n",
       "   '7691/spec-7691-57040-0486.fits',\n",
       "   '7691/spec-7691-57360-0486.fits'],\n",
       "  343388415: ['10000/spec-10000-57346-0484.fits',\n",
       "   '6268/spec-6268-56245-0177.fits',\n",
       "   '7691/spec-7691-57040-0490.fits',\n",
       "   '7691/spec-7691-57360-0492.fits']}}"
      ]
     },
     "execution_count": 484,
     "metadata": {},
     "output_type": "execute_result"
    }
   ],
   "source": [
    "df = {3403: {341840412: ['10000/spec-10000-57346-0100.fits', '5698/spec-5698-55947-0594.fits', '7691/spec-7691-57040-0093.fits', '7691/spec-7691-57360-0099.fits'], 340637645: ['10000/spec-10000-57346-0136.fits', '5697/spec-5697-55944-0969.fits', '7691/spec-7691-57040-0134.fits', '7691/spec-7691-57360-0132.fits'], 341840093: ['10000/spec-10000-57346-0092.fits', '5697/spec-5697-55944-0990.fits', '6270/spec-6270-56273-0202.fits', '7691/spec-7691-57040-0100.fits', '7691/spec-7691-57360-0094.fits']}}\n",
    "{3275: {349534382: ['10000/spec-10000-57346-0999.fits', '6270/spec-6270-56273-0074.fits', '6272/spec-6272-56325-0492.fits', '7691/spec-7691-57040-0996.fits', '7691/spec-7691-57360-0996.fits']}}\n",
    "{3274: {350554689: ['10000/spec-10000-57346-0693.fits', '6270/spec-6270-56273-0438.fits', '7691/spec-7691-57040-0690.fits', '7691/spec-7691-57360-0702.fits'], 346239524: ['10000/spec-10000-57346-0436.fits', '5697/spec-5697-55944-0662.fits', '6268/spec-6268-56245-0140.fits', '7691/spec-7691-57040-0440.fits', '7691/spec-7691-57360-0438.fits'], 351278054: ['10000/spec-10000-57346-0604.fits', '6270/spec-6270-56273-0559.fits', '7691/spec-7691-57040-0607.fits', '7691/spec-7691-57360-0719.fits'], 350868168: ['10000/spec-10000-57346-0888.fits', '6270/spec-6270-56273-0238.fits', '7691/spec-7691-57040-0888.fits', '7691/spec-7691-57360-0932.fits'], 348420585: ['10000/spec-10000-57346-0536.fits', '6268/spec-6268-56245-0152.fits', '7691/spec-7691-57040-0536.fits', '7691/spec-7691-57360-0558.fits'], 351046414: ['10000/spec-10000-57346-0642.fits', '6270/spec-6270-56273-0600.fits', '7691/spec-7691-57040-0647.fits', '7691/spec-7691-57360-0711.fits'], 342652719: ['10000/spec-10000-57346-0172.fits', '5698/spec-5698-55947-0508.fits', '7691/spec-7691-57040-0180.fits', '7691/spec-7691-57360-0176.fits'], 347714116: ['10000/spec-10000-57346-0614.fits', '6270/spec-6270-56273-0491.fits', '7691/spec-7691-57040-0616.fits', '7691/spec-7691-57360-0636.fits'], 350283464: ['10000/spec-10000-57346-0732.fits', '6270/spec-6270-56273-0392.fits', '7691/spec-7691-57040-0730.fits', '7691/spec-7691-57360-0784.fits'], 345257490: ['10000/spec-10000-57346-0307.fits', '6270/spec-6270-56273-0378.fits', '7691/spec-7691-57040-0308.fits', '7691/spec-7691-57360-0308.fits'], 346955029: ['10000/spec-10000-57346-0280.fits', '6270/spec-6270-56273-0384.fits', '7691/spec-7691-57040-0280.fits', '7691/spec-7691-57360-0278.fits'], 341123990: ['10000/spec-10000-57346-0260.fits', '5697/spec-5697-55944-0914.fits', '7691/spec-7691-57040-0254.fits', '7691/spec-7691-57360-0260.fits'], 344738135: ['10000/spec-10000-57346-0266.fits', '6270/spec-6270-56273-0340.fits', '7691/spec-7691-57040-0262.fits', '7691/spec-7691-57360-0270.fits'], 353593796: ['10000/spec-10000-57346-0757.fits', '6270/spec-6270-56273-0676.fits', '7691/spec-7691-57040-0756.fits'], 350610703: ['10000/spec-10000-57346-0890.fits', '6270/spec-6270-56273-0240.fits', '7691/spec-7691-57040-0892.fits', '7691/spec-7691-57360-0926.fits'], 348052255: ['10000/spec-10000-57346-0818.fits', '6270/spec-6270-56273-0342.fits', '7691/spec-7691-57040-0818.fits', '7691/spec-7691-57360-0826.fits']}}\n",
    "{3402: {341037487: ['10000/spec-10000-57346-0456.fits', '5697/spec-5697-55944-0672.fits', '7691/spec-7691-57040-0456.fits', '7691/spec-7691-57360-0448.fits'], 343269820: ['10000/spec-10000-57346-0482.fits', '6268/spec-6268-56245-0210.fits', '7691/spec-7691-57040-0486.fits', '7691/spec-7691-57360-0486.fits'], 336426277: ['10000/spec-10000-57346-0364.fits', '5697/spec-5697-55944-0814.fits', '7691/spec-7691-57040-0364.fits', '7691/spec-7691-57360-0364.fits'], 343388415: ['10000/spec-10000-57346-0484.fits', '6268/spec-6268-56245-0177.fits', '7691/spec-7691-57040-0490.fits', '7691/spec-7691-57360-0492.fits']}}"
   ]
  },
  {
   "cell_type": "code",
   "execution_count": 486,
   "metadata": {
    "collapsed": false
   },
   "outputs": [
    {
     "data": {
      "text/plain": [
       "{340637645: ['10000/spec-10000-57346-0136.fits',\n",
       "  '5697/spec-5697-55944-0969.fits',\n",
       "  '7691/spec-7691-57040-0134.fits',\n",
       "  '7691/spec-7691-57360-0132.fits'],\n",
       " 341840093: ['10000/spec-10000-57346-0092.fits',\n",
       "  '5697/spec-5697-55944-0990.fits',\n",
       "  '6270/spec-6270-56273-0202.fits',\n",
       "  '7691/spec-7691-57040-0100.fits',\n",
       "  '7691/spec-7691-57360-0094.fits'],\n",
       " 341840412: ['10000/spec-10000-57346-0100.fits',\n",
       "  '5698/spec-5698-55947-0594.fits',\n",
       "  '7691/spec-7691-57040-0093.fits',\n",
       "  '7691/spec-7691-57360-0099.fits']}"
      ]
     },
     "execution_count": 486,
     "metadata": {},
     "output_type": "execute_result"
    }
   ],
   "source": [
    "df[3403]"
   ]
  },
  {
   "cell_type": "code",
   "execution_count": 569,
   "metadata": {
    "collapsed": false
   },
   "outputs": [],
   "source": [
    "a = {3403: {341840412: ['10000/spec-10000-57346-0100.fits', '5698/spec-5698-55947-0594.fits', '7691/spec-7691-57040-0093.fits', '7691/spec-7691-57360-0099.fits'], 340637645: ['10000/spec-10000-57346-0136.fits', '5697/spec-5697-55944-0969.fits', '7691/spec-7691-57040-0134.fits', '7691/spec-7691-57360-0132.fits'], 341840093: ['10000/spec-10000-57346-0092.fits', '5697/spec-5697-55944-0990.fits', '6270/spec-6270-56273-0202.fits', '7691/spec-7691-57040-0100.fits', '7691/spec-7691-57360-0094.fits']}},{3275: {349534382: ['10000/spec-10000-57346-0999.fits', '6270/spec-6270-56273-0074.fits', '6272/spec-6272-56325-0492.fits', '7691/spec-7691-57040-0996.fits', '7691/spec-7691-57360-0996.fits']}},{3274: {350554689: ['10000/spec-10000-57346-0693.fits', '6270/spec-6270-56273-0438.fits', '7691/spec-7691-57040-0690.fits', '7691/spec-7691-57360-0702.fits'], 346239524: ['10000/spec-10000-57346-0436.fits', '5697/spec-5697-55944-0662.fits', '6268/spec-6268-56245-0140.fits', '7691/spec-7691-57040-0440.fits', '7691/spec-7691-57360-0438.fits'], 351278054: ['10000/spec-10000-57346-0604.fits', '6270/spec-6270-56273-0559.fits', '7691/spec-7691-57040-0607.fits', '7691/spec-7691-57360-0719.fits'], 350868168: ['10000/spec-10000-57346-0888.fits', '6270/spec-6270-56273-0238.fits', '7691/spec-7691-57040-0888.fits', '7691/spec-7691-57360-0932.fits'], 348420585: ['10000/spec-10000-57346-0536.fits', '6268/spec-6268-56245-0152.fits', '7691/spec-7691-57040-0536.fits', '7691/spec-7691-57360-0558.fits'], 351046414: ['10000/spec-10000-57346-0642.fits', '6270/spec-6270-56273-0600.fits', '7691/spec-7691-57040-0647.fits', '7691/spec-7691-57360-0711.fits'], 342652719: ['10000/spec-10000-57346-0172.fits', '5698/spec-5698-55947-0508.fits', '7691/spec-7691-57040-0180.fits', '7691/spec-7691-57360-0176.fits'], 347714116: ['10000/spec-10000-57346-0614.fits', '6270/spec-6270-56273-0491.fits', '7691/spec-7691-57040-0616.fits', '7691/spec-7691-57360-0636.fits'], 350283464: ['10000/spec-10000-57346-0732.fits', '6270/spec-6270-56273-0392.fits', '7691/spec-7691-57040-0730.fits', '7691/spec-7691-57360-0784.fits'], 345257490: ['10000/spec-10000-57346-0307.fits', '6270/spec-6270-56273-0378.fits', '7691/spec-7691-57040-0308.fits', '7691/spec-7691-57360-0308.fits'], 346955029: ['10000/spec-10000-57346-0280.fits', '6270/spec-6270-56273-0384.fits', '7691/spec-7691-57040-0280.fits', '7691/spec-7691-57360-0278.fits'], 341123990: ['10000/spec-10000-57346-0260.fits', '5697/spec-5697-55944-0914.fits', '7691/spec-7691-57040-0254.fits', '7691/spec-7691-57360-0260.fits'], 344738135: ['10000/spec-10000-57346-0266.fits', '6270/spec-6270-56273-0340.fits', '7691/spec-7691-57040-0262.fits', '7691/spec-7691-57360-0270.fits'], 353593796: ['10000/spec-10000-57346-0757.fits', '7691/spec-7691-57040-0756.fits', '6270/spec-6270-56273-0676.fits'], 350610703: ['10000/spec-10000-57346-0890.fits', '6270/spec-6270-56273-0240.fits', '7691/spec-7691-57040-0892.fits', '7691/spec-7691-57360-0926.fits'], 348052255: ['10000/spec-10000-57346-0818.fits', '6270/spec-6270-56273-0342.fits', '7691/spec-7691-57040-0818.fits', '7691/spec-7691-57360-0826.fits']}},{3402: {341037487: ['10000/spec-10000-57346-0456.fits', '5697/spec-5697-55944-0672.fits', '7691/spec-7691-57040-0456.fits', '7691/spec-7691-57360-0448.fits'], 343269820: ['10000/spec-10000-57346-0482.fits', '6268/spec-6268-56245-0210.fits', '7691/spec-7691-57040-0486.fits', '7691/spec-7691-57360-0486.fits'], 336426277: ['10000/spec-10000-57346-0364.fits', '5697/spec-5697-55944-0814.fits', '7691/spec-7691-57040-0364.fits', '7691/spec-7691-57360-0364.fits'], 343388415: ['10000/spec-10000-57346-0484.fits', '6268/spec-6268-56245-0177.fits', '7691/spec-7691-57040-0490.fits', '7691/spec-7691-57360-0492.fits']}}"
   ]
  },
  {
   "cell_type": "code",
   "execution_count": 9,
   "metadata": {
    "collapsed": false
   },
   "outputs": [],
   "source": [
    "b =pd.read_json('{\"3403\":{\"th_341840093\": [\"10000/spec-10000-57346-0092.fits\", \"5697/spec-5697-55944-0990.fits\", \"6270/spec-6270-56273-0202.fits\", \"7691/spec-7691-57040-0100.fits\", \"7691/spec-7691-57360-0094.fits\"], \"th_341840412\": [\"10000/spec-10000-57346-0100.fits\", \"5698/spec-5698-55947-0594.fits\", \"7691/spec-7691-57040-0093.fits\", \"7691/spec-7691-57360-0099.fits\"], \"th_340637645\": [\"10000/spec-10000-57346-0136.fits\", \"5697/spec-5697-55944-0969.fits\", \"7691/spec-7691-57040-0134.fits\", \"7691/spec-7691-57360-0132.fits\"]},\"3275\":{\"th_349534382\": [\"10000/spec-10000-57346-0999.fits\", \"6270/spec-6270-56273-0074.fits\", \"6272/spec-6272-56325-0492.fits\", \"7691/spec-7691-57040-0996.fits\", \"7691/spec-7691-57360-0996.fits\"]},\"3274\":{\"th_353593796\": [\"10000/spec-10000-57346-0757.fits\", \"7691/spec-7691-57040-0756.fits\", \"6270/spec-6270-56273-0676.fits\"], \"th_350610703\": [\"10000/spec-10000-57346-0890.fits\", \"6270/spec-6270-56273-0240.fits\", \"7691/spec-7691-57040-0892.fits\", \"7691/spec-7691-57360-0926.fits\"], \"th_346955029\": [\"10000/spec-10000-57346-0280.fits\", \"6270/spec-6270-56273-0384.fits\", \"7691/spec-7691-57040-0280.fits\", \"7691/spec-7691-57360-0278.fits\"], \"th_347714116\": [\"10000/spec-10000-57346-0614.fits\", \"6270/spec-6270-56273-0491.fits\", \"7691/spec-7691-57040-0616.fits\", \"7691/spec-7691-57360-0636.fits\"], \"th_341123990\": [\"10000/spec-10000-57346-0260.fits\", \"5697/spec-5697-55944-0914.fits\", \"7691/spec-7691-57040-0254.fits\", \"7691/spec-7691-57360-0260.fits\"], \"th_350554689\": [\"10000/spec-10000-57346-0693.fits\", \"6270/spec-6270-56273-0438.fits\", \"7691/spec-7691-57040-0690.fits\", \"7691/spec-7691-57360-0702.fits\"], \"th_348420585\": [\"10000/spec-10000-57346-0536.fits\", \"6268/spec-6268-56245-0152.fits\", \"7691/spec-7691-57040-0536.fits\", \"7691/spec-7691-57360-0558.fits\"], \"th_351046414\": [\"10000/spec-10000-57346-0642.fits\", \"6270/spec-6270-56273-0600.fits\", \"7691/spec-7691-57040-0647.fits\", \"7691/spec-7691-57360-0711.fits\"], \"th_351278054\": [\"10000/spec-10000-57346-0604.fits\", \"6270/spec-6270-56273-0559.fits\", \"7691/spec-7691-57040-0607.fits\", \"7691/spec-7691-57360-0719.fits\"], \"th_342652719\": [\"10000/spec-10000-57346-0172.fits\", \"5698/spec-5698-55947-0508.fits\", \"7691/spec-7691-57040-0180.fits\", \"7691/spec-7691-57360-0176.fits\"], \"th_350868168\": [\"10000/spec-10000-57346-0888.fits\", \"6270/spec-6270-56273-0238.fits\", \"7691/spec-7691-57040-0888.fits\", \"7691/spec-7691-57360-0932.fits\"], \"th_345257490\": [\"10000/spec-10000-57346-0307.fits\", \"6270/spec-6270-56273-0378.fits\", \"7691/spec-7691-57040-0308.fits\", \"7691/spec-7691-57360-0308.fits\"], \"th_350283464\": [\"10000/spec-10000-57346-0732.fits\", \"6270/spec-6270-56273-0392.fits\", \"7691/spec-7691-57040-0730.fits\", \"7691/spec-7691-57360-0784.fits\"], \"th_348052255\": [\"10000/spec-10000-57346-0818.fits\", \"6270/spec-6270-56273-0342.fits\", \"7691/spec-7691-57040-0818.fits\", \"7691/spec-7691-57360-0826.fits\"], \"th_344738135\": [\"10000/spec-10000-57346-0266.fits\", \"6270/spec-6270-56273-0340.fits\", \"7691/spec-7691-57040-0262.fits\", \"7691/spec-7691-57360-0270.fits\"], \"th_346239524\": [\"10000/spec-10000-57346-0436.fits\", \"5697/spec-5697-55944-0662.fits\", \"6268/spec-6268-56245-0140.fits\", \"7691/spec-7691-57040-0440.fits\", \"7691/spec-7691-57360-0438.fits\"]}}')"
   ]
  },
  {
   "cell_type": "code",
   "execution_count": null,
   "metadata": {
    "collapsed": false
   },
   "outputs": [],
   "source": []
  },
  {
   "cell_type": "code",
   "execution_count": 66,
   "metadata": {
    "collapsed": false
   },
   "outputs": [],
   "source": [
    "file = open('master_0.csv', 'r')\n",
    "healpix=[]\n",
    "for line in file:\n",
    "    healpix.append(pd.read_json(line))"
   ]
  },
  {
   "cell_type": "code",
   "execution_count": 70,
   "metadata": {
    "collapsed": false
   },
   "outputs": [
    {
     "data": {
      "text/html": [
       "<div>\n",
       "<table border=\"1\" class=\"dataframe\">\n",
       "  <thead>\n",
       "    <tr style=\"text-align: right;\">\n",
       "      <th></th>\n",
       "      <th>3403</th>\n",
       "    </tr>\n",
       "  </thead>\n",
       "  <tbody>\n",
       "    <tr>\n",
       "      <th>th_340637645</th>\n",
       "      <td>[10000/spec-10000-57346-0136.fits, 5697/spec-5...</td>\n",
       "    </tr>\n",
       "    <tr>\n",
       "      <th>th_341840093</th>\n",
       "      <td>[10000/spec-10000-57346-0092.fits, 5697/spec-5...</td>\n",
       "    </tr>\n",
       "    <tr>\n",
       "      <th>th_341840412</th>\n",
       "      <td>[10000/spec-10000-57346-0100.fits, 5698/spec-5...</td>\n",
       "    </tr>\n",
       "  </tbody>\n",
       "</table>\n",
       "</div>"
      ],
      "text/plain": [
       "                                                           3403\n",
       "th_340637645  [10000/spec-10000-57346-0136.fits, 5697/spec-5...\n",
       "th_341840093  [10000/spec-10000-57346-0092.fits, 5697/spec-5...\n",
       "th_341840412  [10000/spec-10000-57346-0100.fits, 5698/spec-5..."
      ]
     },
     "execution_count": 70,
     "metadata": {},
     "output_type": "execute_result"
    }
   ],
   "source": [
    "healpix[0]"
   ]
  },
  {
   "cell_type": "code",
   "execution_count": 69,
   "metadata": {
    "collapsed": false
   },
   "outputs": [
    {
     "data": {
      "text/html": [
       "<div>\n",
       "<table border=\"1\" class=\"dataframe\">\n",
       "  <thead>\n",
       "    <tr style=\"text-align: right;\">\n",
       "      <th></th>\n",
       "      <th>3275</th>\n",
       "    </tr>\n",
       "  </thead>\n",
       "  <tbody>\n",
       "    <tr>\n",
       "      <th>th_349534382</th>\n",
       "      <td>[10000/spec-10000-57346-0999.fits, 6270/spec-6...</td>\n",
       "    </tr>\n",
       "  </tbody>\n",
       "</table>\n",
       "</div>"
      ],
      "text/plain": [
       "                                                           3275\n",
       "th_349534382  [10000/spec-10000-57346-0999.fits, 6270/spec-6..."
      ]
     },
     "execution_count": 69,
     "metadata": {},
     "output_type": "execute_result"
    }
   ],
   "source": [
    "healpix[1]"
   ]
  },
  {
   "cell_type": "code",
   "execution_count": null,
   "metadata": {
    "collapsed": true
   },
   "outputs": [],
   "source": []
  },
  {
   "cell_type": "code",
   "execution_count": null,
   "metadata": {
    "collapsed": true
   },
   "outputs": [],
   "source": []
  }
 ],
 "metadata": {
  "anaconda-cloud": {},
  "kernelspec": {
   "display_name": "Python 2",
   "language": "python",
   "name": "python2"
  }
 },
 "nbformat": 4,
 "nbformat_minor": 1
}
