{
 "cells": [
  {
   "cell_type": "code",
   "execution_count": 743,
   "metadata": {
    "collapsed": false
   },
   "outputs": [
    {
     "name": "stdout",
     "output_type": "stream",
     "text": [
      "\n"
     ]
    }
   ],
   "source": [
    "import fitsio\n",
    "import numpy as np\n",
    "import healpy as hp\n",
    "import pandas as pd\n",
    "import matplotlib.pyplot as plt\n",
    "\n",
    "from base64 import b64encode\n",
    "import mechanize\n",
    "\n",
    "%matplotlib inline\n",
    "\n",
    "# I'm using Pandas (based on numpy), which is a very useful tool for\n",
    "# handling tables and data.\n",
    "# I'll properly put them into classes or more organized later"
   ]
  },
  {
   "cell_type": "code",
   "execution_count": 744,
   "metadata": {
    "collapsed": true
   },
   "outputs": [],
   "source": [
    "#12GB file, be carefull\n",
    "file_name = 'spAll-v5_10_0.fits'\n",
    "\n",
    "\n",
    "#The resolution of the map\n",
    "NSide = 2**5\n",
    "\n",
    "\n",
    "fits = fitsio.FITS(file_name) \n",
    "# to show all names in file\n",
    "#fits[1]\n",
    "\n",
    "# Columns we are interested on\n",
    "cols = ['RA','DEC','THING_ID','MJD','PLATE','FIBERID','BOSS_TARGET1','EBOSS_TARGET0','EBOSS_TARGET1', 'ZWARNING']"
   ]
  },
  {
   "cell_type": "code",
   "execution_count": 748,
   "metadata": {
    "collapsed": false
   },
   "outputs": [
    {
     "name": "stdout",
     "output_type": "stream",
     "text": [
      "CPU times: user 21.2 s, sys: 1min 2s, total: 1min 24s\n",
      "Wall time: 3min 15s\n"
     ]
    }
   ],
   "source": [
    "%%time\n",
    "\n",
    "# Reading columns\n",
    "#http://stackoverflow.com/questions/30283836/creating-pandas-dataframe-from-numpy-array-leads-to-strange-errors\n",
    "d = {col: fits[1][col].read().byteswap().newbyteorder() for col in cols}"
   ]
  },
  {
   "cell_type": "code",
   "execution_count": 749,
   "metadata": {
    "collapsed": false
   },
   "outputs": [
    {
     "name": "stdout",
     "output_type": "stream",
     "text": [
      "number of rows = 3008000\n"
     ]
    },
    {
     "data": {
      "text/html": [
       "<div>\n",
       "<table border=\"1\" class=\"dataframe\">\n",
       "  <thead>\n",
       "    <tr style=\"text-align: right;\">\n",
       "      <th></th>\n",
       "      <th>BOSS_TARGET1</th>\n",
       "      <th>DEC</th>\n",
       "      <th>EBOSS_TARGET0</th>\n",
       "      <th>EBOSS_TARGET1</th>\n",
       "      <th>FIBERID</th>\n",
       "      <th>MJD</th>\n",
       "      <th>PLATE</th>\n",
       "      <th>RA</th>\n",
       "      <th>THING_ID</th>\n",
       "      <th>ZWARNING</th>\n",
       "    </tr>\n",
       "  </thead>\n",
       "  <tbody>\n",
       "    <tr>\n",
       "      <th>0</th>\n",
       "      <td>0</td>\n",
       "      <td>26.188042</td>\n",
       "      <td>0</td>\n",
       "      <td>2</td>\n",
       "      <td>1</td>\n",
       "      <td>57346</td>\n",
       "      <td>10000</td>\n",
       "      <td>30.012094</td>\n",
       "      <td>339167825</td>\n",
       "      <td>646</td>\n",
       "    </tr>\n",
       "    <tr>\n",
       "      <th>1</th>\n",
       "      <td>0</td>\n",
       "      <td>26.582945</td>\n",
       "      <td>0</td>\n",
       "      <td>1024</td>\n",
       "      <td>2</td>\n",
       "      <td>57346</td>\n",
       "      <td>10000</td>\n",
       "      <td>31.282286</td>\n",
       "      <td>342410358</td>\n",
       "      <td>0</td>\n",
       "    </tr>\n",
       "    <tr>\n",
       "      <th>2</th>\n",
       "      <td>0</td>\n",
       "      <td>26.608501</td>\n",
       "      <td>0</td>\n",
       "      <td>2</td>\n",
       "      <td>3</td>\n",
       "      <td>57346</td>\n",
       "      <td>10000</td>\n",
       "      <td>31.279594</td>\n",
       "      <td>342410449</td>\n",
       "      <td>4</td>\n",
       "    </tr>\n",
       "    <tr>\n",
       "      <th>3</th>\n",
       "      <td>0</td>\n",
       "      <td>26.682522</td>\n",
       "      <td>0</td>\n",
       "      <td>2048</td>\n",
       "      <td>4</td>\n",
       "      <td>57346</td>\n",
       "      <td>10000</td>\n",
       "      <td>31.237546</td>\n",
       "      <td>342675982</td>\n",
       "      <td>0</td>\n",
       "    </tr>\n",
       "    <tr>\n",
       "      <th>4</th>\n",
       "      <td>0</td>\n",
       "      <td>26.866054</td>\n",
       "      <td>0</td>\n",
       "      <td>2</td>\n",
       "      <td>5</td>\n",
       "      <td>57346</td>\n",
       "      <td>10000</td>\n",
       "      <td>31.394521</td>\n",
       "      <td>344112497</td>\n",
       "      <td>4</td>\n",
       "    </tr>\n",
       "  </tbody>\n",
       "</table>\n",
       "</div>"
      ],
      "text/plain": [
       "   BOSS_TARGET1        DEC  EBOSS_TARGET0  EBOSS_TARGET1  FIBERID    MJD  \\\n",
       "0             0  26.188042              0              2        1  57346   \n",
       "1             0  26.582945              0           1024        2  57346   \n",
       "2             0  26.608501              0              2        3  57346   \n",
       "3             0  26.682522              0           2048        4  57346   \n",
       "4             0  26.866054              0              2        5  57346   \n",
       "\n",
       "   PLATE         RA   THING_ID  ZWARNING  \n",
       "0  10000  30.012094  339167825       646  \n",
       "1  10000  31.282286  342410358         0  \n",
       "2  10000  31.279594  342410449         4  \n",
       "3  10000  31.237546  342675982         0  \n",
       "4  10000  31.394521  344112497         4  "
      ]
     },
     "execution_count": 749,
     "metadata": {},
     "output_type": "execute_result"
    }
   ],
   "source": [
    "df = pd.DataFrame(d)\n",
    "print 'number of rows =', len(df)\n",
    "df.head()"
   ]
  },
  {
   "cell_type": "markdown",
   "metadata": {},
   "source": [
    "## Computing pixels"
   ]
  },
  {
   "cell_type": "code",
   "execution_count": 1076,
   "metadata": {
    "collapsed": false
   },
   "outputs": [
    {
     "data": {
      "text/plain": [
       "3369"
      ]
     },
     "execution_count": 1076,
     "metadata": {},
     "output_type": "execute_result"
    }
   ],
   "source": [
    "'''map celestial coordinates to angular'''\n",
    "phi_rad   = lambda ra : ra*np.pi/180.\n",
    "theta_rad = lambda dec: (90.0 - dec)*np.pi/180.\n",
    "\n",
    "df['PIX'] = hp.ang2pix(NSide, theta_rad(df['DEC']), phi_rad(df['RA']))\n",
    "\n",
    "# Number of unique pixels\n",
    "len(df['PIX'].unique())"
   ]
  },
  {
   "cell_type": "code",
   "execution_count": 1077,
   "metadata": {
    "collapsed": false
   },
   "outputs": [
    {
     "data": {
      "text/html": [
       "<div>\n",
       "<table border=\"1\" class=\"dataframe\">\n",
       "  <thead>\n",
       "    <tr style=\"text-align: right;\">\n",
       "      <th></th>\n",
       "      <th>BOSS_TARGET1</th>\n",
       "      <th>DEC</th>\n",
       "      <th>EBOSS_TARGET0</th>\n",
       "      <th>EBOSS_TARGET1</th>\n",
       "      <th>FIBERID</th>\n",
       "      <th>MJD</th>\n",
       "      <th>PLATE</th>\n",
       "      <th>RA</th>\n",
       "      <th>THING_ID</th>\n",
       "      <th>ZWARNING</th>\n",
       "      <th>PIX</th>\n",
       "    </tr>\n",
       "  </thead>\n",
       "  <tbody>\n",
       "    <tr>\n",
       "      <th>0</th>\n",
       "      <td>0</td>\n",
       "      <td>26.188042</td>\n",
       "      <td>0</td>\n",
       "      <td>2</td>\n",
       "      <td>1</td>\n",
       "      <td>57346</td>\n",
       "      <td>10000</td>\n",
       "      <td>30.012094</td>\n",
       "      <td>339167825</td>\n",
       "      <td>646</td>\n",
       "      <td>3403</td>\n",
       "    </tr>\n",
       "    <tr>\n",
       "      <th>1</th>\n",
       "      <td>0</td>\n",
       "      <td>26.582945</td>\n",
       "      <td>0</td>\n",
       "      <td>1024</td>\n",
       "      <td>2</td>\n",
       "      <td>57346</td>\n",
       "      <td>10000</td>\n",
       "      <td>31.282286</td>\n",
       "      <td>342410358</td>\n",
       "      <td>0</td>\n",
       "      <td>3403</td>\n",
       "    </tr>\n",
       "    <tr>\n",
       "      <th>2</th>\n",
       "      <td>0</td>\n",
       "      <td>26.608501</td>\n",
       "      <td>0</td>\n",
       "      <td>2</td>\n",
       "      <td>3</td>\n",
       "      <td>57346</td>\n",
       "      <td>10000</td>\n",
       "      <td>31.279594</td>\n",
       "      <td>342410449</td>\n",
       "      <td>4</td>\n",
       "      <td>3403</td>\n",
       "    </tr>\n",
       "    <tr>\n",
       "      <th>3</th>\n",
       "      <td>0</td>\n",
       "      <td>26.682522</td>\n",
       "      <td>0</td>\n",
       "      <td>2048</td>\n",
       "      <td>4</td>\n",
       "      <td>57346</td>\n",
       "      <td>10000</td>\n",
       "      <td>31.237546</td>\n",
       "      <td>342675982</td>\n",
       "      <td>0</td>\n",
       "      <td>3403</td>\n",
       "    </tr>\n",
       "    <tr>\n",
       "      <th>4</th>\n",
       "      <td>0</td>\n",
       "      <td>26.866054</td>\n",
       "      <td>0</td>\n",
       "      <td>2</td>\n",
       "      <td>5</td>\n",
       "      <td>57346</td>\n",
       "      <td>10000</td>\n",
       "      <td>31.394521</td>\n",
       "      <td>344112497</td>\n",
       "      <td>4</td>\n",
       "      <td>3275</td>\n",
       "    </tr>\n",
       "  </tbody>\n",
       "</table>\n",
       "</div>"
      ],
      "text/plain": [
       "   BOSS_TARGET1        DEC  EBOSS_TARGET0  EBOSS_TARGET1  FIBERID    MJD  \\\n",
       "0             0  26.188042              0              2        1  57346   \n",
       "1             0  26.582945              0           1024        2  57346   \n",
       "2             0  26.608501              0              2        3  57346   \n",
       "3             0  26.682522              0           2048        4  57346   \n",
       "4             0  26.866054              0              2        5  57346   \n",
       "\n",
       "   PLATE         RA   THING_ID  ZWARNING   PIX  \n",
       "0  10000  30.012094  339167825       646  3403  \n",
       "1  10000  31.282286  342410358         0  3403  \n",
       "2  10000  31.279594  342410449         4  3403  \n",
       "3  10000  31.237546  342675982         0  3403  \n",
       "4  10000  31.394521  344112497         4  3275  "
      ]
     },
     "execution_count": 1077,
     "metadata": {},
     "output_type": "execute_result"
    }
   ],
   "source": [
    "df.head()"
   ]
  },
  {
   "cell_type": "markdown",
   "metadata": {},
   "source": [
    "## Searching for quasars"
   ]
  },
  {
   "cell_type": "code",
   "execution_count": 753,
   "metadata": {
    "collapsed": true
   },
   "outputs": [],
   "source": [
    "bit_boss = [10,11,12,13,14,15,16,17,18,19,40,41,42,43,44]\n",
    "bit_eboss = [10,11,12,13,14,15,16,17,18]\n",
    "\n",
    "def is_quasar(dataset, mask_bit):\n",
    "    is_qso  = lambda b: ((df[dataset] & 2**b) > 0)\n",
    "    all_qso = map(is_qso, mask_bit)\n",
    "    return reduce(lambda x, y: x |  y , all_qso)"
   ]
  },
  {
   "cell_type": "code",
   "execution_count": 754,
   "metadata": {
    "collapsed": false
   },
   "outputs": [
    {
     "name": "stdout",
     "output_type": "stream",
     "text": [
      "total qso in BOSS_TARGET1 =   466098\n",
      "total qso in EBOSS_TARGET0 =  54108\n",
      "total qso in EBOSS_TARGET1 =  201742\n"
     ]
    }
   ],
   "source": [
    "print 'total qso in BOSS_TARGET1 =  ', is_quasar('BOSS_TARGET1', bit_boss).sum()\n",
    "print 'total qso in EBOSS_TARGET0 = ', is_quasar('EBOSS_TARGET0', bit_eboss).sum()\n",
    "print 'total qso in EBOSS_TARGET1 = ', is_quasar('EBOSS_TARGET1', bit_eboss).sum() "
   ]
  },
  {
   "cell_type": "code",
   "execution_count": 755,
   "metadata": {
    "collapsed": false
   },
   "outputs": [
    {
     "name": "stdout",
     "output_type": "stream",
     "text": [
      "qsos= 721948\n",
      "boss_qsos= 466098\n"
     ]
    }
   ],
   "source": [
    "#Filter only quasars\n",
    "\n",
    "only_qso = df[ is_quasar('BOSS_TARGET1', bit_boss)   |\n",
    "                 is_quasar('EBOSS_TARGET0', bit_eboss) | \n",
    "                 is_quasar('EBOSS_TARGET1', bit_eboss)]\n",
    "boss_qso = df[ is_quasar('BOSS_TARGET1', bit_boss)]\n",
    "\n",
    "print 'all_qsos=', len(only_qso) \n",
    "print 'boss_qsos=', len(boss_qso) "
   ]
  },
  {
   "cell_type": "markdown",
   "metadata": {},
   "source": [
    "## indexing and sorting by index\n"
   ]
  },
  {
   "cell_type": "code",
   "execution_count": 1081,
   "metadata": {
    "collapsed": false
   },
   "outputs": [
    {
     "data": {
      "text/html": [
       "<div>\n",
       "<table border=\"1\" class=\"dataframe\">\n",
       "  <thead>\n",
       "    <tr style=\"text-align: right;\">\n",
       "      <th></th>\n",
       "      <th></th>\n",
       "      <th>BOSS_TARGET1</th>\n",
       "      <th>DEC</th>\n",
       "      <th>EBOSS_TARGET0</th>\n",
       "      <th>EBOSS_TARGET1</th>\n",
       "      <th>FIBERID</th>\n",
       "      <th>MJD</th>\n",
       "      <th>PLATE</th>\n",
       "      <th>RA</th>\n",
       "      <th>THING_ID</th>\n",
       "      <th>ZWARNING</th>\n",
       "    </tr>\n",
       "    <tr>\n",
       "      <th>PIX</th>\n",
       "      <th>THING_ID</th>\n",
       "      <th></th>\n",
       "      <th></th>\n",
       "      <th></th>\n",
       "      <th></th>\n",
       "      <th></th>\n",
       "      <th></th>\n",
       "      <th></th>\n",
       "      <th></th>\n",
       "      <th></th>\n",
       "      <th></th>\n",
       "    </tr>\n",
       "  </thead>\n",
       "  <tbody>\n",
       "    <tr>\n",
       "      <th rowspan=\"2\" valign=\"top\">391</th>\n",
       "      <th>552894319</th>\n",
       "      <td>2199023796224</td>\n",
       "      <td>68.381197</td>\n",
       "      <td>0</td>\n",
       "      <td>0</td>\n",
       "      <td>622</td>\n",
       "      <td>56667</td>\n",
       "      <td>7115</td>\n",
       "      <td>175.258222</td>\n",
       "      <td>552894319</td>\n",
       "      <td>0</td>\n",
       "    </tr>\n",
       "    <tr>\n",
       "      <th>552921545</th>\n",
       "      <td>2199023796224</td>\n",
       "      <td>68.418125</td>\n",
       "      <td>0</td>\n",
       "      <td>0</td>\n",
       "      <td>624</td>\n",
       "      <td>56667</td>\n",
       "      <td>7115</td>\n",
       "      <td>175.582630</td>\n",
       "      <td>552921545</td>\n",
       "      <td>0</td>\n",
       "    </tr>\n",
       "    <tr>\n",
       "      <th rowspan=\"3\" valign=\"top\">392</th>\n",
       "      <th>552514273</th>\n",
       "      <td>3298535424000</td>\n",
       "      <td>68.011275</td>\n",
       "      <td>0</td>\n",
       "      <td>0</td>\n",
       "      <td>932</td>\n",
       "      <td>56748</td>\n",
       "      <td>6966</td>\n",
       "      <td>185.714425</td>\n",
       "      <td>552514273</td>\n",
       "      <td>0</td>\n",
       "    </tr>\n",
       "    <tr>\n",
       "      <th>552514407</th>\n",
       "      <td>3298535424000</td>\n",
       "      <td>68.070896</td>\n",
       "      <td>0</td>\n",
       "      <td>0</td>\n",
       "      <td>886</td>\n",
       "      <td>56748</td>\n",
       "      <td>6966</td>\n",
       "      <td>185.578268</td>\n",
       "      <td>552514407</td>\n",
       "      <td>0</td>\n",
       "    </tr>\n",
       "    <tr>\n",
       "      <th>552709867</th>\n",
       "      <td>2199023796224</td>\n",
       "      <td>68.289380</td>\n",
       "      <td>0</td>\n",
       "      <td>0</td>\n",
       "      <td>880</td>\n",
       "      <td>56748</td>\n",
       "      <td>6966</td>\n",
       "      <td>185.466450</td>\n",
       "      <td>552709867</td>\n",
       "      <td>0</td>\n",
       "    </tr>\n",
       "  </tbody>\n",
       "</table>\n",
       "</div>"
      ],
      "text/plain": [
       "                BOSS_TARGET1        DEC  EBOSS_TARGET0  EBOSS_TARGET1  \\\n",
       "PIX THING_ID                                                            \n",
       "391 552894319  2199023796224  68.381197              0              0   \n",
       "    552921545  2199023796224  68.418125              0              0   \n",
       "392 552514273  3298535424000  68.011275              0              0   \n",
       "    552514407  3298535424000  68.070896              0              0   \n",
       "    552709867  2199023796224  68.289380              0              0   \n",
       "\n",
       "               FIBERID    MJD  PLATE          RA   THING_ID  ZWARNING  \n",
       "PIX THING_ID                                                           \n",
       "391 552894319      622  56667   7115  175.258222  552894319         0  \n",
       "    552921545      624  56667   7115  175.582630  552921545         0  \n",
       "392 552514273      932  56748   6966  185.714425  552514273         0  \n",
       "    552514407      886  56748   6966  185.578268  552514407         0  \n",
       "    552709867      880  56748   6966  185.466450  552709867         0  "
      ]
     },
     "execution_count": 1081,
     "metadata": {},
     "output_type": "execute_result"
    }
   ],
   "source": [
    "#Eliminate quasars that have THING_ID == -1\n",
    "\n",
    "all_qso = only_qso[only_qso['THING_ID'] != -1].set_index(['PIX','THING_ID'], drop=False).drop('PIX', 1).sort_index()\n",
    "all_qso.head()"
   ]
  },
  {
   "cell_type": "code",
   "execution_count": 1082,
   "metadata": {
    "collapsed": false
   },
   "outputs": [
    {
     "name": "stdout",
     "output_type": "stream",
     "text": [
      "721810\n"
     ]
    }
   ],
   "source": [
    "print (len(all_qso))"
   ]
  },
  {
   "cell_type": "markdown",
   "metadata": {},
   "source": [
    "### Select  a certain pixel info"
   ]
  },
  {
   "cell_type": "code",
   "execution_count": 759,
   "metadata": {
    "collapsed": false
   },
   "outputs": [
    {
     "data": {
      "text/html": [
       "<div>\n",
       "<table border=\"1\" class=\"dataframe\">\n",
       "  <thead>\n",
       "    <tr style=\"text-align: right;\">\n",
       "      <th></th>\n",
       "      <th></th>\n",
       "      <th>BOSS_TARGET1</th>\n",
       "      <th>DEC</th>\n",
       "      <th>EBOSS_TARGET0</th>\n",
       "      <th>EBOSS_TARGET1</th>\n",
       "      <th>FIBERID</th>\n",
       "      <th>MJD</th>\n",
       "      <th>PLATE</th>\n",
       "      <th>RA</th>\n",
       "      <th>THING_ID</th>\n",
       "      <th>ZWARNING</th>\n",
       "    </tr>\n",
       "    <tr>\n",
       "      <th>PIX</th>\n",
       "      <th>THING_ID</th>\n",
       "      <th></th>\n",
       "      <th></th>\n",
       "      <th></th>\n",
       "      <th></th>\n",
       "      <th></th>\n",
       "      <th></th>\n",
       "      <th></th>\n",
       "      <th></th>\n",
       "      <th></th>\n",
       "      <th></th>\n",
       "    </tr>\n",
       "  </thead>\n",
       "  <tbody>\n",
       "    <tr>\n",
       "      <th rowspan=\"5\" valign=\"top\">450</th>\n",
       "      <th>550116719</th>\n",
       "      <td>2199023255552</td>\n",
       "      <td>66.581635</td>\n",
       "      <td>0</td>\n",
       "      <td>0</td>\n",
       "      <td>914</td>\n",
       "      <td>56720</td>\n",
       "      <td>6975</td>\n",
       "      <td>185.252205</td>\n",
       "      <td>550116719</td>\n",
       "      <td>0</td>\n",
       "    </tr>\n",
       "    <tr>\n",
       "      <th>550164118</th>\n",
       "      <td>2199023796224</td>\n",
       "      <td>66.543038</td>\n",
       "      <td>0</td>\n",
       "      <td>0</td>\n",
       "      <td>86</td>\n",
       "      <td>56748</td>\n",
       "      <td>6966</td>\n",
       "      <td>185.340753</td>\n",
       "      <td>550164118</td>\n",
       "      <td>0</td>\n",
       "    </tr>\n",
       "    <tr>\n",
       "      <th>550164118</th>\n",
       "      <td>2199023796224</td>\n",
       "      <td>66.543038</td>\n",
       "      <td>0</td>\n",
       "      <td>0</td>\n",
       "      <td>493</td>\n",
       "      <td>56720</td>\n",
       "      <td>7120</td>\n",
       "      <td>185.340753</td>\n",
       "      <td>550164118</td>\n",
       "      <td>0</td>\n",
       "    </tr>\n",
       "    <tr>\n",
       "      <th>550452152</th>\n",
       "      <td>2199023779840</td>\n",
       "      <td>66.701205</td>\n",
       "      <td>0</td>\n",
       "      <td>0</td>\n",
       "      <td>976</td>\n",
       "      <td>56720</td>\n",
       "      <td>6975</td>\n",
       "      <td>185.282387</td>\n",
       "      <td>550452152</td>\n",
       "      <td>0</td>\n",
       "    </tr>\n",
       "    <tr>\n",
       "      <th>550452390</th>\n",
       "      <td>3298535424000</td>\n",
       "      <td>66.775943</td>\n",
       "      <td>0</td>\n",
       "      <td>0</td>\n",
       "      <td>92</td>\n",
       "      <td>56748</td>\n",
       "      <td>6966</td>\n",
       "      <td>185.511519</td>\n",
       "      <td>550452390</td>\n",
       "      <td>0</td>\n",
       "    </tr>\n",
       "  </tbody>\n",
       "</table>\n",
       "</div>"
      ],
      "text/plain": [
       "                BOSS_TARGET1        DEC  EBOSS_TARGET0  EBOSS_TARGET1  \\\n",
       "PIX THING_ID                                                            \n",
       "450 550116719  2199023255552  66.581635              0              0   \n",
       "    550164118  2199023796224  66.543038              0              0   \n",
       "    550164118  2199023796224  66.543038              0              0   \n",
       "    550452152  2199023779840  66.701205              0              0   \n",
       "    550452390  3298535424000  66.775943              0              0   \n",
       "\n",
       "               FIBERID    MJD  PLATE          RA   THING_ID  ZWARNING  \n",
       "PIX THING_ID                                                           \n",
       "450 550116719      914  56720   6975  185.252205  550116719         0  \n",
       "    550164118       86  56748   6966  185.340753  550164118         0  \n",
       "    550164118      493  56720   7120  185.340753  550164118         0  \n",
       "    550452152      976  56720   6975  185.282387  550452152         0  \n",
       "    550452390       92  56748   6966  185.511519  550452390         0  "
      ]
     },
     "execution_count": 759,
     "metadata": {},
     "output_type": "execute_result"
    }
   ],
   "source": [
    "#only the first rows of pixel 393\n",
    "all_qso.query('PIX == 450 | PIX == 796').head()"
   ]
  },
  {
   "cell_type": "code",
   "execution_count": 760,
   "metadata": {
    "collapsed": false
   },
   "outputs": [
    {
     "name": "stdout",
     "output_type": "stream",
     "text": [
      "# of THING_IDs within this pixel = 14\n",
      "# of unique THING_IDs within this pixel = 14\n"
     ]
    }
   ],
   "source": [
    "print '# of THING_IDs within this pixel =', len(all_qso.loc[392].index)\n",
    "print '# of unique THING_IDs within this pixel =', len(all_qso.loc[392].index.unique())"
   ]
  },
  {
   "cell_type": "code",
   "execution_count": 762,
   "metadata": {
    "collapsed": false
   },
   "outputs": [
    {
     "data": {
      "text/plain": [
       "True"
      ]
     },
     "execution_count": 762,
     "metadata": {},
     "output_type": "execute_result"
    }
   ],
   "source": [
    "ss = all_qso.query('PIX == 450').groupby('THING_ID').size()\n",
    "ss[ss>3].empty "
   ]
  },
  {
   "cell_type": "code",
   "execution_count": 763,
   "metadata": {
    "collapsed": false
   },
   "outputs": [
    {
     "data": {
      "text/plain": [
       "68335"
      ]
     },
     "execution_count": 763,
     "metadata": {},
     "output_type": "execute_result"
    }
   ],
   "source": [
    "len(all_qso)- len(all_qso['THING_ID'].unique())"
   ]
  },
  {
   "cell_type": "code",
   "execution_count": 765,
   "metadata": {
    "collapsed": false
   },
   "outputs": [],
   "source": [
    "pix_values = all_qso.index.values\n",
    "\n",
    "set_pix = set(pix_values)\n",
    "list_pix= list(set_pix)"
   ]
  },
  {
   "cell_type": "code",
   "execution_count": 766,
   "metadata": {
    "collapsed": false
   },
   "outputs": [],
   "source": [
    "def pix_with_uniqueid(pix_id, max_rep):\n",
    "    rep_thing_id = all_qso.query('PIX == {}'.format(pix_id)).groupby('THING_ID').size()\n",
    "    if not rep_thing_id[rep_thing_id> max_rep].empty:\n",
    "        print rep_thing_id[rep_thing_id> max_rep]\n",
    "    "
   ]
  },
  {
   "cell_type": "code",
   "execution_count": 767,
   "metadata": {
    "collapsed": false
   },
   "outputs": [
    {
     "name": "stdout",
     "output_type": "stream",
     "text": [
      "THING_ID\n",
      "341840093    5\n",
      "dtype: int64\n",
      "THING_ID\n",
      "493044557    5\n",
      "493044566    5\n",
      "dtype: int64\n",
      "THING_ID\n",
      "492814652    5\n",
      "dtype: int64\n",
      "THING_ID\n",
      "103525683    14\n",
      "103525770    16\n",
      "103526510    14\n",
      "106363307    16\n",
      "106364494    16\n",
      "106365271    14\n",
      "106366014    14\n",
      "106367792    14\n",
      "106368778    16\n",
      "106369646    17\n",
      "106370968    15\n",
      "106371135    16\n",
      "110624111    15\n",
      "110626380    14\n",
      "110626688    14\n",
      "110627392    14\n",
      "110627658    16\n",
      "110628288    14\n",
      "110628681    17\n",
      "110629518    14\n",
      "110629784    14\n",
      "110630924    15\n",
      "110630953    14\n",
      "110631121    14\n",
      "110632201    17\n",
      "110633310    16\n",
      "116045026    17\n",
      "117500366    14\n",
      "117587824    17\n",
      "117587864    14\n",
      "117727485    14\n",
      "117755110    17\n",
      "117770491    14\n",
      "117779618    16\n",
      "117793096    14\n",
      "117805119    14\n",
      "117819099    14\n",
      "117840082    14\n",
      "122364168    14\n",
      "122648904    14\n",
      "122667423    14\n",
      "122667772    14\n",
      "122668008    15\n",
      "122686196    15\n",
      "122714605    17\n",
      "122784266    14\n",
      "122784797    14\n",
      "124737036     5\n",
      "dtype: int64\n",
      "THING_ID\n",
      "461347713    5\n",
      "464694423    5\n",
      "dtype: int64\n",
      "THING_ID\n",
      "489567549    5\n",
      "dtype: int64\n"
     ]
    }
   ],
   "source": [
    "for i in list_pix[:200]:\n",
    "    pix_with_uniqueid(i, 4)"
   ]
  },
  {
   "cell_type": "code",
   "execution_count": 916,
   "metadata": {
    "collapsed": true
   },
   "outputs": [],
   "source": [
    "\n",
    "def get_file(plate, name_of_file):\n",
    "    url = 'https://data.sdss.org/sas/ebosswork/eboss/spectro/redux/v5_10_0/spectra/%s/%s'%(plate,name_of_file)\n",
    "    username = 'sdss'\n",
    "    password = '2.5-meters'\n",
    "\n",
    "    # I have had to add a carriage return ('%s:%s\\n'), but\n",
    "    # you may not have to.\n",
    "    b64login = b64encode('%s:%s' % (username, password))\n",
    "\n",
    "    br = mechanize.Browser()\n",
    "    br.set_handle_robots(False)\n",
    "    # # I needed to change to Mozilla for mine, but most do not\n",
    "    # br.addheaders= [('User-agent', 'Mozilla/5.0')]\n",
    "\n",
    "    br.addheaders.append( \n",
    "      ('Authorization', 'Basic %s' % b64login )\n",
    "    )\n",
    "\n",
    "    br.open(url)\n",
    "    r = br.response()\n",
    "    data = r.read()\n",
    "\n",
    "    with open('%s'%(name_of_file),'wb') as output:\n",
    "          output.write(data)"
   ]
  },
  {
   "cell_type": "markdown",
   "metadata": {},
   "source": [
    "## Quasars with same THING_ID"
   ]
  },
  {
   "cell_type": "code",
   "execution_count": 1058,
   "metadata": {
    "collapsed": false
   },
   "outputs": [
    {
     "data": {
      "text/html": [
       "<div>\n",
       "<table border=\"1\" class=\"dataframe\">\n",
       "  <thead>\n",
       "    <tr style=\"text-align: right;\">\n",
       "      <th></th>\n",
       "      <th></th>\n",
       "      <th>BOSS_TARGET1</th>\n",
       "      <th>DEC</th>\n",
       "      <th>EBOSS_TARGET0</th>\n",
       "      <th>EBOSS_TARGET1</th>\n",
       "      <th>FIBERID</th>\n",
       "      <th>MJD</th>\n",
       "      <th>PLATE</th>\n",
       "      <th>RA</th>\n",
       "      <th>THING_ID</th>\n",
       "      <th>ZWARNING</th>\n",
       "    </tr>\n",
       "    <tr>\n",
       "      <th>PIX</th>\n",
       "      <th>THING_ID</th>\n",
       "      <th></th>\n",
       "      <th></th>\n",
       "      <th></th>\n",
       "      <th></th>\n",
       "      <th></th>\n",
       "      <th></th>\n",
       "      <th></th>\n",
       "      <th></th>\n",
       "      <th></th>\n",
       "      <th></th>\n",
       "    </tr>\n",
       "  </thead>\n",
       "  <tbody>\n",
       "    <tr>\n",
       "      <th rowspan=\"17\" valign=\"top\">5965</th>\n",
       "      <th>106369646</th>\n",
       "      <td>217088</td>\n",
       "      <td>0.42662</td>\n",
       "      <td>0</td>\n",
       "      <td>0</td>\n",
       "      <td>693</td>\n",
       "      <td>55179</td>\n",
       "      <td>3615</td>\n",
       "      <td>36.840932</td>\n",
       "      <td>106369646</td>\n",
       "      <td>0</td>\n",
       "    </tr>\n",
       "    <tr>\n",
       "      <th>106369646</th>\n",
       "      <td>217088</td>\n",
       "      <td>0.42662</td>\n",
       "      <td>0</td>\n",
       "      <td>0</td>\n",
       "      <td>691</td>\n",
       "      <td>55208</td>\n",
       "      <td>3615</td>\n",
       "      <td>36.840932</td>\n",
       "      <td>106369646</td>\n",
       "      <td>0</td>\n",
       "    </tr>\n",
       "    <tr>\n",
       "      <th>106369646</th>\n",
       "      <td>217088</td>\n",
       "      <td>0.42662</td>\n",
       "      <td>0</td>\n",
       "      <td>0</td>\n",
       "      <td>685</td>\n",
       "      <td>55445</td>\n",
       "      <td>3615</td>\n",
       "      <td>36.840932</td>\n",
       "      <td>106369646</td>\n",
       "      <td>0</td>\n",
       "    </tr>\n",
       "    <tr>\n",
       "      <th>106369646</th>\n",
       "      <td>217088</td>\n",
       "      <td>0.42662</td>\n",
       "      <td>0</td>\n",
       "      <td>0</td>\n",
       "      <td>699</td>\n",
       "      <td>55856</td>\n",
       "      <td>3615</td>\n",
       "      <td>36.840932</td>\n",
       "      <td>106369646</td>\n",
       "      <td>0</td>\n",
       "    </tr>\n",
       "    <tr>\n",
       "      <th>106369646</th>\n",
       "      <td>217088</td>\n",
       "      <td>0.42662</td>\n",
       "      <td>0</td>\n",
       "      <td>0</td>\n",
       "      <td>693</td>\n",
       "      <td>56219</td>\n",
       "      <td>3615</td>\n",
       "      <td>36.840932</td>\n",
       "      <td>106369646</td>\n",
       "      <td>0</td>\n",
       "    </tr>\n",
       "    <tr>\n",
       "      <th>106369646</th>\n",
       "      <td>217088</td>\n",
       "      <td>0.42662</td>\n",
       "      <td>0</td>\n",
       "      <td>0</td>\n",
       "      <td>713</td>\n",
       "      <td>56544</td>\n",
       "      <td>3615</td>\n",
       "      <td>36.840932</td>\n",
       "      <td>106369646</td>\n",
       "      <td>0</td>\n",
       "    </tr>\n",
       "    <tr>\n",
       "      <th>106369646</th>\n",
       "      <td>217088</td>\n",
       "      <td>0.42662</td>\n",
       "      <td>0</td>\n",
       "      <td>0</td>\n",
       "      <td>692</td>\n",
       "      <td>55181</td>\n",
       "      <td>3647</td>\n",
       "      <td>36.840932</td>\n",
       "      <td>106369646</td>\n",
       "      <td>0</td>\n",
       "    </tr>\n",
       "    <tr>\n",
       "      <th>106369646</th>\n",
       "      <td>217088</td>\n",
       "      <td>0.42662</td>\n",
       "      <td>0</td>\n",
       "      <td>0</td>\n",
       "      <td>690</td>\n",
       "      <td>55241</td>\n",
       "      <td>3647</td>\n",
       "      <td>36.840932</td>\n",
       "      <td>106369646</td>\n",
       "      <td>0</td>\n",
       "    </tr>\n",
       "    <tr>\n",
       "      <th>106369646</th>\n",
       "      <td>217088</td>\n",
       "      <td>0.42662</td>\n",
       "      <td>0</td>\n",
       "      <td>0</td>\n",
       "      <td>712</td>\n",
       "      <td>55476</td>\n",
       "      <td>3647</td>\n",
       "      <td>36.840932</td>\n",
       "      <td>106369646</td>\n",
       "      <td>0</td>\n",
       "    </tr>\n",
       "    <tr>\n",
       "      <th>106369646</th>\n",
       "      <td>217088</td>\n",
       "      <td>0.42662</td>\n",
       "      <td>0</td>\n",
       "      <td>0</td>\n",
       "      <td>690</td>\n",
       "      <td>55827</td>\n",
       "      <td>3647</td>\n",
       "      <td>36.840932</td>\n",
       "      <td>106369646</td>\n",
       "      <td>0</td>\n",
       "    </tr>\n",
       "    <tr>\n",
       "      <th>106369646</th>\n",
       "      <td>217088</td>\n",
       "      <td>0.42662</td>\n",
       "      <td>0</td>\n",
       "      <td>0</td>\n",
       "      <td>646</td>\n",
       "      <td>55945</td>\n",
       "      <td>3647</td>\n",
       "      <td>36.840932</td>\n",
       "      <td>106369646</td>\n",
       "      <td>0</td>\n",
       "    </tr>\n",
       "    <tr>\n",
       "      <th>106369646</th>\n",
       "      <td>217088</td>\n",
       "      <td>0.42662</td>\n",
       "      <td>0</td>\n",
       "      <td>0</td>\n",
       "      <td>692</td>\n",
       "      <td>56219</td>\n",
       "      <td>3647</td>\n",
       "      <td>36.840932</td>\n",
       "      <td>106369646</td>\n",
       "      <td>0</td>\n",
       "    </tr>\n",
       "    <tr>\n",
       "      <th>106369646</th>\n",
       "      <td>217088</td>\n",
       "      <td>0.42662</td>\n",
       "      <td>0</td>\n",
       "      <td>0</td>\n",
       "      <td>700</td>\n",
       "      <td>56568</td>\n",
       "      <td>3647</td>\n",
       "      <td>36.840932</td>\n",
       "      <td>106369646</td>\n",
       "      <td>0</td>\n",
       "    </tr>\n",
       "    <tr>\n",
       "      <th>106369646</th>\n",
       "      <td>217088</td>\n",
       "      <td>0.42662</td>\n",
       "      <td>0</td>\n",
       "      <td>0</td>\n",
       "      <td>684</td>\n",
       "      <td>56596</td>\n",
       "      <td>3647</td>\n",
       "      <td>36.840932</td>\n",
       "      <td>106369646</td>\n",
       "      <td>0</td>\n",
       "    </tr>\n",
       "    <tr>\n",
       "      <th>106369646</th>\n",
       "      <td>2199023259648</td>\n",
       "      <td>0.42662</td>\n",
       "      <td>0</td>\n",
       "      <td>0</td>\n",
       "      <td>988</td>\n",
       "      <td>55478</td>\n",
       "      <td>4237</td>\n",
       "      <td>36.840932</td>\n",
       "      <td>106369646</td>\n",
       "      <td>0</td>\n",
       "    </tr>\n",
       "    <tr>\n",
       "      <th>106369646</th>\n",
       "      <td>2199023259648</td>\n",
       "      <td>0.42662</td>\n",
       "      <td>0</td>\n",
       "      <td>0</td>\n",
       "      <td>684</td>\n",
       "      <td>55455</td>\n",
       "      <td>4238</td>\n",
       "      <td>36.840932</td>\n",
       "      <td>106369646</td>\n",
       "      <td>0</td>\n",
       "    </tr>\n",
       "    <tr>\n",
       "      <th>106369646</th>\n",
       "      <td>0</td>\n",
       "      <td>0.42662</td>\n",
       "      <td>0</td>\n",
       "      <td>4096</td>\n",
       "      <td>641</td>\n",
       "      <td>57039</td>\n",
       "      <td>7828</td>\n",
       "      <td>36.840932</td>\n",
       "      <td>106369646</td>\n",
       "      <td>0</td>\n",
       "    </tr>\n",
       "  </tbody>\n",
       "</table>\n",
       "</div>"
      ],
      "text/plain": [
       "                 BOSS_TARGET1      DEC  EBOSS_TARGET0  EBOSS_TARGET1  FIBERID  \\\n",
       "PIX  THING_ID                                                                   \n",
       "5965 106369646         217088  0.42662              0              0      693   \n",
       "     106369646         217088  0.42662              0              0      691   \n",
       "     106369646         217088  0.42662              0              0      685   \n",
       "     106369646         217088  0.42662              0              0      699   \n",
       "     106369646         217088  0.42662              0              0      693   \n",
       "     106369646         217088  0.42662              0              0      713   \n",
       "     106369646         217088  0.42662              0              0      692   \n",
       "     106369646         217088  0.42662              0              0      690   \n",
       "     106369646         217088  0.42662              0              0      712   \n",
       "     106369646         217088  0.42662              0              0      690   \n",
       "     106369646         217088  0.42662              0              0      646   \n",
       "     106369646         217088  0.42662              0              0      692   \n",
       "     106369646         217088  0.42662              0              0      700   \n",
       "     106369646         217088  0.42662              0              0      684   \n",
       "     106369646  2199023259648  0.42662              0              0      988   \n",
       "     106369646  2199023259648  0.42662              0              0      684   \n",
       "     106369646              0  0.42662              0           4096      641   \n",
       "\n",
       "                  MJD  PLATE         RA   THING_ID  ZWARNING  \n",
       "PIX  THING_ID                                                 \n",
       "5965 106369646  55179   3615  36.840932  106369646         0  \n",
       "     106369646  55208   3615  36.840932  106369646         0  \n",
       "     106369646  55445   3615  36.840932  106369646         0  \n",
       "     106369646  55856   3615  36.840932  106369646         0  \n",
       "     106369646  56219   3615  36.840932  106369646         0  \n",
       "     106369646  56544   3615  36.840932  106369646         0  \n",
       "     106369646  55181   3647  36.840932  106369646         0  \n",
       "     106369646  55241   3647  36.840932  106369646         0  \n",
       "     106369646  55476   3647  36.840932  106369646         0  \n",
       "     106369646  55827   3647  36.840932  106369646         0  \n",
       "     106369646  55945   3647  36.840932  106369646         0  \n",
       "     106369646  56219   3647  36.840932  106369646         0  \n",
       "     106369646  56568   3647  36.840932  106369646         0  \n",
       "     106369646  56596   3647  36.840932  106369646         0  \n",
       "     106369646  55478   4237  36.840932  106369646         0  \n",
       "     106369646  55455   4238  36.840932  106369646         0  \n",
       "     106369646  57039   7828  36.840932  106369646         0  "
      ]
     },
     "execution_count": 1058,
     "metadata": {},
     "output_type": "execute_result"
    }
   ],
   "source": [
    "thing_id = 106369646\n",
    "all_qso.query('THING_ID == %s'%(thing_id))"
   ]
  },
  {
   "cell_type": "code",
   "execution_count": 1059,
   "metadata": {
    "collapsed": false
   },
   "outputs": [],
   "source": [
    "plates = list(all_qso.query('THING_ID == %s'%(thing_id))['PLATE'].values)\n",
    "mjds = list(all_qso.query('THING_ID == %s'%(thing_id))['MJD'].values)\n",
    "fiberids = list(all_qso.query('THING_ID == %s'%(thing_id))['FIBERID'].values)"
   ]
  },
  {
   "cell_type": "code",
   "execution_count": 1060,
   "metadata": {
    "collapsed": false
   },
   "outputs": [
    {
     "name": "stdout",
     "output_type": "stream",
     "text": [
      "['spec-3615-55179-0693.fits', 'spec-3615-55208-0691.fits', 'spec-3615-55445-0685.fits', 'spec-3615-55856-0699.fits', 'spec-3615-56219-0693.fits', 'spec-3615-56544-0713.fits', 'spec-3647-55181-0692.fits', 'spec-3647-55241-0690.fits', 'spec-3647-55476-0712.fits', 'spec-3647-55827-0690.fits', 'spec-3647-55945-0646.fits', 'spec-3647-56219-0692.fits', 'spec-3647-56568-0700.fits', 'spec-3647-56596-0684.fits', 'spec-4237-55478-0988.fits', 'spec-4238-55455-0684.fits', 'spec-7828-57039-0641.fits'] ['3615', '3615', '3615', '3615', '3615', '3615', '3647', '3647', '3647', '3647', '3647', '3647', '3647', '3647', '4237', '4238', '7828']\n"
     ]
    }
   ],
   "source": [
    "files = ['spec-%s-%s-%s.fits'%(plate,mjd,str(fiberid).zfill(4)) for plate,mjd,fiberid in zip(plates,mjds,fiberids)]\n",
    "plate_n = ['%s'%(plate) for plate in plates]\n",
    "print files, plate_n"
   ]
  },
  {
   "cell_type": "code",
   "execution_count": 1061,
   "metadata": {
    "collapsed": false
   },
   "outputs": [],
   "source": [
    "for plate, names in zip(plates, files):\n",
    "    get_file(plate, names)"
   ]
  },
  {
   "cell_type": "code",
   "execution_count": 1062,
   "metadata": {
    "collapsed": false
   },
   "outputs": [],
   "source": [
    "def read_flux(files):\n",
    "    fits = fitsio.FITS(files)\n",
    "    cols = ['flux','loglam','ivar','and_mask','or_mask', 'sky', 'wdisp', 'model']\n",
    "    d = {col: fits[1][col].read().byteswap().newbyteorder() for col in cols}\n",
    "    df = pd.DataFrame(d)\n",
    "    return df"
   ]
  },
  {
   "cell_type": "code",
   "execution_count": 1063,
   "metadata": {
    "collapsed": false
   },
   "outputs": [],
   "source": [
    "dt_s=[]\n",
    "for l in files:\n",
    "        dt_x = read_flux(l).set_index('loglam')\n",
    "        dt_s.append(dt_x)"
   ]
  },
  {
   "cell_type": "code",
   "execution_count": 1064,
   "metadata": {
    "collapsed": false
   },
   "outputs": [],
   "source": [
    "# Masking\n",
    "mask=[]\n",
    "for s in dt_s:\n",
    "    mask.append(s.query('and_mask==0 & or_mask==0').copy())"
   ]
  },
  {
   "cell_type": "code",
   "execution_count": 1065,
   "metadata": {
    "collapsed": false
   },
   "outputs": [
    {
     "data": {
      "text/html": [
       "<div>\n",
       "<table border=\"1\" class=\"dataframe\">\n",
       "  <thead>\n",
       "    <tr style=\"text-align: right;\">\n",
       "      <th></th>\n",
       "      <th>and_mask</th>\n",
       "      <th>flux</th>\n",
       "      <th>ivar</th>\n",
       "      <th>model</th>\n",
       "      <th>or_mask</th>\n",
       "      <th>sky</th>\n",
       "      <th>wdisp</th>\n",
       "    </tr>\n",
       "    <tr>\n",
       "      <th>loglam</th>\n",
       "      <th></th>\n",
       "      <th></th>\n",
       "      <th></th>\n",
       "      <th></th>\n",
       "      <th></th>\n",
       "      <th></th>\n",
       "      <th></th>\n",
       "    </tr>\n",
       "  </thead>\n",
       "  <tbody>\n",
       "    <tr>\n",
       "      <th>3.5568</th>\n",
       "      <td>0</td>\n",
       "      <td>3.458888</td>\n",
       "      <td>0.091799</td>\n",
       "      <td>1.213686</td>\n",
       "      <td>0</td>\n",
       "      <td>3.295893</td>\n",
       "      <td>1.327138</td>\n",
       "    </tr>\n",
       "    <tr>\n",
       "      <th>3.5569</th>\n",
       "      <td>0</td>\n",
       "      <td>-4.262443</td>\n",
       "      <td>0.107146</td>\n",
       "      <td>1.207373</td>\n",
       "      <td>0</td>\n",
       "      <td>2.727138</td>\n",
       "      <td>1.327356</td>\n",
       "    </tr>\n",
       "    <tr>\n",
       "      <th>3.5570</th>\n",
       "      <td>0</td>\n",
       "      <td>-6.218005</td>\n",
       "      <td>0.117155</td>\n",
       "      <td>1.215648</td>\n",
       "      <td>0</td>\n",
       "      <td>2.182058</td>\n",
       "      <td>1.324017</td>\n",
       "    </tr>\n",
       "    <tr>\n",
       "      <th>3.5571</th>\n",
       "      <td>0</td>\n",
       "      <td>1.586812</td>\n",
       "      <td>0.111463</td>\n",
       "      <td>1.228762</td>\n",
       "      <td>0</td>\n",
       "      <td>1.973585</td>\n",
       "      <td>1.331405</td>\n",
       "    </tr>\n",
       "    <tr>\n",
       "      <th>3.5572</th>\n",
       "      <td>0</td>\n",
       "      <td>-0.065183</td>\n",
       "      <td>0.115181</td>\n",
       "      <td>1.256719</td>\n",
       "      <td>0</td>\n",
       "      <td>2.351248</td>\n",
       "      <td>1.340975</td>\n",
       "    </tr>\n",
       "  </tbody>\n",
       "</table>\n",
       "</div>"
      ],
      "text/plain": [
       "        and_mask      flux      ivar     model  or_mask       sky     wdisp\n",
       "loglam                                                                     \n",
       "3.5568         0  3.458888  0.091799  1.213686        0  3.295893  1.327138\n",
       "3.5569         0 -4.262443  0.107146  1.207373        0  2.727138  1.327356\n",
       "3.5570         0 -6.218005  0.117155  1.215648        0  2.182058  1.324017\n",
       "3.5571         0  1.586812  0.111463  1.228762        0  1.973585  1.331405\n",
       "3.5572         0 -0.065183  0.115181  1.256719        0  2.351248  1.340975"
      ]
     },
     "execution_count": 1065,
     "metadata": {},
     "output_type": "execute_result"
    }
   ],
   "source": [
    "mask[1].head()"
   ]
  },
  {
   "cell_type": "code",
   "execution_count": 1066,
   "metadata": {
    "collapsed": false
   },
   "outputs": [
    {
     "data": {
      "text/plain": [
       "<matplotlib.legend.Legend at 0x1bbf73ad0>"
      ]
     },
     "execution_count": 1066,
     "metadata": {},
     "output_type": "execute_result"
    },
    {
     "data": {
      "image/png": "[encoded data removed]",
      "text/plain": [
       "<matplotlib.figure.Figure at 0x1bbf73b10>"
      ]
     },
     "metadata": {},
     "output_type": "display_data"
    }
   ],
   "source": [
    "fig = plt.figure(figsize = (15, 10))\n",
    "xlimits = [3.55,4]\n",
    "ylimits = [-10,20]\n",
    "for i in range(len(files)):\n",
    "    dt_s[i]['flux'].plot(label=files[i])\n",
    "dt_s[4]['flux'].plot(xlim=xlimits, ylim=ylimits, label=files_5) \n",
    "plt.legend(loc='best')"
   ]
  },
  {
   "cell_type": "code",
   "execution_count": 1067,
   "metadata": {
    "collapsed": false
   },
   "outputs": [],
   "source": [
    "#print [len(mask[i]) for i in range(5)]\n",
    "#for i in range(5):\n",
    "#    print (mask[i].index.values.min()- mask[i].index.values.max())/len(mask[i])\n",
    "#for i in range(len(files)):\n",
    "#    x=dt_s[i].index.values\n",
    "    #print(len(x))\n",
    "    #print (x[-1]-x[0])/(len(x)-1)"
   ]
  },
  {
   "cell_type": "code",
   "execution_count": 1068,
   "metadata": {
    "collapsed": false
   },
   "outputs": [],
   "source": [
    "#fig = plt.figure(figsize = (15, 10))\n",
    "#ax= plt.subplot(1,1,1)\n",
    "##dt_s\n",
    "#mask[0][['flux','model', 'ivar']].plot(ax=ax)\n",
    "#mask[1][['flux','model', 'ivar']].plot(ax=ax)"
   ]
  },
  {
   "cell_type": "code",
   "execution_count": 1069,
   "metadata": {
    "collapsed": false
   },
   "outputs": [],
   "source": [
    "#fits = fitsio.FITS(files[0])\n",
    "#coeff0, coeff1 = fits[0].read_header()['COEFF0'], fits[0].read_header()['COEFF1']\n",
    "#for f in files:\n",
    "#    fits = fitsio.FITS(f)\n",
    "#    print fits[0].read_header()['COEFF0'], fits[0].read_header()['COEFF1']\n",
    "\n",
    "#for i in range(len(files)):\n",
    "#    x=dt_s[i].index.values\n",
    "#    print (x[-1]-x[0])/(len(x)-1), len(x)"
   ]
  },
  {
   "cell_type": "code",
   "execution_count": 1070,
   "metadata": {
    "collapsed": false
   },
   "outputs": [],
   "source": [
    "for i in range(len(files)):\n",
    "        dt_s[i]['flux_%s'%(i)] = dt_s[i]['flux']\n",
    "        dt_s[i]['ivar_%s'%(i)] = dt_s[i]['ivar']"
   ]
  },
  {
   "cell_type": "code",
   "execution_count": 1071,
   "metadata": {
    "collapsed": false
   },
   "outputs": [
    {
     "data": {
      "text/html": [
       "<div>\n",
       "<table border=\"1\" class=\"dataframe\">\n",
       "  <thead>\n",
       "    <tr style=\"text-align: right;\">\n",
       "      <th></th>\n",
       "      <th>flux_0</th>\n",
       "      <th>ivar_0</th>\n",
       "      <th>flux_1</th>\n",
       "      <th>ivar_1</th>\n",
       "      <th>flux_2</th>\n",
       "      <th>ivar_2</th>\n",
       "      <th>flux_3</th>\n",
       "      <th>ivar_3</th>\n",
       "      <th>flux_4</th>\n",
       "      <th>ivar_4</th>\n",
       "      <th>...</th>\n",
       "      <th>flux_12</th>\n",
       "      <th>ivar_12</th>\n",
       "      <th>flux_13</th>\n",
       "      <th>ivar_13</th>\n",
       "      <th>flux_14</th>\n",
       "      <th>ivar_14</th>\n",
       "      <th>flux_15</th>\n",
       "      <th>ivar_15</th>\n",
       "      <th>flux_16</th>\n",
       "      <th>ivar_16</th>\n",
       "    </tr>\n",
       "    <tr>\n",
       "      <th>loglam</th>\n",
       "      <th></th>\n",
       "      <th></th>\n",
       "      <th></th>\n",
       "      <th></th>\n",
       "      <th></th>\n",
       "      <th></th>\n",
       "      <th></th>\n",
       "      <th></th>\n",
       "      <th></th>\n",
       "      <th></th>\n",
       "      <th></th>\n",
       "      <th></th>\n",
       "      <th></th>\n",
       "      <th></th>\n",
       "      <th></th>\n",
       "      <th></th>\n",
       "      <th></th>\n",
       "      <th></th>\n",
       "      <th></th>\n",
       "      <th></th>\n",
       "      <th></th>\n",
       "    </tr>\n",
       "  </thead>\n",
       "  <tbody>\n",
       "    <tr>\n",
       "      <th>3.5525</th>\n",
       "      <td>0.0</td>\n",
       "      <td>0.0</td>\n",
       "      <td>0.0</td>\n",
       "      <td>0.0</td>\n",
       "      <td>0.0</td>\n",
       "      <td>0.0</td>\n",
       "      <td>0.0</td>\n",
       "      <td>0.0</td>\n",
       "      <td>0.0</td>\n",
       "      <td>0.0</td>\n",
       "      <td>...</td>\n",
       "      <td>0.0</td>\n",
       "      <td>0.0</td>\n",
       "      <td>0.0</td>\n",
       "      <td>0.0</td>\n",
       "      <td>0.0</td>\n",
       "      <td>0.0</td>\n",
       "      <td>0.0</td>\n",
       "      <td>0.0</td>\n",
       "      <td>0.0</td>\n",
       "      <td>0.0</td>\n",
       "    </tr>\n",
       "    <tr>\n",
       "      <th>3.5526</th>\n",
       "      <td>0.0</td>\n",
       "      <td>0.0</td>\n",
       "      <td>0.0</td>\n",
       "      <td>0.0</td>\n",
       "      <td>0.0</td>\n",
       "      <td>0.0</td>\n",
       "      <td>0.0</td>\n",
       "      <td>0.0</td>\n",
       "      <td>0.0</td>\n",
       "      <td>0.0</td>\n",
       "      <td>...</td>\n",
       "      <td>0.0</td>\n",
       "      <td>0.0</td>\n",
       "      <td>0.0</td>\n",
       "      <td>0.0</td>\n",
       "      <td>0.0</td>\n",
       "      <td>0.0</td>\n",
       "      <td>0.0</td>\n",
       "      <td>0.0</td>\n",
       "      <td>0.0</td>\n",
       "      <td>0.0</td>\n",
       "    </tr>\n",
       "    <tr>\n",
       "      <th>3.5527</th>\n",
       "      <td>0.0</td>\n",
       "      <td>0.0</td>\n",
       "      <td>0.0</td>\n",
       "      <td>0.0</td>\n",
       "      <td>0.0</td>\n",
       "      <td>0.0</td>\n",
       "      <td>0.0</td>\n",
       "      <td>0.0</td>\n",
       "      <td>0.0</td>\n",
       "      <td>0.0</td>\n",
       "      <td>...</td>\n",
       "      <td>0.0</td>\n",
       "      <td>0.0</td>\n",
       "      <td>0.0</td>\n",
       "      <td>0.0</td>\n",
       "      <td>0.0</td>\n",
       "      <td>0.0</td>\n",
       "      <td>0.0</td>\n",
       "      <td>0.0</td>\n",
       "      <td>0.0</td>\n",
       "      <td>0.0</td>\n",
       "    </tr>\n",
       "    <tr>\n",
       "      <th>3.5528</th>\n",
       "      <td>0.0</td>\n",
       "      <td>0.0</td>\n",
       "      <td>0.0</td>\n",
       "      <td>0.0</td>\n",
       "      <td>0.0</td>\n",
       "      <td>0.0</td>\n",
       "      <td>0.0</td>\n",
       "      <td>0.0</td>\n",
       "      <td>0.0</td>\n",
       "      <td>0.0</td>\n",
       "      <td>...</td>\n",
       "      <td>0.0</td>\n",
       "      <td>0.0</td>\n",
       "      <td>0.0</td>\n",
       "      <td>0.0</td>\n",
       "      <td>0.0</td>\n",
       "      <td>0.0</td>\n",
       "      <td>0.0</td>\n",
       "      <td>0.0</td>\n",
       "      <td>0.0</td>\n",
       "      <td>0.0</td>\n",
       "    </tr>\n",
       "    <tr>\n",
       "      <th>3.5529</th>\n",
       "      <td>0.0</td>\n",
       "      <td>0.0</td>\n",
       "      <td>0.0</td>\n",
       "      <td>0.0</td>\n",
       "      <td>0.0</td>\n",
       "      <td>0.0</td>\n",
       "      <td>0.0</td>\n",
       "      <td>0.0</td>\n",
       "      <td>0.0</td>\n",
       "      <td>0.0</td>\n",
       "      <td>...</td>\n",
       "      <td>0.0</td>\n",
       "      <td>0.0</td>\n",
       "      <td>0.0</td>\n",
       "      <td>0.0</td>\n",
       "      <td>0.0</td>\n",
       "      <td>0.0</td>\n",
       "      <td>0.0</td>\n",
       "      <td>0.0</td>\n",
       "      <td>0.0</td>\n",
       "      <td>0.0</td>\n",
       "    </tr>\n",
       "  </tbody>\n",
       "</table>\n",
       "<p>5 rows × 34 columns</p>\n",
       "</div>"
      ],
      "text/plain": [
       "        flux_0  ivar_0  flux_1  ivar_1  flux_2  ivar_2  flux_3  ivar_3  \\\n",
       "loglam                                                                   \n",
       "3.5525     0.0     0.0     0.0     0.0     0.0     0.0     0.0     0.0   \n",
       "3.5526     0.0     0.0     0.0     0.0     0.0     0.0     0.0     0.0   \n",
       "3.5527     0.0     0.0     0.0     0.0     0.0     0.0     0.0     0.0   \n",
       "3.5528     0.0     0.0     0.0     0.0     0.0     0.0     0.0     0.0   \n",
       "3.5529     0.0     0.0     0.0     0.0     0.0     0.0     0.0     0.0   \n",
       "\n",
       "        flux_4  ivar_4   ...     flux_12  ivar_12  flux_13  ivar_13  flux_14  \\\n",
       "loglam                   ...                                                   \n",
       "3.5525     0.0     0.0   ...         0.0      0.0      0.0      0.0      0.0   \n",
       "3.5526     0.0     0.0   ...         0.0      0.0      0.0      0.0      0.0   \n",
       "3.5527     0.0     0.0   ...         0.0      0.0      0.0      0.0      0.0   \n",
       "3.5528     0.0     0.0   ...         0.0      0.0      0.0      0.0      0.0   \n",
       "3.5529     0.0     0.0   ...         0.0      0.0      0.0      0.0      0.0   \n",
       "\n",
       "        ivar_14  flux_15  ivar_15  flux_16  ivar_16  \n",
       "loglam                                               \n",
       "3.5525      0.0      0.0      0.0      0.0      0.0  \n",
       "3.5526      0.0      0.0      0.0      0.0      0.0  \n",
       "3.5527      0.0      0.0      0.0      0.0      0.0  \n",
       "3.5528      0.0      0.0      0.0      0.0      0.0  \n",
       "3.5529      0.0      0.0      0.0      0.0      0.0  \n",
       "\n",
       "[5 rows x 34 columns]"
      ]
     },
     "execution_count": 1071,
     "metadata": {},
     "output_type": "execute_result"
    }
   ],
   "source": [
    "x =range(len(files))\n",
    "result = pd.concat([dt_s[i][['flux_%s'%(i),'ivar_%s'%(i)]] for i in x], axis=1)\n",
    "all_qsos= result.fillna(0).copy()\n",
    "all_qsos.head()"
   ]
  },
  {
   "cell_type": "code",
   "execution_count": 1072,
   "metadata": {
    "collapsed": false
   },
   "outputs": [],
   "source": [
    "all_qsos['sum_flux_ivar']=0\n",
    "all_qsos['sum_ivar']=0\n",
    "for i in x:\n",
    "    all_qsos['sum_flux_ivar']+= all_qsos['flux_%s'%(i)]*all_qsos['ivar_%s'%(i)]\n",
    "    all_qsos['sum_ivar']+= all_qsos['ivar_%s'%(i)] \n",
    "all_qsos['coadd'] = all_qsos['sum_flux_ivar']/all_qsos['sum_ivar']"
   ]
  },
  {
   "cell_type": "code",
   "execution_count": 1073,
   "metadata": {
    "collapsed": false
   },
   "outputs": [
    {
     "data": {
      "text/plain": [
       "<matplotlib.legend.Legend at 0x1bafab890>"
      ]
     },
     "execution_count": 1073,
     "metadata": {},
     "output_type": "execute_result"
    },
    {
     "data": {
      "image/png": "[encoded data removed]",
      "text/plain": [
       "<matplotlib.figure.Figure at 0x1bac29b90>"
      ]
     },
     "metadata": {},
     "output_type": "display_data"
    }
   ],
   "source": [
    "fig = plt.figure(figsize = (15, 10))\n",
    "ax= plt.subplot(1,1,1)\n",
    "all_qsos['coadd'].plot(ax=ax, label='coad')\n",
    "#for i in x:\n",
    "#    all_qsos['flux_%s'%(i)].plot(ax=ax)\n",
    "plt.ylim([-10,20])\n",
    "plt.legend(loc='best')"
   ]
  },
  {
   "cell_type": "code",
   "execution_count": 1074,
   "metadata": {
    "collapsed": false
   },
   "outputs": [
    {
     "data": {
      "text/plain": [
       "array([  8.00602631,   8.92329408,   6.29712816, ...,  -1.62233003,\n",
       "        -7.45756262, -21.88217937])"
      ]
     },
     "execution_count": 1074,
     "metadata": {},
     "output_type": "execute_result"
    }
   ],
   "source": [
    "all_qsos = all_qsos.fillna(0).copy()\n",
    "all_qsos['coadd'].values"
   ]
  },
  {
   "cell_type": "code",
   "execution_count": 1075,
   "metadata": {
    "collapsed": false
   },
   "outputs": [
    {
     "name": "stdout",
     "output_type": "stream",
     "text": [
      "chi-sq= 1.18316693261 \tspec-3615-55179-0693.fits\n",
      "chi-sq= 0.814630036411 \tspec-3615-55208-0691.fits\n",
      "chi-sq= 0.950363933276 \tspec-3615-55445-0685.fits\n",
      "chi-sq= 1.02254375672 \tspec-3615-55856-0699.fits\n",
      "chi-sq= 0.862993206424 \tspec-3615-56219-0693.fits\n",
      "chi-sq= 0.974970030558 \tspec-3615-56544-0713.fits\n",
      "chi-sq= 1.0354952373 \tspec-3647-55181-0692.fits\n",
      "chi-sq= 1.39189271561 \tspec-3647-55241-0690.fits\n",
      "chi-sq= 0.926219350812 \tspec-3647-55476-0712.fits\n",
      "chi-sq= 0.935085283558 \tspec-3647-55827-0690.fits\n",
      "chi-sq= 0.979185019436 \tspec-3647-55945-0646.fits\n",
      "chi-sq= 0.864700491685 \tspec-3647-56219-0692.fits\n",
      "chi-sq= 1.0134173737 \tspec-3647-56568-0700.fits\n",
      "chi-sq= 0.948529755146 \tspec-3647-56596-0684.fits\n",
      "chi-sq= 1.16203634253 \tspec-4237-55478-0988.fits\n",
      "chi-sq= 0.854323898489 \tspec-4238-55455-0684.fits\n",
      "chi-sq= 0.979416702791 \tspec-7828-57039-0641.fits\n"
     ]
    }
   ],
   "source": [
    "for i in x:\n",
    "    chi_squared = np.sum((all_qsos['coadd'].values - all_qsos['flux_%s'%(i)].values)**2*all_qsos['ivar_%s'%(i)].values)\n",
    "    print  'chi-sq=',chi_squared/len(all_qsos.values), '\\t', files[i]"
   ]
  },
  {
   "cell_type": "code",
   "execution_count": null,
   "metadata": {
    "collapsed": false
   },
   "outputs": [],
   "source": []
  },
  {
   "cell_type": "code",
   "execution_count": null,
   "metadata": {
    "collapsed": true
   },
   "outputs": [],
   "source": []
  },
  {
   "cell_type": "code",
   "execution_count": null,
   "metadata": {
    "collapsed": true
   },
   "outputs": [],
   "source": []
  },
  {
   "cell_type": "code",
   "execution_count": null,
   "metadata": {
    "collapsed": true
   },
   "outputs": [],
   "source": []
  },
  {
   "cell_type": "code",
   "execution_count": null,
   "metadata": {
    "collapsed": true
   },
   "outputs": [],
   "source": []
  },
  {
   "cell_type": "code",
   "execution_count": null,
   "metadata": {
    "collapsed": true
   },
   "outputs": [],
   "source": []
  },
  {
   "cell_type": "code",
   "execution_count": null,
   "metadata": {
    "collapsed": false
   },
   "outputs": [],
   "source": []
  },
  {
   "cell_type": "code",
   "execution_count": null,
   "metadata": {
    "collapsed": false
   },
   "outputs": [],
   "source": []
  },
  {
   "cell_type": "code",
   "execution_count": null,
   "metadata": {
    "collapsed": false
   },
   "outputs": [],
   "source": []
  },
  {
   "cell_type": "code",
   "execution_count": null,
   "metadata": {
    "collapsed": false
   },
   "outputs": [],
   "source": []
  },
  {
   "cell_type": "code",
   "execution_count": null,
   "metadata": {
    "collapsed": false
   },
   "outputs": [],
   "source": []
  },
  {
   "cell_type": "code",
   "execution_count": null,
   "metadata": {
    "collapsed": true
   },
   "outputs": [],
   "source": []
  }
 ],
 "metadata": {
  "kernelspec": {
   "display_name": "Python 2",
   "language": "python",
   "name": "python2"
  },
  "language_info": {
   "codemirror_mode": {
    "name": "ipython",
    "version": 2
   },
   "file_extension": ".py",
   "mimetype": "text/x-python",
   "name": "python",
   "nbconvert_exporter": "python",
   "pygments_lexer": "ipython2",
   "version": "2.7.11"
  }
 },
 "nbformat": 4,
 "nbformat_minor": 0
}
