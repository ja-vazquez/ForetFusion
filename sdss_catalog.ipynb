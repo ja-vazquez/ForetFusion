{
 "cells": [
  {
   "cell_type": "code",
   "execution_count": 1,
   "metadata": {
    "collapsed": true
   },
   "outputs": [],
   "source": [
    "import fitsio\n",
    "import numpy as np\n",
    "import healpy as hp\n",
    "import pandas as pd\n",
    "import matplotlib.pyplot as plt\n",
    "\n",
    "%matplotlib inline\n",
    "\n",
    "# For the moment I'm using Pandas (based on numpy), which is a very useful tool for\n",
    "# handling tables and data.\n",
    "# I'll properly put them into classes or more organized later"
   ]
  },
  {
   "cell_type": "code",
   "execution_count": 2,
   "metadata": {
    "collapsed": true
   },
   "outputs": [],
   "source": [
    "#12GB file, be carefull\n",
    "\n",
    "file_name = 'spAll-v5_10_0.fits'"
   ]
  },
  {
   "cell_type": "code",
   "execution_count": 3,
   "metadata": {
    "collapsed": true
   },
   "outputs": [],
   "source": [
    "#The resolution of the map\n",
    "\n",
    "NSide = 2**5"
   ]
  },
  {
   "cell_type": "code",
   "execution_count": 4,
   "metadata": {
    "collapsed": false
   },
   "outputs": [],
   "source": [
    "# Columns we are interested in\n",
    "\n",
    "fits = fitsio.FITS(file_name) #, iter_row_buffer=2000)\n",
    "cols = ['RA','DEC','THING_ID','MJD','PLATE','FIBERID','BOSS_TARGET1','EBOSS_TARGET0','EBOSS_TARGET1', 'ZWARNING']"
   ]
  },
  {
   "cell_type": "code",
   "execution_count": 5,
   "metadata": {
    "collapsed": false
   },
   "outputs": [],
   "source": [
    "# to show all names in file\n",
    "\n",
    "#fits[1]"
   ]
  },
  {
   "cell_type": "code",
   "execution_count": 6,
   "metadata": {
    "collapsed": false
   },
   "outputs": [
    {
     "name": "stdout",
     "output_type": "stream",
     "text": [
      "CPU times: user 21.3 s, sys: 1min 5s, total: 1min 26s\n",
      "Wall time: 3min 19s\n"
     ]
    }
   ],
   "source": [
    "%%time\n",
    "\n",
    "# Reading columns\n",
    "#http://stackoverflow.com/questions/30283836/creating-pandas-dataframe-from-numpy-array-leads-to-strange-errors\n",
    "d = {col: fits[1][col].read().byteswap().newbyteorder() for col in cols}"
   ]
  },
  {
   "cell_type": "code",
   "execution_count": 7,
   "metadata": {
    "collapsed": false
   },
   "outputs": [
    {
     "name": "stdout",
     "output_type": "stream",
     "text": [
      "number of rows = 3008000\n"
     ]
    },
    {
     "data": {
      "text/html": [
       "<div>\n",
       "<table border=\"1\" class=\"dataframe\">\n",
       "  <thead>\n",
       "    <tr style=\"text-align: right;\">\n",
       "      <th></th>\n",
       "      <th>BOSS_TARGET1</th>\n",
       "      <th>DEC</th>\n",
       "      <th>EBOSS_TARGET0</th>\n",
       "      <th>EBOSS_TARGET1</th>\n",
       "      <th>FIBERID</th>\n",
       "      <th>MJD</th>\n",
       "      <th>PLATE</th>\n",
       "      <th>RA</th>\n",
       "      <th>THING_ID</th>\n",
       "      <th>ZWARNING</th>\n",
       "    </tr>\n",
       "  </thead>\n",
       "  <tbody>\n",
       "    <tr>\n",
       "      <th>0</th>\n",
       "      <td>0</td>\n",
       "      <td>26.188042</td>\n",
       "      <td>0</td>\n",
       "      <td>2</td>\n",
       "      <td>1</td>\n",
       "      <td>57346</td>\n",
       "      <td>10000</td>\n",
       "      <td>30.012094</td>\n",
       "      <td>339167825</td>\n",
       "      <td>646</td>\n",
       "    </tr>\n",
       "    <tr>\n",
       "      <th>1</th>\n",
       "      <td>0</td>\n",
       "      <td>26.582945</td>\n",
       "      <td>0</td>\n",
       "      <td>1024</td>\n",
       "      <td>2</td>\n",
       "      <td>57346</td>\n",
       "      <td>10000</td>\n",
       "      <td>31.282286</td>\n",
       "      <td>342410358</td>\n",
       "      <td>0</td>\n",
       "    </tr>\n",
       "    <tr>\n",
       "      <th>2</th>\n",
       "      <td>0</td>\n",
       "      <td>26.608501</td>\n",
       "      <td>0</td>\n",
       "      <td>2</td>\n",
       "      <td>3</td>\n",
       "      <td>57346</td>\n",
       "      <td>10000</td>\n",
       "      <td>31.279594</td>\n",
       "      <td>342410449</td>\n",
       "      <td>4</td>\n",
       "    </tr>\n",
       "    <tr>\n",
       "      <th>3</th>\n",
       "      <td>0</td>\n",
       "      <td>26.682522</td>\n",
       "      <td>0</td>\n",
       "      <td>2048</td>\n",
       "      <td>4</td>\n",
       "      <td>57346</td>\n",
       "      <td>10000</td>\n",
       "      <td>31.237546</td>\n",
       "      <td>342675982</td>\n",
       "      <td>0</td>\n",
       "    </tr>\n",
       "    <tr>\n",
       "      <th>4</th>\n",
       "      <td>0</td>\n",
       "      <td>26.866054</td>\n",
       "      <td>0</td>\n",
       "      <td>2</td>\n",
       "      <td>5</td>\n",
       "      <td>57346</td>\n",
       "      <td>10000</td>\n",
       "      <td>31.394521</td>\n",
       "      <td>344112497</td>\n",
       "      <td>4</td>\n",
       "    </tr>\n",
       "  </tbody>\n",
       "</table>\n",
       "</div>"
      ],
      "text/plain": [
       "   BOSS_TARGET1        DEC  EBOSS_TARGET0  EBOSS_TARGET1  FIBERID    MJD  \\\n",
       "0             0  26.188042              0              2        1  57346   \n",
       "1             0  26.582945              0           1024        2  57346   \n",
       "2             0  26.608501              0              2        3  57346   \n",
       "3             0  26.682522              0           2048        4  57346   \n",
       "4             0  26.866054              0              2        5  57346   \n",
       "\n",
       "   PLATE         RA   THING_ID  ZWARNING  \n",
       "0  10000  30.012094  339167825       646  \n",
       "1  10000  31.282286  342410358         0  \n",
       "2  10000  31.279594  342410449         4  \n",
       "3  10000  31.237546  342675982         0  \n",
       "4  10000  31.394521  344112497         4  "
      ]
     },
     "execution_count": 7,
     "metadata": {},
     "output_type": "execute_result"
    }
   ],
   "source": [
    "df = pd.DataFrame(d)\n",
    "print 'number of rows =', len(df)\n",
    "df.head()"
   ]
  },
  {
   "cell_type": "markdown",
   "metadata": {},
   "source": [
    "## Computing pixels"
   ]
  },
  {
   "cell_type": "code",
   "execution_count": 8,
   "metadata": {
    "collapsed": false
   },
   "outputs": [],
   "source": [
    "'''map celestial coordinates to angular'''\n",
    "phi_rad   = lambda ra : ra*np.pi/180.\n",
    "theta_rad = lambda dec: (90.0 - dec)*np.pi/180.\n",
    "\n",
    "df['PIX'] = hp.ang2pix(NSide, theta_rad(df['DEC']), phi_rad(df['RA']))"
   ]
  },
  {
   "cell_type": "code",
   "execution_count": 9,
   "metadata": {
    "collapsed": false
   },
   "outputs": [
    {
     "data": {
      "text/html": [
       "<div>\n",
       "<table border=\"1\" class=\"dataframe\">\n",
       "  <thead>\n",
       "    <tr style=\"text-align: right;\">\n",
       "      <th></th>\n",
       "      <th>BOSS_TARGET1</th>\n",
       "      <th>DEC</th>\n",
       "      <th>EBOSS_TARGET0</th>\n",
       "      <th>EBOSS_TARGET1</th>\n",
       "      <th>FIBERID</th>\n",
       "      <th>MJD</th>\n",
       "      <th>PLATE</th>\n",
       "      <th>RA</th>\n",
       "      <th>THING_ID</th>\n",
       "      <th>ZWARNING</th>\n",
       "      <th>PIX</th>\n",
       "    </tr>\n",
       "  </thead>\n",
       "  <tbody>\n",
       "    <tr>\n",
       "      <th>0</th>\n",
       "      <td>0</td>\n",
       "      <td>26.188042</td>\n",
       "      <td>0</td>\n",
       "      <td>2</td>\n",
       "      <td>1</td>\n",
       "      <td>57346</td>\n",
       "      <td>10000</td>\n",
       "      <td>30.012094</td>\n",
       "      <td>339167825</td>\n",
       "      <td>646</td>\n",
       "      <td>3403</td>\n",
       "    </tr>\n",
       "    <tr>\n",
       "      <th>1</th>\n",
       "      <td>0</td>\n",
       "      <td>26.582945</td>\n",
       "      <td>0</td>\n",
       "      <td>1024</td>\n",
       "      <td>2</td>\n",
       "      <td>57346</td>\n",
       "      <td>10000</td>\n",
       "      <td>31.282286</td>\n",
       "      <td>342410358</td>\n",
       "      <td>0</td>\n",
       "      <td>3403</td>\n",
       "    </tr>\n",
       "    <tr>\n",
       "      <th>2</th>\n",
       "      <td>0</td>\n",
       "      <td>26.608501</td>\n",
       "      <td>0</td>\n",
       "      <td>2</td>\n",
       "      <td>3</td>\n",
       "      <td>57346</td>\n",
       "      <td>10000</td>\n",
       "      <td>31.279594</td>\n",
       "      <td>342410449</td>\n",
       "      <td>4</td>\n",
       "      <td>3403</td>\n",
       "    </tr>\n",
       "    <tr>\n",
       "      <th>3</th>\n",
       "      <td>0</td>\n",
       "      <td>26.682522</td>\n",
       "      <td>0</td>\n",
       "      <td>2048</td>\n",
       "      <td>4</td>\n",
       "      <td>57346</td>\n",
       "      <td>10000</td>\n",
       "      <td>31.237546</td>\n",
       "      <td>342675982</td>\n",
       "      <td>0</td>\n",
       "      <td>3403</td>\n",
       "    </tr>\n",
       "    <tr>\n",
       "      <th>4</th>\n",
       "      <td>0</td>\n",
       "      <td>26.866054</td>\n",
       "      <td>0</td>\n",
       "      <td>2</td>\n",
       "      <td>5</td>\n",
       "      <td>57346</td>\n",
       "      <td>10000</td>\n",
       "      <td>31.394521</td>\n",
       "      <td>344112497</td>\n",
       "      <td>4</td>\n",
       "      <td>3275</td>\n",
       "    </tr>\n",
       "  </tbody>\n",
       "</table>\n",
       "</div>"
      ],
      "text/plain": [
       "   BOSS_TARGET1        DEC  EBOSS_TARGET0  EBOSS_TARGET1  FIBERID    MJD  \\\n",
       "0             0  26.188042              0              2        1  57346   \n",
       "1             0  26.582945              0           1024        2  57346   \n",
       "2             0  26.608501              0              2        3  57346   \n",
       "3             0  26.682522              0           2048        4  57346   \n",
       "4             0  26.866054              0              2        5  57346   \n",
       "\n",
       "   PLATE         RA   THING_ID  ZWARNING   PIX  \n",
       "0  10000  30.012094  339167825       646  3403  \n",
       "1  10000  31.282286  342410358         0  3403  \n",
       "2  10000  31.279594  342410449         4  3403  \n",
       "3  10000  31.237546  342675982         0  3403  \n",
       "4  10000  31.394521  344112497         4  3275  "
      ]
     },
     "execution_count": 9,
     "metadata": {},
     "output_type": "execute_result"
    }
   ],
   "source": [
    "df.head()"
   ]
  },
  {
   "cell_type": "code",
   "execution_count": null,
   "metadata": {
    "collapsed": false
   },
   "outputs": [],
   "source": []
  },
  {
   "cell_type": "code",
   "execution_count": 10,
   "metadata": {
    "collapsed": false
   },
   "outputs": [
    {
     "data": {
      "text/plain": [
       "3369"
      ]
     },
     "execution_count": 10,
     "metadata": {},
     "output_type": "execute_result"
    }
   ],
   "source": [
    "# Number of unique pixels\n",
    "\n",
    "uniq_pix = df['PIX'].unique()\n",
    "len(uniq_pix)"
   ]
  },
  {
   "cell_type": "markdown",
   "metadata": {},
   "source": [
    "## Searching for quasars"
   ]
  },
  {
   "cell_type": "code",
   "execution_count": 11,
   "metadata": {
    "collapsed": true
   },
   "outputs": [],
   "source": [
    "bit_boss = [10,11,12,13,14,15,16,17,18,19,40,41,42,43,44]\n",
    "bit_eboss = [10,11,12,13,14,15,16,17,18]\n",
    "\n",
    "def is_quasar(dataset, mask_bit):\n",
    "    is_qso  = lambda b: ((df[dataset] & 2**b) > 0)\n",
    "    all_qso = map(is_qso, mask_bit)\n",
    "    return reduce(lambda x, y: x |  y , all_qso)"
   ]
  },
  {
   "cell_type": "code",
   "execution_count": 12,
   "metadata": {
    "collapsed": false
   },
   "outputs": [
    {
     "name": "stdout",
     "output_type": "stream",
     "text": [
      "total qso in BOSS_TARGET1 =   466098\n",
      "total qso in EBOSS_TARGET0 =  54108\n",
      "total qso in EBOSS_TARGET1 =  201742\n"
     ]
    }
   ],
   "source": [
    "print 'total qso in BOSS_TARGET1 =  ', is_quasar('BOSS_TARGET1', bit_boss).sum()\n",
    "print 'total qso in EBOSS_TARGET0 = ', is_quasar('EBOSS_TARGET0', bit_eboss).sum()\n",
    "print 'total qso in EBOSS_TARGET1 = ', is_quasar('EBOSS_TARGET1', bit_eboss).sum() "
   ]
  },
  {
   "cell_type": "code",
   "execution_count": 13,
   "metadata": {
    "collapsed": false
   },
   "outputs": [
    {
     "name": "stdout",
     "output_type": "stream",
     "text": [
      "qsos= 721948\n",
      "boss_qsos= 466098\n"
     ]
    }
   ],
   "source": [
    "#Filter only quasars\n",
    "\n",
    "only_qso = df[ is_quasar('BOSS_TARGET1', bit_boss)   |\n",
    "                 is_quasar('EBOSS_TARGET0', bit_eboss) | \n",
    "                 is_quasar('EBOSS_TARGET1', bit_eboss)]\n",
    "boss_qso = df[ is_quasar('BOSS_TARGET1', bit_boss)]\n",
    "#only_qso.head()\n",
    "print 'qsos=', len(only_qso) \n",
    "print 'boss_qsos=', len(boss_qso) "
   ]
  },
  {
   "cell_type": "markdown",
   "metadata": {},
   "source": [
    "## indexing and sorting by index\n"
   ]
  },
  {
   "cell_type": "code",
   "execution_count": 14,
   "metadata": {
    "collapsed": false
   },
   "outputs": [],
   "source": [
    "all_qso = only_qso[only_qso['THING_ID'] != -1].set_index(['PIX','THING_ID'], drop=False).drop('PIX', 1).sort_index()"
   ]
  },
  {
   "cell_type": "code",
   "execution_count": 15,
   "metadata": {
    "collapsed": false
   },
   "outputs": [
    {
     "data": {
      "text/html": [
       "<div>\n",
       "<table border=\"1\" class=\"dataframe\">\n",
       "  <thead>\n",
       "    <tr style=\"text-align: right;\">\n",
       "      <th></th>\n",
       "      <th></th>\n",
       "      <th>BOSS_TARGET1</th>\n",
       "      <th>DEC</th>\n",
       "      <th>EBOSS_TARGET0</th>\n",
       "      <th>EBOSS_TARGET1</th>\n",
       "      <th>FIBERID</th>\n",
       "      <th>MJD</th>\n",
       "      <th>PLATE</th>\n",
       "      <th>RA</th>\n",
       "      <th>THING_ID</th>\n",
       "      <th>ZWARNING</th>\n",
       "    </tr>\n",
       "    <tr>\n",
       "      <th>PIX</th>\n",
       "      <th>THING_ID</th>\n",
       "      <th></th>\n",
       "      <th></th>\n",
       "      <th></th>\n",
       "      <th></th>\n",
       "      <th></th>\n",
       "      <th></th>\n",
       "      <th></th>\n",
       "      <th></th>\n",
       "      <th></th>\n",
       "      <th></th>\n",
       "    </tr>\n",
       "  </thead>\n",
       "  <tbody>\n",
       "    <tr>\n",
       "      <th rowspan=\"2\" valign=\"top\">391</th>\n",
       "      <th>552894319</th>\n",
       "      <td>2199023796224</td>\n",
       "      <td>68.381197</td>\n",
       "      <td>0</td>\n",
       "      <td>0</td>\n",
       "      <td>622</td>\n",
       "      <td>56667</td>\n",
       "      <td>7115</td>\n",
       "      <td>175.258222</td>\n",
       "      <td>552894319</td>\n",
       "      <td>0</td>\n",
       "    </tr>\n",
       "    <tr>\n",
       "      <th>552921545</th>\n",
       "      <td>2199023796224</td>\n",
       "      <td>68.418125</td>\n",
       "      <td>0</td>\n",
       "      <td>0</td>\n",
       "      <td>624</td>\n",
       "      <td>56667</td>\n",
       "      <td>7115</td>\n",
       "      <td>175.582630</td>\n",
       "      <td>552921545</td>\n",
       "      <td>0</td>\n",
       "    </tr>\n",
       "    <tr>\n",
       "      <th rowspan=\"3\" valign=\"top\">392</th>\n",
       "      <th>552514273</th>\n",
       "      <td>3298535424000</td>\n",
       "      <td>68.011275</td>\n",
       "      <td>0</td>\n",
       "      <td>0</td>\n",
       "      <td>932</td>\n",
       "      <td>56748</td>\n",
       "      <td>6966</td>\n",
       "      <td>185.714425</td>\n",
       "      <td>552514273</td>\n",
       "      <td>0</td>\n",
       "    </tr>\n",
       "    <tr>\n",
       "      <th>552514407</th>\n",
       "      <td>3298535424000</td>\n",
       "      <td>68.070896</td>\n",
       "      <td>0</td>\n",
       "      <td>0</td>\n",
       "      <td>886</td>\n",
       "      <td>56748</td>\n",
       "      <td>6966</td>\n",
       "      <td>185.578268</td>\n",
       "      <td>552514407</td>\n",
       "      <td>0</td>\n",
       "    </tr>\n",
       "    <tr>\n",
       "      <th>552709867</th>\n",
       "      <td>2199023796224</td>\n",
       "      <td>68.289380</td>\n",
       "      <td>0</td>\n",
       "      <td>0</td>\n",
       "      <td>880</td>\n",
       "      <td>56748</td>\n",
       "      <td>6966</td>\n",
       "      <td>185.466450</td>\n",
       "      <td>552709867</td>\n",
       "      <td>0</td>\n",
       "    </tr>\n",
       "  </tbody>\n",
       "</table>\n",
       "</div>"
      ],
      "text/plain": [
       "                BOSS_TARGET1        DEC  EBOSS_TARGET0  EBOSS_TARGET1  \\\n",
       "PIX THING_ID                                                            \n",
       "391 552894319  2199023796224  68.381197              0              0   \n",
       "    552921545  2199023796224  68.418125              0              0   \n",
       "392 552514273  3298535424000  68.011275              0              0   \n",
       "    552514407  3298535424000  68.070896              0              0   \n",
       "    552709867  2199023796224  68.289380              0              0   \n",
       "\n",
       "               FIBERID    MJD  PLATE          RA   THING_ID  ZWARNING  \n",
       "PIX THING_ID                                                           \n",
       "391 552894319      622  56667   7115  175.258222  552894319         0  \n",
       "    552921545      624  56667   7115  175.582630  552921545         0  \n",
       "392 552514273      932  56748   6966  185.714425  552514273         0  \n",
       "    552514407      886  56748   6966  185.578268  552514407         0  \n",
       "    552709867      880  56748   6966  185.466450  552709867         0  "
      ]
     },
     "execution_count": 15,
     "metadata": {},
     "output_type": "execute_result"
    }
   ],
   "source": [
    "all_qso.head()"
   ]
  },
  {
   "cell_type": "code",
   "execution_count": 16,
   "metadata": {
    "collapsed": false
   },
   "outputs": [
    {
     "data": {
      "text/plain": [
       "721810"
      ]
     },
     "execution_count": 16,
     "metadata": {},
     "output_type": "execute_result"
    }
   ],
   "source": [
    "len(all_qso)"
   ]
  },
  {
   "cell_type": "markdown",
   "metadata": {},
   "source": [
    "### Select  a certain pixel info"
   ]
  },
  {
   "cell_type": "code",
   "execution_count": 17,
   "metadata": {
    "collapsed": false
   },
   "outputs": [
    {
     "data": {
      "text/html": [
       "<div>\n",
       "<table border=\"1\" class=\"dataframe\">\n",
       "  <thead>\n",
       "    <tr style=\"text-align: right;\">\n",
       "      <th></th>\n",
       "      <th></th>\n",
       "      <th>BOSS_TARGET1</th>\n",
       "      <th>DEC</th>\n",
       "      <th>EBOSS_TARGET0</th>\n",
       "      <th>EBOSS_TARGET1</th>\n",
       "      <th>FIBERID</th>\n",
       "      <th>MJD</th>\n",
       "      <th>PLATE</th>\n",
       "      <th>RA</th>\n",
       "      <th>THING_ID</th>\n",
       "      <th>ZWARNING</th>\n",
       "    </tr>\n",
       "    <tr>\n",
       "      <th>PIX</th>\n",
       "      <th>THING_ID</th>\n",
       "      <th></th>\n",
       "      <th></th>\n",
       "      <th></th>\n",
       "      <th></th>\n",
       "      <th></th>\n",
       "      <th></th>\n",
       "      <th></th>\n",
       "      <th></th>\n",
       "      <th></th>\n",
       "      <th></th>\n",
       "    </tr>\n",
       "  </thead>\n",
       "  <tbody>\n",
       "    <tr>\n",
       "      <th rowspan=\"5\" valign=\"top\">450</th>\n",
       "      <th>550116719</th>\n",
       "      <td>2199023255552</td>\n",
       "      <td>66.581635</td>\n",
       "      <td>0</td>\n",
       "      <td>0</td>\n",
       "      <td>914</td>\n",
       "      <td>56720</td>\n",
       "      <td>6975</td>\n",
       "      <td>185.252205</td>\n",
       "      <td>550116719</td>\n",
       "      <td>0</td>\n",
       "    </tr>\n",
       "    <tr>\n",
       "      <th>550164118</th>\n",
       "      <td>2199023796224</td>\n",
       "      <td>66.543038</td>\n",
       "      <td>0</td>\n",
       "      <td>0</td>\n",
       "      <td>86</td>\n",
       "      <td>56748</td>\n",
       "      <td>6966</td>\n",
       "      <td>185.340753</td>\n",
       "      <td>550164118</td>\n",
       "      <td>0</td>\n",
       "    </tr>\n",
       "    <tr>\n",
       "      <th>550164118</th>\n",
       "      <td>2199023796224</td>\n",
       "      <td>66.543038</td>\n",
       "      <td>0</td>\n",
       "      <td>0</td>\n",
       "      <td>493</td>\n",
       "      <td>56720</td>\n",
       "      <td>7120</td>\n",
       "      <td>185.340753</td>\n",
       "      <td>550164118</td>\n",
       "      <td>0</td>\n",
       "    </tr>\n",
       "    <tr>\n",
       "      <th>550452152</th>\n",
       "      <td>2199023779840</td>\n",
       "      <td>66.701205</td>\n",
       "      <td>0</td>\n",
       "      <td>0</td>\n",
       "      <td>976</td>\n",
       "      <td>56720</td>\n",
       "      <td>6975</td>\n",
       "      <td>185.282387</td>\n",
       "      <td>550452152</td>\n",
       "      <td>0</td>\n",
       "    </tr>\n",
       "    <tr>\n",
       "      <th>550452390</th>\n",
       "      <td>3298535424000</td>\n",
       "      <td>66.775943</td>\n",
       "      <td>0</td>\n",
       "      <td>0</td>\n",
       "      <td>92</td>\n",
       "      <td>56748</td>\n",
       "      <td>6966</td>\n",
       "      <td>185.511519</td>\n",
       "      <td>550452390</td>\n",
       "      <td>0</td>\n",
       "    </tr>\n",
       "  </tbody>\n",
       "</table>\n",
       "</div>"
      ],
      "text/plain": [
       "                BOSS_TARGET1        DEC  EBOSS_TARGET0  EBOSS_TARGET1  \\\n",
       "PIX THING_ID                                                            \n",
       "450 550116719  2199023255552  66.581635              0              0   \n",
       "    550164118  2199023796224  66.543038              0              0   \n",
       "    550164118  2199023796224  66.543038              0              0   \n",
       "    550452152  2199023779840  66.701205              0              0   \n",
       "    550452390  3298535424000  66.775943              0              0   \n",
       "\n",
       "               FIBERID    MJD  PLATE          RA   THING_ID  ZWARNING  \n",
       "PIX THING_ID                                                           \n",
       "450 550116719      914  56720   6975  185.252205  550116719         0  \n",
       "    550164118       86  56748   6966  185.340753  550164118         0  \n",
       "    550164118      493  56720   7120  185.340753  550164118         0  \n",
       "    550452152      976  56720   6975  185.282387  550452152         0  \n",
       "    550452390       92  56748   6966  185.511519  550452390         0  "
      ]
     },
     "execution_count": 17,
     "metadata": {},
     "output_type": "execute_result"
    }
   ],
   "source": [
    "#only the first rows of pixel 393\n",
    "all_qso.query('PIX == 450 | PIX == 796').head()"
   ]
  },
  {
   "cell_type": "code",
   "execution_count": 18,
   "metadata": {
    "collapsed": false
   },
   "outputs": [
    {
     "name": "stdout",
     "output_type": "stream",
     "text": [
      "# of THING_IDs within this pixel = 14\n",
      "# of unique THING_IDs within this pixel = 14\n"
     ]
    }
   ],
   "source": [
    "print '# of THING_IDs within this pixel =', len(all_qso.loc[392].index)\n",
    "print '# of unique THING_IDs within this pixel =', len(all_qso.loc[392].index.unique())"
   ]
  },
  {
   "cell_type": "code",
   "execution_count": 19,
   "metadata": {
    "collapsed": false
   },
   "outputs": [],
   "source": [
    "#boss_qsos = boss_qso.set_index(['PIX','THING_ID'], drop=False).drop('PIX', 1).sort_index()\n",
    "#boss_qsos = only_boss_qso[only_boss_qso['THING_ID'] != -1].set_index(['PIX']).sort_index()"
   ]
  },
  {
   "cell_type": "code",
   "execution_count": 20,
   "metadata": {
    "collapsed": false
   },
   "outputs": [
    {
     "data": {
      "text/plain": [
       "True"
      ]
     },
     "execution_count": 20,
     "metadata": {},
     "output_type": "execute_result"
    }
   ],
   "source": [
    "ss = all_qso.query('PIX == 450').groupby('THING_ID').size()\n",
    "ss[ss>3].empty "
   ]
  },
  {
   "cell_type": "code",
   "execution_count": null,
   "metadata": {
    "collapsed": false
   },
   "outputs": [],
   "source": []
  },
  {
   "cell_type": "code",
   "execution_count": 21,
   "metadata": {
    "collapsed": false
   },
   "outputs": [
    {
     "data": {
      "text/plain": [
       "68335"
      ]
     },
     "execution_count": 21,
     "metadata": {},
     "output_type": "execute_result"
    }
   ],
   "source": [
    "len(all_qso)- len(all_qso['THING_ID'].unique())"
   ]
  },
  {
   "cell_type": "code",
   "execution_count": 22,
   "metadata": {
    "collapsed": false
   },
   "outputs": [
    {
     "data": {
      "text/plain": [
       "(721810, numpy.ndarray)"
      ]
     },
     "execution_count": 22,
     "metadata": {},
     "output_type": "execute_result"
    }
   ],
   "source": [
    "pix_values = all_qso.index.values\n",
    "len(pix_values), type(pix_values)"
   ]
  },
  {
   "cell_type": "code",
   "execution_count": 23,
   "metadata": {
    "collapsed": false
   },
   "outputs": [],
   "source": [
    "set_pix = set(pix_values)\n",
    "list_pix= list(set_pix)"
   ]
  },
  {
   "cell_type": "code",
   "execution_count": 24,
   "metadata": {
    "collapsed": false
   },
   "outputs": [],
   "source": [
    "def pix_with_uniqueid(pix_id, max_rep):\n",
    "    rep_thing_id = all_qso.query('PIX == {}'.format(pix_id)).groupby('THING_ID').size()\n",
    "    if not rep_thing_id[rep_thing_id> max_rep].empty:\n",
    "        print rep_thing_id[rep_thing_id> max_rep]\n",
    "    "
   ]
  },
  {
   "cell_type": "code",
   "execution_count": 25,
   "metadata": {
    "collapsed": false
   },
   "outputs": [
    {
     "name": "stdout",
     "output_type": "stream",
     "text": [
      "THING_ID\n",
      "341840093    5\n",
      "dtype: int64\n",
      "THING_ID\n",
      "493044557    5\n",
      "493044566    5\n",
      "dtype: int64\n",
      "THING_ID\n",
      "492814652    5\n",
      "dtype: int64\n",
      "THING_ID\n",
      "103525683    14\n",
      "103525770    16\n",
      "103526510    14\n",
      "106363307    16\n",
      "106364494    16\n",
      "106365271    14\n",
      "106366014    14\n",
      "106367792    14\n",
      "106368778    16\n",
      "106369646    17\n",
      "106370968    15\n",
      "106371135    16\n",
      "110624111    15\n",
      "110626380    14\n",
      "110626688    14\n",
      "110627392    14\n",
      "110627658    16\n",
      "110628288    14\n",
      "110628681    17\n",
      "110629518    14\n",
      "110629784    14\n",
      "110630924    15\n",
      "110630953    14\n",
      "110631121    14\n",
      "110632201    17\n",
      "110633310    16\n",
      "116045026    17\n",
      "117500366    14\n",
      "117587824    17\n",
      "117587864    14\n",
      "117727485    14\n",
      "117755110    17\n",
      "117770491    14\n",
      "117779618    16\n",
      "117793096    14\n",
      "117805119    14\n",
      "117819099    14\n",
      "117840082    14\n",
      "122364168    14\n",
      "122648904    14\n",
      "122667423    14\n",
      "122667772    14\n",
      "122668008    15\n",
      "122686196    15\n",
      "122714605    17\n",
      "122784266    14\n",
      "122784797    14\n",
      "124737036     5\n",
      "dtype: int64\n",
      "THING_ID\n",
      "461347713    5\n",
      "464694423    5\n",
      "dtype: int64\n",
      "THING_ID\n",
      "489567549    5\n",
      "dtype: int64\n"
     ]
    }
   ],
   "source": [
    "for i in list_pix[:200]:\n",
    "    pix_with_uniqueid(i, 4)"
   ]
  },
  {
   "cell_type": "code",
   "execution_count": 26,
   "metadata": {
    "collapsed": false
   },
   "outputs": [
    {
     "data": {
      "text/html": [
       "<div>\n",
       "<table border=\"1\" class=\"dataframe\">\n",
       "  <thead>\n",
       "    <tr style=\"text-align: right;\">\n",
       "      <th></th>\n",
       "      <th></th>\n",
       "      <th>BOSS_TARGET1</th>\n",
       "      <th>DEC</th>\n",
       "      <th>EBOSS_TARGET0</th>\n",
       "      <th>EBOSS_TARGET1</th>\n",
       "      <th>FIBERID</th>\n",
       "      <th>MJD</th>\n",
       "      <th>PLATE</th>\n",
       "      <th>RA</th>\n",
       "      <th>THING_ID</th>\n",
       "      <th>ZWARNING</th>\n",
       "    </tr>\n",
       "    <tr>\n",
       "      <th>PIX</th>\n",
       "      <th>THING_ID</th>\n",
       "      <th></th>\n",
       "      <th></th>\n",
       "      <th></th>\n",
       "      <th></th>\n",
       "      <th></th>\n",
       "      <th></th>\n",
       "      <th></th>\n",
       "      <th></th>\n",
       "      <th></th>\n",
       "      <th></th>\n",
       "    </tr>\n",
       "  </thead>\n",
       "  <tbody>\n",
       "    <tr>\n",
       "      <th rowspan=\"5\" valign=\"top\">3403</th>\n",
       "      <th>341840093</th>\n",
       "      <td>0</td>\n",
       "      <td>26.479021</td>\n",
       "      <td>0</td>\n",
       "      <td>4096</td>\n",
       "      <td>92</td>\n",
       "      <td>57346</td>\n",
       "      <td>10000</td>\n",
       "      <td>30.48258</td>\n",
       "      <td>341840093</td>\n",
       "      <td>0</td>\n",
       "    </tr>\n",
       "    <tr>\n",
       "      <th>341840093</th>\n",
       "      <td>3298535424000</td>\n",
       "      <td>26.479021</td>\n",
       "      <td>0</td>\n",
       "      <td>0</td>\n",
       "      <td>990</td>\n",
       "      <td>55944</td>\n",
       "      <td>5697</td>\n",
       "      <td>30.48258</td>\n",
       "      <td>341840093</td>\n",
       "      <td>0</td>\n",
       "    </tr>\n",
       "    <tr>\n",
       "      <th>341840093</th>\n",
       "      <td>3298535424000</td>\n",
       "      <td>26.479021</td>\n",
       "      <td>0</td>\n",
       "      <td>0</td>\n",
       "      <td>202</td>\n",
       "      <td>56273</td>\n",
       "      <td>6270</td>\n",
       "      <td>30.48258</td>\n",
       "      <td>341840093</td>\n",
       "      <td>0</td>\n",
       "    </tr>\n",
       "    <tr>\n",
       "      <th>341840093</th>\n",
       "      <td>0</td>\n",
       "      <td>26.479021</td>\n",
       "      <td>0</td>\n",
       "      <td>4096</td>\n",
       "      <td>100</td>\n",
       "      <td>57040</td>\n",
       "      <td>7691</td>\n",
       "      <td>30.48258</td>\n",
       "      <td>341840093</td>\n",
       "      <td>0</td>\n",
       "    </tr>\n",
       "    <tr>\n",
       "      <th>341840093</th>\n",
       "      <td>0</td>\n",
       "      <td>26.479021</td>\n",
       "      <td>0</td>\n",
       "      <td>4096</td>\n",
       "      <td>94</td>\n",
       "      <td>57360</td>\n",
       "      <td>7691</td>\n",
       "      <td>30.48258</td>\n",
       "      <td>341840093</td>\n",
       "      <td>0</td>\n",
       "    </tr>\n",
       "  </tbody>\n",
       "</table>\n",
       "</div>"
      ],
      "text/plain": [
       "                 BOSS_TARGET1        DEC  EBOSS_TARGET0  EBOSS_TARGET1  \\\n",
       "PIX  THING_ID                                                            \n",
       "3403 341840093              0  26.479021              0           4096   \n",
       "     341840093  3298535424000  26.479021              0              0   \n",
       "     341840093  3298535424000  26.479021              0              0   \n",
       "     341840093              0  26.479021              0           4096   \n",
       "     341840093              0  26.479021              0           4096   \n",
       "\n",
       "                FIBERID    MJD  PLATE        RA   THING_ID  ZWARNING  \n",
       "PIX  THING_ID                                                         \n",
       "3403 341840093       92  57346  10000  30.48258  341840093         0  \n",
       "     341840093      990  55944   5697  30.48258  341840093         0  \n",
       "     341840093      202  56273   6270  30.48258  341840093         0  \n",
       "     341840093      100  57040   7691  30.48258  341840093         0  \n",
       "     341840093       94  57360   7691  30.48258  341840093         0  "
      ]
     },
     "execution_count": 26,
     "metadata": {},
     "output_type": "execute_result"
    }
   ],
   "source": [
    "all_qso.query('THING_ID == 341840093')"
   ]
  },
  {
   "cell_type": "code",
   "execution_count": null,
   "metadata": {
    "collapsed": false
   },
   "outputs": [],
   "source": []
  },
  {
   "cell_type": "code",
   "execution_count": 34,
   "metadata": {
    "collapsed": false
   },
   "outputs": [],
   "source": []
  },
  {
   "cell_type": "code",
   "execution_count": 68,
   "metadata": {
    "collapsed": false
   },
   "outputs": [
    {
     "name": "stdout",
     "output_type": "stream",
     "text": [
      "BOSS_dr12_qso.fits               sdss_catalog.ipynb\r\n",
      "DR12Q.fits                       spAll-v5_10_0.fits\r\n",
      "DR12Q.ipynb                      spec-5697-55944-0990.fits\r\n",
      "README.md                        spec-6270-56273-0220.fits\r\n",
      "findQuasars_test.ipynb           wmap_band_imap_r9_7yr_W_v4.fits\r\n",
      "\u001b[1m\u001b[34mpy\u001b[m\u001b[m/\r\n"
     ]
    }
   ],
   "source": [
    "%ls"
   ]
  },
  {
   "cell_type": "code",
   "execution_count": 345,
   "metadata": {
    "collapsed": false
   },
   "outputs": [
    {
     "data": {
      "text/plain": [
       "\n",
       "SIMPLE  =                    T / conforms to FITS standard\n",
       "BITPIX  =                    8 / array data type\n",
       "NAXIS   =                    0 / number of array dimensions\n",
       "EXTEND  =                    T\n",
       "TELESCOP= 'SDSS 2.5-M'         / Sloan Digital Sky Survey\n",
       "FLAVOR  = 'science '           / exposure type, SDSS spectro style\n",
       "BOSSVER = '2       '           / ICC version\n",
       "MJD     =                56273 / APO fMJD day at start of exposure\n",
       "MJDLIST = '56272 56273'        /\n",
       "NAME    = '6270-56271-01'      / The name of the currently loaded plate\n",
       "PLATEID =                 6270 / The currently loaded plate\n",
       "TILEID  =                15216 /Cartridge used in this plugging\n",
       "CARTID  =                   17 /Cartridge used in this plugging\n",
       "MAPID   =                    1 / The mapping version of the loaded plate\n",
       "RA      =            30.274498 / RA of telescope boresight (deg)\n",
       "DEC     =            27.759549 / Dec of telescope boresight (deg)\n",
       "EQUINOX =              2000.00 /\n",
       "RADECSYS= 'FK5     '           /\n",
       "RADEG   =              30.2765 / RA of telescope pointing(deg)\n",
       "DECDEG  =              27.7605 / Dec of telescope pointing (deg)\n",
       "BOREOFFX=                  0.0 / TCC Boresight offset, deg\n",
       "BOREOFFY=                  0.0 / TCC Boresight offset, deg\n",
       "GUIDOFFY=                  0.0 / TCC GuideOff, deg\n",
       "PRESSURE=              21.3350 / pressure\n",
       "WINDD   =              191.929 / windd\n",
       "WINDS   =              8.70000 / winds\n",
       "GUSTD   =                353.6 / gustd\n",
       "GUSTS   =              18.9143 / gusts\n",
       "AIRTEMP =             -4.74286 / airTempPT\n",
       "DEWPOINT=             -14.5429 / dpTempPT\n",
       "HUMIDITY=              44.9857 / humidity\n",
       "DUSTA   =              1889.00 / dusta\n",
       "DUSTB   =              135.857 / dustb\n",
       "WINDD25M=                129.9 / windd25m\n",
       "WINDS25M=                  6.9 / winds25m\n",
       "SLITID2 =                   17 / Normalized slithead ID. sp1&2 should match.\n",
       "BESTEXP =               152296 /\n",
       "NEXP_B1 =                    7 / b1 camera number of exposures\n",
       "NEXP_R1 =                    7 / r1 camera number of exposures\n",
       "EXPT_B1 =              6305.93 / b1 camera exposure time (seconds)\n",
       "EXPT_R1 =              6305.93 / r1 camera exposure time (seconds)\n",
       "EXPTIME =              6305.93 / Minimum of exposure times for all cameras\n",
       "SPCOADD = 'Sat May 28 15:56:57 2016' / SPCOADD finished\n",
       "SHOPETIM=                 0.74 / open shutter transit time, s\n",
       "SHCLOTIM=                 0.54 / close shutter transit time, s\n",
       "LN2TEMP =    89.84399999999999\n",
       "CCDTEMP =               -100.0\n",
       "IONPUMP =                -6.56\n",
       "VERSIDL = '7.1.1   '           / Version of IDL\n",
       "VERSUTIL= 'v5_5_17 '           / Version of idlutils\n",
       "VERSREAD= 'v5_10_0 '           / Version of idlspec2d for pre-processing raw dat\n",
       "VERS2D  = 'v5_10_0 '           / Version of idlspec2d for 2D reduction\n",
       "VERSCOMB= 'v5_10_0 '           / Version of idlspec2d for combining multiple spe\n",
       "VERSLOG = 'trunk 23370'        / Version of SPECLOG product\n",
       "VERSFLAT= 'v1_25   '           / Version of SPECFLAT product\n",
       "RDNOISE0=              2.03969 /CCD read noise amp 0 [electrons]\n",
       "BADPIXEL= 'badpixels-56149-b1.fits.gz' /\n",
       "RUN2D   = 'v5_10_0 '           / Spectro-2D reduction name\n",
       "REDDEN01=             0.332000 / Median extinction in u-band\n",
       "REDDEN02=             0.244300 / Median extinction in g-band\n",
       "REDDEN03=             0.177200 / Median extinction in r-band\n",
       "REDDEN04=             0.134300 / Median extinction in i-band\n",
       "REDDEN05=            0.0953000 / Median extinction in z-band\n",
       "PLUGFILE= 'plPlugMapM-6270-56271-01.par' /\n",
       "HELIO_RV=        20.0027958302 / Heliocentric correction (added to velocities)\n",
       "VACUUM  =                    T / Wavelengths are in vacuum\n",
       "SFLATTEN=                    T / Superflat has been applied\n",
       "PSFSKY  =                    3 / Order of PSF skysubtraction\n",
       "SKYCHI2 =        1.13434331133 / Mean chi^2 of sky-subtraction\n",
       "SCHI2MIN=       0.972307419724 /\n",
       "SCHI2MAX=        1.42908984298 /\n",
       "PREJECT =             0.200000 / Profile area rejection threshold\n",
       "SPEC1_G =              12.0078 / (S/N)^2 for spec  1 at mag 21.20\n",
       "SN2EXT1G=              12.0078 / Extinction corrected (S/N)^2\n",
       "SPEC1_R =              34.7290 / (S/N)^2 for spec  1 at mag 20.20\n",
       "SN2EXT1R=              34.7290 / Extinction corrected (S/N)^2\n",
       "SPEC1_I =              22.9628 / (S/N)^2 for spec  1 at mag 20.20\n",
       "SN2EXT1I=              22.9628 / Extinction corrected (S/N)^2\n",
       "SPEC2_G =              13.1056 / (S/N)^2 for spec  2 at mag 21.20\n",
       "SN2EXT2G=              13.1056 / Extinction corrected (S/N)^2\n",
       "SPEC2_R =              35.3165 / (S/N)^2 for spec  2 at mag 20.20\n",
       "SN2EXT2R=              35.3165 / Extinction corrected (S/N)^2\n",
       "SPEC2_I =              26.1622 / (S/N)^2 for spec  2 at mag 20.20\n",
       "SN2EXT2I=              26.1622 / Extinction corrected (S/N)^2\n",
       "NSTD    =                   20 / Number of (good) std stars\n",
       "GOFFSTD =           -0.0103817 / Spectrophoto offset for std stars in G-band\n",
       "GRMSSTD =             0.120547 / Spectrophoto RMS for std stars in G-band\n",
       "ROFFSTD =            0.0106306 / Spectrophoto offset for std stars in R-band\n",
       "RRMSSTD =            0.0818428 / Spectrophoto RMS for std stars in R-band\n",
       "IOFFSTD =         -0.000627518 / Spectrophoto offset for std stars in I-band\n",
       "IRMSSTD =             0.118454 / Spectrophoto RMS for std stars in I-band\n",
       "GROFFSTD=           0.00939274 / Spectrophoto offset for std stars in (GR)\n",
       "GRRMSSTD=             0.147962 / Spectrophoto RMS for std stars in (GR)\n",
       "RIOFFSTD=           -0.0182867 / Spectrophoto offset for std stars in (RI)\n",
       "RIRMSSTD=            0.0794726 / Spectrophoto RMS for std stars in (RI)\n",
       "LOWREJ  =                    4 / Extraction: low rejection\n",
       "HIGHREJ =                    4 / Extraction: high rejection\n",
       "SCATPOLY=                    0 / Extraction: Order of scattered light polynomial\n",
       "PROFTYPE=                    1 / Extraction profile: 1=Gaussian\n",
       "NFITPOLY=                    1 / Extraction: Number of parameters in each profil\n",
       "XCHI2   =              0.00000 / Extraction: Mean chi^2\n",
       "NWORDER =                    2 / Linear-log10 coefficients\n",
       "WFITTYPE= 'LOG-LINEAR'         / Linear-log10 dispersion\n",
       "COEFF0  =               3.5515 / Central wavelength (log10) of first pixel\n",
       "COEFF1  =    0.000100000000000 / Log10 dispersion per pixel\n",
       "FBADPIX =            0.0713001 / Fraction of bad pixels\n",
       "FBADPIX1=             0.101345 / Fraction of bad pixels on spectro-1\n",
       "FBADPIX2=            0.0413152 / Fraction of bad pixels on spectro-2\n",
       "WAT0_001= 'system=linear'      /\n",
       "WAT1_001= 'wtype=linear label=Wavelength units=Angstroms' /\n",
       "DC-FLAG =                    1 / Log-linear flag\n",
       "BUNIT   = '1E-17 erg/cm^2/s/Ang' /\n",
       "PLUG_RA =            30.441574 / RA of object [deg]\n",
       "PLUG_DEC=               27.202 / dec of object [deg]\n",
       "THING_ID=            347300345 / Unique object identifier\n",
       "FIBERID =                  220 / Fiber number (1-1000)\n",
       "NEXP    =                   14 / Number of individual exposures\n",
       "EXPID01 = 'b1-00152296-00152295-00152294'\n",
       "EXPID02 = 'b1-00152297-00152295-00152294'\n",
       "EXPID03 = 'b1-00152300-00152295-00152294'\n",
       "EXPID04 = 'b1-00152301-00152295-00152294'\n",
       "EXPID05 = 'b1-00152414-00152413-00152412'\n",
       "EXPID06 = 'b1-00152415-00152413-00152412'\n",
       "EXPID07 = 'b1-00152416-00152413-00152412'\n",
       "EXPID08 = 'r1-00152296-00152295-00152294'\n",
       "EXPID09 = 'r1-00152297-00152295-00152294'\n",
       "EXPID10 = 'r1-00152300-00152295-00152294'\n",
       "EXPID11 = 'r1-00152301-00152295-00152294'\n",
       "EXPID12 = 'r1-00152414-00152413-00152412'\n",
       "EXPID13 = 'r1-00152415-00152413-00152412'\n",
       "EXPID14 = 'r1-00152416-00152413-00152412'"
      ]
     },
     "execution_count": 345,
     "metadata": {},
     "output_type": "execute_result"
    }
   ],
   "source": [
    "files_1= 'spec-5697-55944-0990.fits'\n",
    "files_2= 'spec-6270-56273-0220.fits'\n",
    "files_3= 'spec-7691-57040-0100.fits'\n",
    "files_4= 'spec-7691-57360-0094.fits'\n",
    "files_5= 'spec-10000-57346-0092.fits'\n",
    "fits = fitsio.FITS(files_2)\n",
    "fits[0].read_header() #['COEFF0']\n"
   ]
  },
  {
   "cell_type": "code",
   "execution_count": 251,
   "metadata": {
    "collapsed": false
   },
   "outputs": [],
   "source": [
    "def read_flux(files):\n",
    "    fits = fitsio.FITS(files)\n",
    "    cols = ['flux','loglam','ivar','and_mask','or_mask', 'sky', 'wdisp', 'model']\n",
    "    d = {col: fits[1][col].read().byteswap().newbyteorder() for col in cols}\n",
    "    df = pd.DataFrame(d)\n",
    "    return df"
   ]
  },
  {
   "cell_type": "code",
   "execution_count": 252,
   "metadata": {
    "collapsed": false
   },
   "outputs": [],
   "source": [
    "files =(files_1, files_2, files_3, files_4, files_5)\n",
    "dt_s=[]\n",
    "for l in files:\n",
    "        dt_x = read_flux(l).set_index('loglam')\n",
    "        dt_s.append(dt_x)"
   ]
  },
  {
   "cell_type": "code",
   "execution_count": null,
   "metadata": {
    "collapsed": false
   },
   "outputs": [],
   "source": []
  },
  {
   "cell_type": "code",
   "execution_count": 261,
   "metadata": {
    "collapsed": false
   },
   "outputs": [],
   "source": [
    "# Masking\n",
    "mask=[]\n",
    "for s in dt_s:\n",
    "    mask.append(s.query('and_mask==0 & or_mask==0').copy())"
   ]
  },
  {
   "cell_type": "code",
   "execution_count": 262,
   "metadata": {
    "collapsed": false
   },
   "outputs": [
    {
     "data": {
      "text/html": [
       "<div>\n",
       "<table border=\"1\" class=\"dataframe\">\n",
       "  <thead>\n",
       "    <tr style=\"text-align: right;\">\n",
       "      <th></th>\n",
       "      <th>and_mask</th>\n",
       "      <th>flux</th>\n",
       "      <th>ivar</th>\n",
       "      <th>model</th>\n",
       "      <th>or_mask</th>\n",
       "      <th>sky</th>\n",
       "      <th>wdisp</th>\n",
       "    </tr>\n",
       "    <tr>\n",
       "      <th>loglam</th>\n",
       "      <th></th>\n",
       "      <th></th>\n",
       "      <th></th>\n",
       "      <th></th>\n",
       "      <th></th>\n",
       "      <th></th>\n",
       "      <th></th>\n",
       "    </tr>\n",
       "  </thead>\n",
       "  <tbody>\n",
       "    <tr>\n",
       "      <th>3.5516</th>\n",
       "      <td>0</td>\n",
       "      <td>-4.858162</td>\n",
       "      <td>0.054479</td>\n",
       "      <td>0.256338</td>\n",
       "      <td>0</td>\n",
       "      <td>4.565974</td>\n",
       "      <td>1.340524</td>\n",
       "    </tr>\n",
       "    <tr>\n",
       "      <th>3.5517</th>\n",
       "      <td>0</td>\n",
       "      <td>-0.145810</td>\n",
       "      <td>0.050717</td>\n",
       "      <td>0.259966</td>\n",
       "      <td>0</td>\n",
       "      <td>4.341277</td>\n",
       "      <td>1.332116</td>\n",
       "    </tr>\n",
       "    <tr>\n",
       "      <th>3.5518</th>\n",
       "      <td>0</td>\n",
       "      <td>9.137352</td>\n",
       "      <td>0.057707</td>\n",
       "      <td>0.263985</td>\n",
       "      <td>0</td>\n",
       "      <td>3.994678</td>\n",
       "      <td>1.335651</td>\n",
       "    </tr>\n",
       "    <tr>\n",
       "      <th>3.5519</th>\n",
       "      <td>0</td>\n",
       "      <td>-4.428214</td>\n",
       "      <td>0.057576</td>\n",
       "      <td>0.269347</td>\n",
       "      <td>0</td>\n",
       "      <td>3.797942</td>\n",
       "      <td>1.334435</td>\n",
       "    </tr>\n",
       "    <tr>\n",
       "      <th>3.5520</th>\n",
       "      <td>0</td>\n",
       "      <td>19.445345</td>\n",
       "      <td>0.051647</td>\n",
       "      <td>0.271861</td>\n",
       "      <td>0</td>\n",
       "      <td>3.649121</td>\n",
       "      <td>1.331097</td>\n",
       "    </tr>\n",
       "  </tbody>\n",
       "</table>\n",
       "</div>"
      ],
      "text/plain": [
       "        and_mask       flux      ivar     model  or_mask       sky     wdisp\n",
       "loglam                                                                      \n",
       "3.5516         0  -4.858162  0.054479  0.256338        0  4.565974  1.340524\n",
       "3.5517         0  -0.145810  0.050717  0.259966        0  4.341277  1.332116\n",
       "3.5518         0   9.137352  0.057707  0.263985        0  3.994678  1.335651\n",
       "3.5519         0  -4.428214  0.057576  0.269347        0  3.797942  1.334435\n",
       "3.5520         0  19.445345  0.051647  0.271861        0  3.649121  1.331097"
      ]
     },
     "execution_count": 262,
     "metadata": {},
     "output_type": "execute_result"
    }
   ],
   "source": [
    "mask[1].head()"
   ]
  },
  {
   "cell_type": "code",
   "execution_count": 264,
   "metadata": {
    "collapsed": false
   },
   "outputs": [
    {
     "data": {
      "text/plain": [
       "<matplotlib.legend.Legend at 0x151b118d0>"
      ]
     },
     "execution_count": 264,
     "metadata": {},
     "output_type": "execute_result"
    },
    {
     "data": {
      "image/png": "[encoded data removed]",
      "text/plain": [
       "<matplotlib.figure.Figure at 0x151b11dd0>"
      ]
     },
     "metadata": {},
     "output_type": "display_data"
    }
   ],
   "source": [
    "fig = plt.figure(figsize = (15, 10))\n",
    "xlimits = [3.55,4]\n",
    "ylimits = [-10,20]\n",
    "for i in range(4):\n",
    "    mask[i]['flux'].plot(label=files[i])\n",
    "mask[4]['flux'].plot(xlim=xlimits, ylim=ylimits, label=files_5) \n",
    "plt.legend(loc='best')"
   ]
  },
  {
   "cell_type": "code",
   "execution_count": 327,
   "metadata": {
    "collapsed": false
   },
   "outputs": [
    {
     "name": "stdout",
     "output_type": "stream",
     "text": [
      "0.000100000007618\n",
      "9.99999540885e-05\n",
      "0.000100000050708\n",
      "0.000100000007618\n",
      "9.99999781355e-05\n"
     ]
    }
   ],
   "source": [
    "#print [len(mask[i]) for i in range(5)]\n",
    "#for i in range(5):\n",
    "#    print (mask[i].index.values.min()- mask[i].index.values.max())/len(mask[i])\n",
    "for i in range(5):\n",
    "    x=dt_s[i].index.values\n",
    "    \n",
    "    print (x[-1]-x[0])/(len(x)-1)"
   ]
  },
  {
   "cell_type": "code",
   "execution_count": 308,
   "metadata": {
    "collapsed": false
   },
   "outputs": [
    {
     "data": {
      "text/plain": [
       "<matplotlib.axes._subplots.AxesSubplot at 0x161ebb150>"
      ]
     },
     "execution_count": 308,
     "metadata": {},
     "output_type": "execute_result"
    },
    {
     "data": {
      "image/png": "[encoded data removed]",
      "text/plain": [
       "<matplotlib.figure.Figure at 0x161ebb210>"
      ]
     },
     "metadata": {},
     "output_type": "display_data"
    }
   ],
   "source": [
    "fig = plt.figure(figsize = (15, 10))\n",
    "ax= plt.subplot(1,1,1)\n",
    "#dt_s\n",
    "mask[0][['flux','model', 'ivar']].plot(ax=ax)\n",
    "mask[1][['flux','model', 'ivar']].plot(ax=ax)"
   ]
  },
  {
   "cell_type": "code",
   "execution_count": null,
   "metadata": {
    "collapsed": false
   },
   "outputs": [],
   "source": []
  },
  {
   "cell_type": "code",
   "execution_count": null,
   "metadata": {
    "collapsed": false
   },
   "outputs": [],
   "source": []
  },
  {
   "cell_type": "code",
   "execution_count": null,
   "metadata": {
    "collapsed": false
   },
   "outputs": [],
   "source": []
  },
  {
   "cell_type": "code",
   "execution_count": null,
   "metadata": {
    "collapsed": false
   },
   "outputs": [],
   "source": []
  },
  {
   "cell_type": "code",
   "execution_count": null,
   "metadata": {
    "collapsed": false
   },
   "outputs": [],
   "source": []
  },
  {
   "cell_type": "code",
   "execution_count": null,
   "metadata": {
    "collapsed": false
   },
   "outputs": [],
   "source": []
  },
  {
   "cell_type": "code",
   "execution_count": null,
   "metadata": {
    "collapsed": false
   },
   "outputs": [],
   "source": []
  },
  {
   "cell_type": "code",
   "execution_count": null,
   "metadata": {
    "collapsed": true
   },
   "outputs": [],
   "source": []
  }
 ],
 "metadata": {
  "kernelspec": {
   "display_name": "Python 2",
   "language": "python",
   "name": "python2"
  },
  "language_info": {
   "codemirror_mode": {
    "name": "ipython",
    "version": 2
   },
   "file_extension": ".py",
   "mimetype": "text/x-python",
   "name": "python",
   "nbconvert_exporter": "python",
   "pygments_lexer": "ipython2",
   "version": "2.7.11"
  }
 },
 "nbformat": 4,
 "nbformat_minor": 0
}
