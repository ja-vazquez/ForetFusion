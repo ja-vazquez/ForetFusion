{
 "cells": [
  {
   "cell_type": "code",
   "execution_count": 6,
   "metadata": {
    "collapsed": false
   },
   "outputs": [],
   "source": [
    "import fitsio\n",
    "import numpy as np\n",
    "import healpy as hp\n",
    "import pandas as pd\n",
    "import matplotlib.pyplot as plt\n",
    "\n",
    "from base64 import b64encode\n",
    "import mechanize\n",
    "\n",
    "%matplotlib inline\n",
    "\n",
    "# I'm using Pandas (based on numpy), which is a very useful tool for\n",
    "# handling tables and data.\n",
    "# I'll properly put them into classes or more organized later"
   ]
  },
  {
   "cell_type": "code",
   "execution_count": 7,
   "metadata": {
    "collapsed": true
   },
   "outputs": [],
   "source": [
    "#12GB file, be carefull\n",
    "file_name = 'spAll-v5_10_0.fits'\n",
    "\n",
    "fits = fitsio.FITS(file_name) \n",
    "\n",
    "# Columns we are interested on\n",
    "cols = ['CLASS', 'RA','DEC','THING_ID','OBJTYPE','MJD','PLATE','FIBERID','BOSS_TARGET1','EBOSS_TARGET0','EBOSS_TARGET1']"
   ]
  },
  {
   "cell_type": "code",
   "execution_count": 8,
   "metadata": {
    "collapsed": false
   },
   "outputs": [],
   "source": [
    "# to show all names in file\n",
    "#fits[1]"
   ]
  },
  {
   "cell_type": "code",
   "execution_count": 9,
   "metadata": {
    "collapsed": false
   },
   "outputs": [],
   "source": [
    "#%%time\n",
    "\n",
    "# Reading columns\n",
    "#http://stackoverflow.com/questions/30283836/creating-pandas-dataframe-from-numpy-array-leads-to-strange-errors\n",
    "#d = {col: fits[1][col].read().byteswap().newbyteorder() for col in cols}"
   ]
  },
  {
   "cell_type": "code",
   "execution_count": 10,
   "metadata": {
    "collapsed": false
   },
   "outputs": [
    {
     "ename": "NameError",
     "evalue": "name 'd' is not defined",
     "output_type": "error",
     "traceback": [
      "\u001b[0;31m---------------------------------------------------------------------------\u001b[0m",
      "\u001b[0;31mNameError\u001b[0m                                 Traceback (most recent call last)",
      "\u001b[0;32m<ipython-input-10-e44e0428b026>\u001b[0m in \u001b[0;36m<module>\u001b[0;34m()\u001b[0m\n\u001b[0;32m----> 1\u001b[0;31m \u001b[0mdf\u001b[0m \u001b[0;34m=\u001b[0m \u001b[0mpd\u001b[0m\u001b[0;34m.\u001b[0m\u001b[0mDataFrame\u001b[0m\u001b[0;34m(\u001b[0m\u001b[0md\u001b[0m\u001b[0;34m)\u001b[0m\u001b[0;34m\u001b[0m\u001b[0m\n\u001b[0m\u001b[1;32m      2\u001b[0m \u001b[0;32mprint\u001b[0m \u001b[0;34m'number of rows ='\u001b[0m\u001b[0;34m,\u001b[0m \u001b[0mlen\u001b[0m\u001b[0;34m(\u001b[0m\u001b[0mdf\u001b[0m\u001b[0;34m)\u001b[0m\u001b[0;34m\u001b[0m\u001b[0m\n\u001b[1;32m      3\u001b[0m \u001b[0mdf\u001b[0m\u001b[0;34m.\u001b[0m\u001b[0mhead\u001b[0m\u001b[0;34m(\u001b[0m\u001b[0;34m)\u001b[0m\u001b[0;34m\u001b[0m\u001b[0m\n",
      "\u001b[0;31mNameError\u001b[0m: name 'd' is not defined"
     ]
    }
   ],
   "source": [
    "df = pd.DataFrame(d)\n",
    "print 'number of rows =', len(df)\n",
    "df.head()"
   ]
  },
  {
   "cell_type": "code",
   "execution_count": 11,
   "metadata": {
    "collapsed": false
   },
   "outputs": [
    {
     "name": "stdout",
     "output_type": "stream",
     "text": [
      "CPU times: user 3.78 s, sys: 479 ms, total: 4.26 s\n",
      "Wall time: 4.48 s\n"
     ]
    }
   ],
   "source": [
    "%%time\n",
    "#df.to_csv('subset_spAll-v5_10_0.csv', index=False)\n",
    "df = pd.read_csv('subset_spAll-v5_10_0.csv')"
   ]
  },
  {
   "cell_type": "code",
   "execution_count": 12,
   "metadata": {
    "collapsed": false
   },
   "outputs": [
    {
     "name": "stdout",
     "output_type": "stream",
     "text": [
      "number of rows = 3008000\n"
     ]
    },
    {
     "data": {
      "text/html": [
       "<div>\n",
       "<table border=\"1\" class=\"dataframe\">\n",
       "  <thead>\n",
       "    <tr style=\"text-align: right;\">\n",
       "      <th></th>\n",
       "      <th>BOSS_TARGET1</th>\n",
       "      <th>CLASS</th>\n",
       "      <th>DEC</th>\n",
       "      <th>EBOSS_TARGET0</th>\n",
       "      <th>EBOSS_TARGET1</th>\n",
       "      <th>FIBERID</th>\n",
       "      <th>MJD</th>\n",
       "      <th>OBJTYPE</th>\n",
       "      <th>PLATE</th>\n",
       "      <th>RA</th>\n",
       "      <th>THING_ID</th>\n",
       "    </tr>\n",
       "  </thead>\n",
       "  <tbody>\n",
       "    <tr>\n",
       "      <th>0</th>\n",
       "      <td>0</td>\n",
       "      <td>GALAXY</td>\n",
       "      <td>26.188042</td>\n",
       "      <td>0</td>\n",
       "      <td>2</td>\n",
       "      <td>1</td>\n",
       "      <td>57346</td>\n",
       "      <td>GALAXY</td>\n",
       "      <td>10000</td>\n",
       "      <td>30.012094</td>\n",
       "      <td>339167825</td>\n",
       "    </tr>\n",
       "    <tr>\n",
       "      <th>1</th>\n",
       "      <td>0</td>\n",
       "      <td>QSO</td>\n",
       "      <td>26.582945</td>\n",
       "      <td>0</td>\n",
       "      <td>1024</td>\n",
       "      <td>2</td>\n",
       "      <td>57346</td>\n",
       "      <td>QSO</td>\n",
       "      <td>10000</td>\n",
       "      <td>31.282286</td>\n",
       "      <td>342410358</td>\n",
       "    </tr>\n",
       "    <tr>\n",
       "      <th>2</th>\n",
       "      <td>0</td>\n",
       "      <td>GALAXY</td>\n",
       "      <td>26.608501</td>\n",
       "      <td>0</td>\n",
       "      <td>2</td>\n",
       "      <td>3</td>\n",
       "      <td>57346</td>\n",
       "      <td>GALAXY</td>\n",
       "      <td>10000</td>\n",
       "      <td>31.279594</td>\n",
       "      <td>342410449</td>\n",
       "    </tr>\n",
       "    <tr>\n",
       "      <th>3</th>\n",
       "      <td>0</td>\n",
       "      <td>QSO</td>\n",
       "      <td>26.682522</td>\n",
       "      <td>0</td>\n",
       "      <td>2048</td>\n",
       "      <td>4</td>\n",
       "      <td>57346</td>\n",
       "      <td>QSO</td>\n",
       "      <td>10000</td>\n",
       "      <td>31.237546</td>\n",
       "      <td>342675982</td>\n",
       "    </tr>\n",
       "    <tr>\n",
       "      <th>4</th>\n",
       "      <td>0</td>\n",
       "      <td>STAR</td>\n",
       "      <td>26.866054</td>\n",
       "      <td>0</td>\n",
       "      <td>2</td>\n",
       "      <td>5</td>\n",
       "      <td>57346</td>\n",
       "      <td>GALAXY</td>\n",
       "      <td>10000</td>\n",
       "      <td>31.394521</td>\n",
       "      <td>344112497</td>\n",
       "    </tr>\n",
       "  </tbody>\n",
       "</table>\n",
       "</div>"
      ],
      "text/plain": [
       "   BOSS_TARGET1   CLASS        DEC  EBOSS_TARGET0  EBOSS_TARGET1  FIBERID  \\\n",
       "0             0  GALAXY  26.188042              0              2        1   \n",
       "1             0  QSO     26.582945              0           1024        2   \n",
       "2             0  GALAXY  26.608501              0              2        3   \n",
       "3             0  QSO     26.682522              0           2048        4   \n",
       "4             0  STAR    26.866054              0              2        5   \n",
       "\n",
       "     MJD           OBJTYPE  PLATE         RA   THING_ID  \n",
       "0  57346  GALAXY            10000  30.012094  339167825  \n",
       "1  57346  QSO               10000  31.282286  342410358  \n",
       "2  57346  GALAXY            10000  31.279594  342410449  \n",
       "3  57346  QSO               10000  31.237546  342675982  \n",
       "4  57346  GALAXY            10000  31.394521  344112497  "
      ]
     },
     "execution_count": 12,
     "metadata": {},
     "output_type": "execute_result"
    }
   ],
   "source": [
    "print 'number of rows =', len(df)\n",
    "df.head()"
   ]
  },
  {
   "cell_type": "markdown",
   "metadata": {},
   "source": [
    "## Computing pixels"
   ]
  },
  {
   "cell_type": "code",
   "execution_count": 13,
   "metadata": {
    "collapsed": false
   },
   "outputs": [
    {
     "data": {
      "text/plain": [
       "3369"
      ]
     },
     "execution_count": 13,
     "metadata": {},
     "output_type": "execute_result"
    }
   ],
   "source": [
    "'''map celestial coordinates to angular'''\n",
    "\n",
    "#The resolution of the map\n",
    "NSide = 2**5\n",
    "\n",
    "phi_rad   = lambda ra : ra*np.pi/180.\n",
    "theta_rad = lambda dec: (90.0 - dec)*np.pi/180.\n",
    "\n",
    "df['PIX'] = hp.ang2pix(NSide, theta_rad(df['DEC']), phi_rad(df['RA']))\n",
    "\n",
    "# Number of unique pixels\n",
    "len(df['PIX'].unique())"
   ]
  },
  {
   "cell_type": "code",
   "execution_count": 14,
   "metadata": {
    "collapsed": false
   },
   "outputs": [
    {
     "data": {
      "text/html": [
       "<div>\n",
       "<table border=\"1\" class=\"dataframe\">\n",
       "  <thead>\n",
       "    <tr style=\"text-align: right;\">\n",
       "      <th></th>\n",
       "      <th>BOSS_TARGET1</th>\n",
       "      <th>CLASS</th>\n",
       "      <th>DEC</th>\n",
       "      <th>EBOSS_TARGET0</th>\n",
       "      <th>EBOSS_TARGET1</th>\n",
       "      <th>FIBERID</th>\n",
       "      <th>MJD</th>\n",
       "      <th>OBJTYPE</th>\n",
       "      <th>PLATE</th>\n",
       "      <th>RA</th>\n",
       "      <th>THING_ID</th>\n",
       "      <th>PIX</th>\n",
       "    </tr>\n",
       "  </thead>\n",
       "  <tbody>\n",
       "    <tr>\n",
       "      <th>1</th>\n",
       "      <td>0</td>\n",
       "      <td>QSO</td>\n",
       "      <td>26.582945</td>\n",
       "      <td>0</td>\n",
       "      <td>1024</td>\n",
       "      <td>2</td>\n",
       "      <td>57346</td>\n",
       "      <td>QSO</td>\n",
       "      <td>10000</td>\n",
       "      <td>31.282286</td>\n",
       "      <td>342410358</td>\n",
       "      <td>3403</td>\n",
       "    </tr>\n",
       "    <tr>\n",
       "      <th>3</th>\n",
       "      <td>0</td>\n",
       "      <td>QSO</td>\n",
       "      <td>26.682522</td>\n",
       "      <td>0</td>\n",
       "      <td>2048</td>\n",
       "      <td>4</td>\n",
       "      <td>57346</td>\n",
       "      <td>QSO</td>\n",
       "      <td>10000</td>\n",
       "      <td>31.237546</td>\n",
       "      <td>342675982</td>\n",
       "      <td>3403</td>\n",
       "    </tr>\n",
       "    <tr>\n",
       "      <th>5</th>\n",
       "      <td>0</td>\n",
       "      <td>QSO</td>\n",
       "      <td>26.810259</td>\n",
       "      <td>0</td>\n",
       "      <td>1024</td>\n",
       "      <td>6</td>\n",
       "      <td>57346</td>\n",
       "      <td>QSO</td>\n",
       "      <td>10000</td>\n",
       "      <td>31.327011</td>\n",
       "      <td>344111998</td>\n",
       "      <td>3403</td>\n",
       "    </tr>\n",
       "    <tr>\n",
       "      <th>6</th>\n",
       "      <td>0</td>\n",
       "      <td>QSO</td>\n",
       "      <td>26.935936</td>\n",
       "      <td>0</td>\n",
       "      <td>2048</td>\n",
       "      <td>7</td>\n",
       "      <td>57346</td>\n",
       "      <td>QSO</td>\n",
       "      <td>10000</td>\n",
       "      <td>31.408747</td>\n",
       "      <td>345724597</td>\n",
       "      <td>3275</td>\n",
       "    </tr>\n",
       "    <tr>\n",
       "      <th>7</th>\n",
       "      <td>0</td>\n",
       "      <td>QSO</td>\n",
       "      <td>26.953807</td>\n",
       "      <td>0</td>\n",
       "      <td>1024</td>\n",
       "      <td>8</td>\n",
       "      <td>57346</td>\n",
       "      <td>QSO</td>\n",
       "      <td>10000</td>\n",
       "      <td>31.362048</td>\n",
       "      <td>345724589</td>\n",
       "      <td>3275</td>\n",
       "    </tr>\n",
       "  </tbody>\n",
       "</table>\n",
       "</div>"
      ],
      "text/plain": [
       "   BOSS_TARGET1   CLASS        DEC  EBOSS_TARGET0  EBOSS_TARGET1  FIBERID  \\\n",
       "1             0  QSO     26.582945              0           1024        2   \n",
       "3             0  QSO     26.682522              0           2048        4   \n",
       "5             0  QSO     26.810259              0           1024        6   \n",
       "6             0  QSO     26.935936              0           2048        7   \n",
       "7             0  QSO     26.953807              0           1024        8   \n",
       "\n",
       "     MJD           OBJTYPE  PLATE         RA   THING_ID   PIX  \n",
       "1  57346  QSO               10000  31.282286  342410358  3403  \n",
       "3  57346  QSO               10000  31.237546  342675982  3403  \n",
       "5  57346  QSO               10000  31.327011  344111998  3403  \n",
       "6  57346  QSO               10000  31.408747  345724597  3275  \n",
       "7  57346  QSO               10000  31.362048  345724589  3275  "
      ]
     },
     "execution_count": 14,
     "metadata": {},
     "output_type": "execute_result"
    }
   ],
   "source": [
    "df = df.query('CLASS== \"QSO\".ljust(6) & (OBJTYPE==\"QSO\".ljust(16) | OBJTYPE==\"NA\".ljust(16)) & THING_ID != -1')\n",
    "df.head()"
   ]
  },
  {
   "cell_type": "markdown",
   "metadata": {},
   "source": [
    "## Searching for quasars"
   ]
  },
  {
   "cell_type": "code",
   "execution_count": 15,
   "metadata": {
    "collapsed": true
   },
   "outputs": [],
   "source": [
    "bit_boss = [10,11,12,13,14,15,16,17,18,19,40,41,42,43,44]\n",
    "bit_eboss = [10,11,12,13,14,15,16,17,18]\n",
    "\n",
    "def is_quasar(dataset, mask_bit):\n",
    "    is_qso  = lambda b: ((df[dataset] & 2**b) > 0)\n",
    "    all_qso = map(is_qso, mask_bit)\n",
    "    return reduce(lambda x, y: x |  y , all_qso)"
   ]
  },
  {
   "cell_type": "code",
   "execution_count": 16,
   "metadata": {
    "collapsed": false
   },
   "outputs": [
    {
     "name": "stdout",
     "output_type": "stream",
     "text": [
      "total qso in BOSS_TARGET1 =   285071\n",
      "total qso in EBOSS_TARGET0 =  38164\n",
      "total qso in EBOSS_TARGET1 =  160854\n"
     ]
    }
   ],
   "source": [
    "print 'total qso in BOSS_TARGET1 =  ', is_quasar('BOSS_TARGET1', bit_boss).sum()\n",
    "print 'total qso in EBOSS_TARGET0 = ', is_quasar('EBOSS_TARGET0', bit_eboss).sum()\n",
    "print 'total qso in EBOSS_TARGET1 = ', is_quasar('EBOSS_TARGET1', bit_eboss).sum() "
   ]
  },
  {
   "cell_type": "code",
   "execution_count": 17,
   "metadata": {
    "collapsed": false
   },
   "outputs": [
    {
     "name": "stdout",
     "output_type": "stream",
     "text": [
      "all_qsos= 484089\n",
      "boss_qsos= 285071\n"
     ]
    }
   ],
   "source": [
    "#Filter only quasars\n",
    "\n",
    "only_qso = df[ is_quasar('BOSS_TARGET1', bit_boss)   |\n",
    "                 is_quasar('EBOSS_TARGET0', bit_eboss) | \n",
    "                 is_quasar('EBOSS_TARGET1', bit_eboss)]\n",
    "boss_qso = df[ is_quasar('BOSS_TARGET1', bit_boss)]\n",
    "\n",
    "print 'all_qsos=', len(only_qso) \n",
    "print 'boss_qsos=', len(boss_qso) "
   ]
  },
  {
   "cell_type": "code",
   "execution_count": 18,
   "metadata": {
    "collapsed": false
   },
   "outputs": [],
   "source": [
    "#test to generalize\n",
    "#dict_try = {'BOSS_TARGET1':bit_boss, 'EBOSS_TARGET0': bit_eboss, 'EBOSS_TARGET1': bit_eboss}\n",
    "#a = []\n",
    "#for k, v in dict_try.iteritems():\n",
    "#     a.append(is_quasar(k, v))\n",
    "##len(only_qso)\n",
    "#print len(df[reduce(lambda x, y: x |  y , a)])"
   ]
  },
  {
   "cell_type": "code",
   "execution_count": null,
   "metadata": {
    "collapsed": false
   },
   "outputs": [],
   "source": []
  },
  {
   "cell_type": "markdown",
   "metadata": {},
   "source": [
    "## indexing and sorting by index\n"
   ]
  },
  {
   "cell_type": "code",
   "execution_count": 19,
   "metadata": {
    "collapsed": false
   },
   "outputs": [
    {
     "data": {
      "text/html": [
       "<div>\n",
       "<table border=\"1\" class=\"dataframe\">\n",
       "  <thead>\n",
       "    <tr style=\"text-align: right;\">\n",
       "      <th></th>\n",
       "      <th></th>\n",
       "      <th>BOSS_TARGET1</th>\n",
       "      <th>CLASS</th>\n",
       "      <th>DEC</th>\n",
       "      <th>EBOSS_TARGET0</th>\n",
       "      <th>EBOSS_TARGET1</th>\n",
       "      <th>FIBERID</th>\n",
       "      <th>MJD</th>\n",
       "      <th>OBJTYPE</th>\n",
       "      <th>PLATE</th>\n",
       "      <th>RA</th>\n",
       "      <th>THING_ID</th>\n",
       "      <th>PIX</th>\n",
       "    </tr>\n",
       "    <tr>\n",
       "      <th>PIX</th>\n",
       "      <th>THING_ID</th>\n",
       "      <th></th>\n",
       "      <th></th>\n",
       "      <th></th>\n",
       "      <th></th>\n",
       "      <th></th>\n",
       "      <th></th>\n",
       "      <th></th>\n",
       "      <th></th>\n",
       "      <th></th>\n",
       "      <th></th>\n",
       "      <th></th>\n",
       "      <th></th>\n",
       "    </tr>\n",
       "  </thead>\n",
       "  <tbody>\n",
       "    <tr>\n",
       "      <th rowspan=\"2\" valign=\"top\">391</th>\n",
       "      <th>552894319</th>\n",
       "      <td>2199023796224</td>\n",
       "      <td>QSO</td>\n",
       "      <td>68.381197</td>\n",
       "      <td>0</td>\n",
       "      <td>0</td>\n",
       "      <td>622</td>\n",
       "      <td>56667</td>\n",
       "      <td>QSO</td>\n",
       "      <td>7115</td>\n",
       "      <td>175.258222</td>\n",
       "      <td>552894319</td>\n",
       "      <td>391</td>\n",
       "    </tr>\n",
       "    <tr>\n",
       "      <th>552921545</th>\n",
       "      <td>2199023796224</td>\n",
       "      <td>QSO</td>\n",
       "      <td>68.418125</td>\n",
       "      <td>0</td>\n",
       "      <td>0</td>\n",
       "      <td>624</td>\n",
       "      <td>56667</td>\n",
       "      <td>QSO</td>\n",
       "      <td>7115</td>\n",
       "      <td>175.582630</td>\n",
       "      <td>552921545</td>\n",
       "      <td>391</td>\n",
       "    </tr>\n",
       "    <tr>\n",
       "      <th rowspan=\"3\" valign=\"top\">392</th>\n",
       "      <th>552514273</th>\n",
       "      <td>3298535424000</td>\n",
       "      <td>QSO</td>\n",
       "      <td>68.011275</td>\n",
       "      <td>0</td>\n",
       "      <td>0</td>\n",
       "      <td>932</td>\n",
       "      <td>56748</td>\n",
       "      <td>QSO</td>\n",
       "      <td>6966</td>\n",
       "      <td>185.714425</td>\n",
       "      <td>552514273</td>\n",
       "      <td>392</td>\n",
       "    </tr>\n",
       "    <tr>\n",
       "      <th>552514407</th>\n",
       "      <td>3298535424000</td>\n",
       "      <td>QSO</td>\n",
       "      <td>68.070896</td>\n",
       "      <td>0</td>\n",
       "      <td>0</td>\n",
       "      <td>886</td>\n",
       "      <td>56748</td>\n",
       "      <td>QSO</td>\n",
       "      <td>6966</td>\n",
       "      <td>185.578268</td>\n",
       "      <td>552514407</td>\n",
       "      <td>392</td>\n",
       "    </tr>\n",
       "    <tr>\n",
       "      <th>552727940</th>\n",
       "      <td>3298535424000</td>\n",
       "      <td>QSO</td>\n",
       "      <td>68.328449</td>\n",
       "      <td>0</td>\n",
       "      <td>0</td>\n",
       "      <td>918</td>\n",
       "      <td>56748</td>\n",
       "      <td>QSO</td>\n",
       "      <td>6966</td>\n",
       "      <td>185.944277</td>\n",
       "      <td>552727940</td>\n",
       "      <td>392</td>\n",
       "    </tr>\n",
       "  </tbody>\n",
       "</table>\n",
       "</div>"
      ],
      "text/plain": [
       "                BOSS_TARGET1   CLASS        DEC  EBOSS_TARGET0  EBOSS_TARGET1  \\\n",
       "PIX THING_ID                                                                    \n",
       "391 552894319  2199023796224  QSO     68.381197              0              0   \n",
       "    552921545  2199023796224  QSO     68.418125              0              0   \n",
       "392 552514273  3298535424000  QSO     68.011275              0              0   \n",
       "    552514407  3298535424000  QSO     68.070896              0              0   \n",
       "    552727940  3298535424000  QSO     68.328449              0              0   \n",
       "\n",
       "               FIBERID    MJD           OBJTYPE  PLATE          RA   THING_ID  \\\n",
       "PIX THING_ID                                                                    \n",
       "391 552894319      622  56667  QSO                7115  175.258222  552894319   \n",
       "    552921545      624  56667  QSO                7115  175.582630  552921545   \n",
       "392 552514273      932  56748  QSO                6966  185.714425  552514273   \n",
       "    552514407      886  56748  QSO                6966  185.578268  552514407   \n",
       "    552727940      918  56748  QSO                6966  185.944277  552727940   \n",
       "\n",
       "               PIX  \n",
       "PIX THING_ID        \n",
       "391 552894319  391  \n",
       "    552921545  391  \n",
       "392 552514273  392  \n",
       "    552514407  392  \n",
       "    552727940  392  "
      ]
     },
     "execution_count": 19,
     "metadata": {},
     "output_type": "execute_result"
    }
   ],
   "source": [
    "#Eliminate quasars that have THING_ID == -1\n",
    "\n",
    "all_qso = only_qso.set_index(['PIX','THING_ID'], drop=False).sort_index()\n",
    "all_qso.head()"
   ]
  },
  {
   "cell_type": "code",
   "execution_count": 20,
   "metadata": {
    "collapsed": false
   },
   "outputs": [
    {
     "name": "stdout",
     "output_type": "stream",
     "text": [
      "484089\n"
     ]
    }
   ],
   "source": [
    "print (len(all_qso))"
   ]
  },
  {
   "cell_type": "code",
   "execution_count": 21,
   "metadata": {
    "collapsed": false
   },
   "outputs": [],
   "source": [
    "group_dt= all_qso.groupby('THING_ID').size().to_frame('rep')"
   ]
  },
  {
   "cell_type": "markdown",
   "metadata": {},
   "source": [
    "### Qsos which THING_ID is repeated >= 2"
   ]
  },
  {
   "cell_type": "code",
   "execution_count": 22,
   "metadata": {
    "collapsed": false
   },
   "outputs": [
    {
     "name": "stdout",
     "output_type": "stream",
     "text": [
      "93966\n"
     ]
    }
   ],
   "source": [
    "print (len(all_qso)) - len(group_dt[group_dt['rep']==1])"
   ]
  },
  {
   "cell_type": "code",
   "execution_count": null,
   "metadata": {
    "collapsed": false
   },
   "outputs": [],
   "source": []
  },
  {
   "cell_type": "markdown",
   "metadata": {},
   "source": [
    "### Select  a certain pixel info"
   ]
  },
  {
   "cell_type": "code",
   "execution_count": 23,
   "metadata": {
    "collapsed": false
   },
   "outputs": [
    {
     "data": {
      "text/html": [
       "<div>\n",
       "<table border=\"1\" class=\"dataframe\">\n",
       "  <thead>\n",
       "    <tr style=\"text-align: right;\">\n",
       "      <th></th>\n",
       "      <th></th>\n",
       "      <th>BOSS_TARGET1</th>\n",
       "      <th>CLASS</th>\n",
       "      <th>DEC</th>\n",
       "      <th>EBOSS_TARGET0</th>\n",
       "      <th>EBOSS_TARGET1</th>\n",
       "      <th>FIBERID</th>\n",
       "      <th>MJD</th>\n",
       "      <th>OBJTYPE</th>\n",
       "      <th>PLATE</th>\n",
       "      <th>RA</th>\n",
       "      <th>THING_ID</th>\n",
       "      <th>PIX</th>\n",
       "    </tr>\n",
       "    <tr>\n",
       "      <th>PIX</th>\n",
       "      <th>THING_ID</th>\n",
       "      <th></th>\n",
       "      <th></th>\n",
       "      <th></th>\n",
       "      <th></th>\n",
       "      <th></th>\n",
       "      <th></th>\n",
       "      <th></th>\n",
       "      <th></th>\n",
       "      <th></th>\n",
       "      <th></th>\n",
       "      <th></th>\n",
       "      <th></th>\n",
       "    </tr>\n",
       "  </thead>\n",
       "  <tbody>\n",
       "    <tr>\n",
       "      <th rowspan=\"5\" valign=\"top\">450</th>\n",
       "      <th>550116719</th>\n",
       "      <td>2199023255552</td>\n",
       "      <td>QSO</td>\n",
       "      <td>66.581635</td>\n",
       "      <td>0</td>\n",
       "      <td>0</td>\n",
       "      <td>914</td>\n",
       "      <td>56720</td>\n",
       "      <td>QSO</td>\n",
       "      <td>6975</td>\n",
       "      <td>185.252205</td>\n",
       "      <td>550116719</td>\n",
       "      <td>450</td>\n",
       "    </tr>\n",
       "    <tr>\n",
       "      <th>550164118</th>\n",
       "      <td>2199023796224</td>\n",
       "      <td>QSO</td>\n",
       "      <td>66.543038</td>\n",
       "      <td>0</td>\n",
       "      <td>0</td>\n",
       "      <td>86</td>\n",
       "      <td>56748</td>\n",
       "      <td>QSO</td>\n",
       "      <td>6966</td>\n",
       "      <td>185.340753</td>\n",
       "      <td>550164118</td>\n",
       "      <td>450</td>\n",
       "    </tr>\n",
       "    <tr>\n",
       "      <th>550164118</th>\n",
       "      <td>2199023796224</td>\n",
       "      <td>QSO</td>\n",
       "      <td>66.543038</td>\n",
       "      <td>0</td>\n",
       "      <td>0</td>\n",
       "      <td>493</td>\n",
       "      <td>56720</td>\n",
       "      <td>QSO</td>\n",
       "      <td>7120</td>\n",
       "      <td>185.340753</td>\n",
       "      <td>550164118</td>\n",
       "      <td>450</td>\n",
       "    </tr>\n",
       "    <tr>\n",
       "      <th>550532243</th>\n",
       "      <td>2199023779840</td>\n",
       "      <td>QSO</td>\n",
       "      <td>66.691725</td>\n",
       "      <td>0</td>\n",
       "      <td>0</td>\n",
       "      <td>132</td>\n",
       "      <td>56748</td>\n",
       "      <td>QSO</td>\n",
       "      <td>6966</td>\n",
       "      <td>185.091304</td>\n",
       "      <td>550532243</td>\n",
       "      <td>450</td>\n",
       "    </tr>\n",
       "    <tr>\n",
       "      <th>550532243</th>\n",
       "      <td>2199023779840</td>\n",
       "      <td>QSO</td>\n",
       "      <td>66.691725</td>\n",
       "      <td>0</td>\n",
       "      <td>0</td>\n",
       "      <td>905</td>\n",
       "      <td>56720</td>\n",
       "      <td>QSO</td>\n",
       "      <td>6975</td>\n",
       "      <td>185.091304</td>\n",
       "      <td>550532243</td>\n",
       "      <td>450</td>\n",
       "    </tr>\n",
       "  </tbody>\n",
       "</table>\n",
       "</div>"
      ],
      "text/plain": [
       "                BOSS_TARGET1   CLASS        DEC  EBOSS_TARGET0  EBOSS_TARGET1  \\\n",
       "PIX THING_ID                                                                    \n",
       "450 550116719  2199023255552  QSO     66.581635              0              0   \n",
       "    550164118  2199023796224  QSO     66.543038              0              0   \n",
       "    550164118  2199023796224  QSO     66.543038              0              0   \n",
       "    550532243  2199023779840  QSO     66.691725              0              0   \n",
       "    550532243  2199023779840  QSO     66.691725              0              0   \n",
       "\n",
       "               FIBERID    MJD           OBJTYPE  PLATE          RA   THING_ID  \\\n",
       "PIX THING_ID                                                                    \n",
       "450 550116719      914  56720  QSO                6975  185.252205  550116719   \n",
       "    550164118       86  56748  QSO                6966  185.340753  550164118   \n",
       "    550164118      493  56720  QSO                7120  185.340753  550164118   \n",
       "    550532243      132  56748  QSO                6966  185.091304  550532243   \n",
       "    550532243      905  56720  QSO                6975  185.091304  550532243   \n",
       "\n",
       "               PIX  \n",
       "PIX THING_ID        \n",
       "450 550116719  450  \n",
       "    550164118  450  \n",
       "    550164118  450  \n",
       "    550532243  450  \n",
       "    550532243  450  "
      ]
     },
     "execution_count": 23,
     "metadata": {},
     "output_type": "execute_result"
    }
   ],
   "source": [
    "#only the first rows of pixel 393\n",
    "all_qso.query('PIX == 450 | PIX == 796').head()"
   ]
  },
  {
   "cell_type": "code",
   "execution_count": 24,
   "metadata": {
    "collapsed": false
   },
   "outputs": [
    {
     "name": "stdout",
     "output_type": "stream",
     "text": [
      "# of THING_IDs within this pixel = 10\n",
      "# of unique THING_IDs within this pixel = 10\n"
     ]
    }
   ],
   "source": [
    "print '# of THING_IDs within this pixel =', len(all_qso.loc[392].index)\n",
    "print '# of unique THING_IDs within this pixel =', len(all_qso.loc[392].index.unique())"
   ]
  },
  {
   "cell_type": "code",
   "execution_count": 25,
   "metadata": {
    "collapsed": false
   },
   "outputs": [],
   "source": [
    "#print pixel, thing_id and number of times repeated\n",
    "def pix_with_uniqueid(pix_id, max_rep):\n",
    "    rep_thing_id = all_qso.query('PIX == {}'.format(pix_id)).groupby('THING_ID').size()\n",
    "    if not rep_thing_id[rep_thing_id> max_rep].empty:\n",
    "        print pix_id, dict(rep_thing_id[rep_thing_id> max_rep])\n",
    "    "
   ]
  },
  {
   "cell_type": "code",
   "execution_count": 26,
   "metadata": {
    "collapsed": false
   },
   "outputs": [],
   "source": [
    "list_pix = all_qso['PIX'].unique()"
   ]
  },
  {
   "cell_type": "code",
   "execution_count": 27,
   "metadata": {
    "collapsed": false
   },
   "outputs": [
    {
     "name": "stdout",
     "output_type": "stream",
     "text": [
      "1051 {505037851: 5}\n"
     ]
    }
   ],
   "source": [
    "#{pix: {thing_id: n_repetitions}}\n",
    "for a in list_pix[:200]:\n",
    "    pix_with_uniqueid(a, 4)"
   ]
  },
  {
   "cell_type": "code",
   "execution_count": 28,
   "metadata": {
    "collapsed": true
   },
   "outputs": [],
   "source": [
    "\n",
    "def get_file(plate, name_of_file):\n",
    "    url = 'https://data.sdss.org/sas/ebosswork/eboss/spectro/redux/v5_10_0/spectra/%s/%s'%(plate,name_of_file)\n",
    "    username = 'sdss'\n",
    "    password = '2.5-meters'\n",
    "\n",
    "    # I have had to add a carriage return ('%s:%s\\n'), but\n",
    "    # you may not have to.\n",
    "    b64login = b64encode('%s:%s' % (username, password))\n",
    "\n",
    "    br = mechanize.Browser()\n",
    "    br.set_handle_robots(False)\n",
    "    \n",
    "    br.addheaders.append( \n",
    "      ('Authorization', 'Basic %s' % b64login )\n",
    "    )\n",
    "\n",
    "    br.open(url)\n",
    "    r = br.response()\n",
    "    data = r.read()\n",
    "\n",
    "    with open('%s'%(name_of_file),'wb') as output:\n",
    "          output.write(data)"
   ]
  },
  {
   "cell_type": "markdown",
   "metadata": {},
   "source": [
    "## Quasars with same THING_ID"
   ]
  },
  {
   "cell_type": "code",
   "execution_count": 30,
   "metadata": {
    "collapsed": false
   },
   "outputs": [
    {
     "data": {
      "text/html": [
       "<div>\n",
       "<table border=\"1\" class=\"dataframe\">\n",
       "  <thead>\n",
       "    <tr style=\"text-align: right;\">\n",
       "      <th></th>\n",
       "      <th></th>\n",
       "      <th>BOSS_TARGET1</th>\n",
       "      <th>CLASS</th>\n",
       "      <th>DEC</th>\n",
       "      <th>EBOSS_TARGET0</th>\n",
       "      <th>EBOSS_TARGET1</th>\n",
       "      <th>FIBERID</th>\n",
       "      <th>MJD</th>\n",
       "      <th>OBJTYPE</th>\n",
       "      <th>PLATE</th>\n",
       "      <th>RA</th>\n",
       "      <th>THING_ID</th>\n",
       "      <th>PIX</th>\n",
       "    </tr>\n",
       "    <tr>\n",
       "      <th>PIX</th>\n",
       "      <th>THING_ID</th>\n",
       "      <th></th>\n",
       "      <th></th>\n",
       "      <th></th>\n",
       "      <th></th>\n",
       "      <th></th>\n",
       "      <th></th>\n",
       "      <th></th>\n",
       "      <th></th>\n",
       "      <th></th>\n",
       "      <th></th>\n",
       "      <th></th>\n",
       "      <th></th>\n",
       "    </tr>\n",
       "  </thead>\n",
       "  <tbody>\n",
       "    <tr>\n",
       "      <th rowspan=\"13\" valign=\"top\">6093</th>\n",
       "      <th>110619413</th>\n",
       "      <td>246784</td>\n",
       "      <td>QSO</td>\n",
       "      <td>0.800487</td>\n",
       "      <td>0</td>\n",
       "      <td>0</td>\n",
       "      <td>946</td>\n",
       "      <td>55179</td>\n",
       "      <td>QSO</td>\n",
       "      <td>3615</td>\n",
       "      <td>38.248336</td>\n",
       "      <td>110619413</td>\n",
       "      <td>6093</td>\n",
       "    </tr>\n",
       "    <tr>\n",
       "      <th>110619413</th>\n",
       "      <td>246784</td>\n",
       "      <td>QSO</td>\n",
       "      <td>0.800487</td>\n",
       "      <td>0</td>\n",
       "      <td>0</td>\n",
       "      <td>948</td>\n",
       "      <td>55208</td>\n",
       "      <td>QSO</td>\n",
       "      <td>3615</td>\n",
       "      <td>38.248336</td>\n",
       "      <td>110619413</td>\n",
       "      <td>6093</td>\n",
       "    </tr>\n",
       "    <tr>\n",
       "      <th>110619413</th>\n",
       "      <td>246784</td>\n",
       "      <td>QSO</td>\n",
       "      <td>0.800487</td>\n",
       "      <td>0</td>\n",
       "      <td>0</td>\n",
       "      <td>964</td>\n",
       "      <td>56219</td>\n",
       "      <td>QSO</td>\n",
       "      <td>3615</td>\n",
       "      <td>38.248336</td>\n",
       "      <td>110619413</td>\n",
       "      <td>6093</td>\n",
       "    </tr>\n",
       "    <tr>\n",
       "      <th>110619413</th>\n",
       "      <td>246784</td>\n",
       "      <td>QSO</td>\n",
       "      <td>0.800487</td>\n",
       "      <td>0</td>\n",
       "      <td>0</td>\n",
       "      <td>952</td>\n",
       "      <td>56544</td>\n",
       "      <td>QSO</td>\n",
       "      <td>3615</td>\n",
       "      <td>38.248336</td>\n",
       "      <td>110619413</td>\n",
       "      <td>6093</td>\n",
       "    </tr>\n",
       "    <tr>\n",
       "      <th>110619413</th>\n",
       "      <td>246784</td>\n",
       "      <td>QSO</td>\n",
       "      <td>0.800487</td>\n",
       "      <td>0</td>\n",
       "      <td>0</td>\n",
       "      <td>957</td>\n",
       "      <td>55181</td>\n",
       "      <td>QSO</td>\n",
       "      <td>3647</td>\n",
       "      <td>38.248336</td>\n",
       "      <td>110619413</td>\n",
       "      <td>6093</td>\n",
       "    </tr>\n",
       "    <tr>\n",
       "      <th>110619413</th>\n",
       "      <td>246784</td>\n",
       "      <td>QSO</td>\n",
       "      <td>0.800487</td>\n",
       "      <td>0</td>\n",
       "      <td>0</td>\n",
       "      <td>949</td>\n",
       "      <td>55241</td>\n",
       "      <td>QSO</td>\n",
       "      <td>3647</td>\n",
       "      <td>38.248336</td>\n",
       "      <td>110619413</td>\n",
       "      <td>6093</td>\n",
       "    </tr>\n",
       "    <tr>\n",
       "      <th>110619413</th>\n",
       "      <td>246784</td>\n",
       "      <td>QSO</td>\n",
       "      <td>0.800487</td>\n",
       "      <td>0</td>\n",
       "      <td>0</td>\n",
       "      <td>953</td>\n",
       "      <td>55476</td>\n",
       "      <td>QSO</td>\n",
       "      <td>3647</td>\n",
       "      <td>38.248336</td>\n",
       "      <td>110619413</td>\n",
       "      <td>6093</td>\n",
       "    </tr>\n",
       "    <tr>\n",
       "      <th>110619413</th>\n",
       "      <td>246784</td>\n",
       "      <td>QSO</td>\n",
       "      <td>0.800487</td>\n",
       "      <td>0</td>\n",
       "      <td>0</td>\n",
       "      <td>967</td>\n",
       "      <td>55827</td>\n",
       "      <td>QSO</td>\n",
       "      <td>3647</td>\n",
       "      <td>38.248336</td>\n",
       "      <td>110619413</td>\n",
       "      <td>6093</td>\n",
       "    </tr>\n",
       "    <tr>\n",
       "      <th>110619413</th>\n",
       "      <td>246784</td>\n",
       "      <td>QSO</td>\n",
       "      <td>0.800487</td>\n",
       "      <td>0</td>\n",
       "      <td>0</td>\n",
       "      <td>999</td>\n",
       "      <td>55945</td>\n",
       "      <td>QSO</td>\n",
       "      <td>3647</td>\n",
       "      <td>38.248336</td>\n",
       "      <td>110619413</td>\n",
       "      <td>6093</td>\n",
       "    </tr>\n",
       "    <tr>\n",
       "      <th>110619413</th>\n",
       "      <td>246784</td>\n",
       "      <td>QSO</td>\n",
       "      <td>0.800487</td>\n",
       "      <td>0</td>\n",
       "      <td>0</td>\n",
       "      <td>947</td>\n",
       "      <td>56219</td>\n",
       "      <td>QSO</td>\n",
       "      <td>3647</td>\n",
       "      <td>38.248336</td>\n",
       "      <td>110619413</td>\n",
       "      <td>6093</td>\n",
       "    </tr>\n",
       "    <tr>\n",
       "      <th>110619413</th>\n",
       "      <td>246784</td>\n",
       "      <td>QSO</td>\n",
       "      <td>0.800487</td>\n",
       "      <td>0</td>\n",
       "      <td>0</td>\n",
       "      <td>941</td>\n",
       "      <td>56568</td>\n",
       "      <td>QSO</td>\n",
       "      <td>3647</td>\n",
       "      <td>38.248336</td>\n",
       "      <td>110619413</td>\n",
       "      <td>6093</td>\n",
       "    </tr>\n",
       "    <tr>\n",
       "      <th>110619413</th>\n",
       "      <td>246784</td>\n",
       "      <td>QSO</td>\n",
       "      <td>0.800487</td>\n",
       "      <td>0</td>\n",
       "      <td>0</td>\n",
       "      <td>945</td>\n",
       "      <td>56596</td>\n",
       "      <td>QSO</td>\n",
       "      <td>3647</td>\n",
       "      <td>38.248336</td>\n",
       "      <td>110619413</td>\n",
       "      <td>6093</td>\n",
       "    </tr>\n",
       "    <tr>\n",
       "      <th>110619413</th>\n",
       "      <td>2199023259648</td>\n",
       "      <td>QSO</td>\n",
       "      <td>0.800487</td>\n",
       "      <td>0</td>\n",
       "      <td>0</td>\n",
       "      <td>948</td>\n",
       "      <td>55455</td>\n",
       "      <td>QSO</td>\n",
       "      <td>4238</td>\n",
       "      <td>38.248336</td>\n",
       "      <td>110619413</td>\n",
       "      <td>6093</td>\n",
       "    </tr>\n",
       "  </tbody>\n",
       "</table>\n",
       "</div>"
      ],
      "text/plain": [
       "                 BOSS_TARGET1   CLASS       DEC  EBOSS_TARGET0  EBOSS_TARGET1  \\\n",
       "PIX  THING_ID                                                                   \n",
       "6093 110619413         246784  QSO     0.800487              0              0   \n",
       "     110619413         246784  QSO     0.800487              0              0   \n",
       "     110619413         246784  QSO     0.800487              0              0   \n",
       "     110619413         246784  QSO     0.800487              0              0   \n",
       "     110619413         246784  QSO     0.800487              0              0   \n",
       "     110619413         246784  QSO     0.800487              0              0   \n",
       "     110619413         246784  QSO     0.800487              0              0   \n",
       "     110619413         246784  QSO     0.800487              0              0   \n",
       "     110619413         246784  QSO     0.800487              0              0   \n",
       "     110619413         246784  QSO     0.800487              0              0   \n",
       "     110619413         246784  QSO     0.800487              0              0   \n",
       "     110619413         246784  QSO     0.800487              0              0   \n",
       "     110619413  2199023259648  QSO     0.800487              0              0   \n",
       "\n",
       "                FIBERID    MJD           OBJTYPE  PLATE         RA   THING_ID  \\\n",
       "PIX  THING_ID                                                                   \n",
       "6093 110619413      946  55179  QSO                3615  38.248336  110619413   \n",
       "     110619413      948  55208  QSO                3615  38.248336  110619413   \n",
       "     110619413      964  56219  QSO                3615  38.248336  110619413   \n",
       "     110619413      952  56544  QSO                3615  38.248336  110619413   \n",
       "     110619413      957  55181  QSO                3647  38.248336  110619413   \n",
       "     110619413      949  55241  QSO                3647  38.248336  110619413   \n",
       "     110619413      953  55476  QSO                3647  38.248336  110619413   \n",
       "     110619413      967  55827  QSO                3647  38.248336  110619413   \n",
       "     110619413      999  55945  QSO                3647  38.248336  110619413   \n",
       "     110619413      947  56219  QSO                3647  38.248336  110619413   \n",
       "     110619413      941  56568  QSO                3647  38.248336  110619413   \n",
       "     110619413      945  56596  QSO                3647  38.248336  110619413   \n",
       "     110619413      948  55455  QSO                4238  38.248336  110619413   \n",
       "\n",
       "                 PIX  \n",
       "PIX  THING_ID         \n",
       "6093 110619413  6093  \n",
       "     110619413  6093  \n",
       "     110619413  6093  \n",
       "     110619413  6093  \n",
       "     110619413  6093  \n",
       "     110619413  6093  \n",
       "     110619413  6093  \n",
       "     110619413  6093  \n",
       "     110619413  6093  \n",
       "     110619413  6093  \n",
       "     110619413  6093  \n",
       "     110619413  6093  \n",
       "     110619413  6093  "
      ]
     },
     "execution_count": 30,
     "metadata": {},
     "output_type": "execute_result"
    }
   ],
   "source": [
    "thing_id = 110619413 #341840093 \n",
    "all_qso.query('THING_ID == %s'%(thing_id))"
   ]
  },
  {
   "cell_type": "code",
   "execution_count": 805,
   "metadata": {
    "collapsed": false
   },
   "outputs": [],
   "source": [
    "plates   = list(all_qso.query('THING_ID == %s'%(thing_id))['PLATE'].values)\n",
    "mjds     = list(all_qso.query('THING_ID == %s'%(thing_id))['MJD'].values)\n",
    "fiberids = list(all_qso.query('THING_ID == %s'%(thing_id))['FIBERID'].values)"
   ]
  },
  {
   "cell_type": "code",
   "execution_count": 806,
   "metadata": {
    "collapsed": false
   },
   "outputs": [],
   "source": [
    "files = ['spec-%s-%s-%s.fits'%(plate,mjd,str(fiberid).zfill(4)) for plate,mjd,fiberid in zip(plates,mjds,fiberids)]\n",
    "plate_n = ['%s'%(plate) for plate in plates]"
   ]
  },
  {
   "cell_type": "code",
   "execution_count": 629,
   "metadata": {
    "collapsed": false
   },
   "outputs": [],
   "source": [
    "#get files from the web and store them into your current directory\n",
    "#for plate, names in zip(plates, files):\n",
    "#    get_file(plate, names)"
   ]
  },
  {
   "cell_type": "code",
   "execution_count": 38,
   "metadata": {
    "collapsed": false
   },
   "outputs": [],
   "source": [
    "#read fits files \n",
    "\n",
    "def read_flux_file(files):\n",
    "    fits = fitsio.FITS(files)\n",
    "    cols = ['flux','loglam','ivar','and_mask','or_mask', 'wdisp', 'sky', 'model']\n",
    "    d = {col: fits[1][col].read().byteswap().newbyteorder() for col in cols}\n",
    "    df = pd.DataFrame(d)\n",
    "    return df"
   ]
  },
  {
   "cell_type": "code",
   "execution_count": 809,
   "metadata": {
    "collapsed": false
   },
   "outputs": [],
   "source": [
    "dt_s=[]\n",
    "for l in files:\n",
    "        dt_x = read_flux_file(l).set_index('loglam')\n",
    "        dt_s.append(dt_x)"
   ]
  },
  {
   "cell_type": "code",
   "execution_count": 810,
   "metadata": {
    "collapsed": false
   },
   "outputs": [
    {
     "data": {
      "text/html": [
       "<div>\n",
       "<table border=\"1\" class=\"dataframe\">\n",
       "  <thead>\n",
       "    <tr style=\"text-align: right;\">\n",
       "      <th></th>\n",
       "      <th>and_mask</th>\n",
       "      <th>flux</th>\n",
       "      <th>ivar</th>\n",
       "      <th>model</th>\n",
       "      <th>or_mask</th>\n",
       "      <th>sky</th>\n",
       "      <th>wdisp</th>\n",
       "    </tr>\n",
       "    <tr>\n",
       "      <th>loglam</th>\n",
       "      <th></th>\n",
       "      <th></th>\n",
       "      <th></th>\n",
       "      <th></th>\n",
       "      <th></th>\n",
       "      <th></th>\n",
       "      <th></th>\n",
       "    </tr>\n",
       "  </thead>\n",
       "  <tbody>\n",
       "    <tr>\n",
       "      <th>3.5532</th>\n",
       "      <td>0</td>\n",
       "      <td>-5.167075</td>\n",
       "      <td>0.026013</td>\n",
       "      <td>1.150802</td>\n",
       "      <td>71303168</td>\n",
       "      <td>5.765884</td>\n",
       "      <td>1.425145</td>\n",
       "    </tr>\n",
       "    <tr>\n",
       "      <th>3.5533</th>\n",
       "      <td>0</td>\n",
       "      <td>1.226554</td>\n",
       "      <td>0.039627</td>\n",
       "      <td>1.144034</td>\n",
       "      <td>71303168</td>\n",
       "      <td>5.071245</td>\n",
       "      <td>1.351668</td>\n",
       "    </tr>\n",
       "    <tr>\n",
       "      <th>3.5534</th>\n",
       "      <td>0</td>\n",
       "      <td>0.927009</td>\n",
       "      <td>0.040588</td>\n",
       "      <td>1.140665</td>\n",
       "      <td>71303168</td>\n",
       "      <td>4.487135</td>\n",
       "      <td>1.351275</td>\n",
       "    </tr>\n",
       "    <tr>\n",
       "      <th>3.5535</th>\n",
       "      <td>0</td>\n",
       "      <td>2.266115</td>\n",
       "      <td>0.040700</td>\n",
       "      <td>1.115641</td>\n",
       "      <td>71303168</td>\n",
       "      <td>4.087581</td>\n",
       "      <td>1.344525</td>\n",
       "    </tr>\n",
       "    <tr>\n",
       "      <th>3.5536</th>\n",
       "      <td>0</td>\n",
       "      <td>4.675598</td>\n",
       "      <td>0.044205</td>\n",
       "      <td>1.073475</td>\n",
       "      <td>71303168</td>\n",
       "      <td>3.658009</td>\n",
       "      <td>1.350873</td>\n",
       "    </tr>\n",
       "  </tbody>\n",
       "</table>\n",
       "</div>"
      ],
      "text/plain": [
       "        and_mask      flux      ivar     model   or_mask       sky     wdisp\n",
       "loglam                                                                      \n",
       "3.5532         0 -5.167075  0.026013  1.150802  71303168  5.765884  1.425145\n",
       "3.5533         0  1.226554  0.039627  1.144034  71303168  5.071245  1.351668\n",
       "3.5534         0  0.927009  0.040588  1.140665  71303168  4.487135  1.351275\n",
       "3.5535         0  2.266115  0.040700  1.115641  71303168  4.087581  1.344525\n",
       "3.5536         0  4.675598  0.044205  1.073475  71303168  3.658009  1.350873"
      ]
     },
     "execution_count": 810,
     "metadata": {},
     "output_type": "execute_result"
    }
   ],
   "source": [
    "# Masking\n",
    "mask=[]\n",
    "for s in dt_s:\n",
    "    mask.append(s.query('and_mask==0').copy())\n",
    "mask[1].head()"
   ]
  },
  {
   "cell_type": "code",
   "execution_count": 811,
   "metadata": {
    "collapsed": false
   },
   "outputs": [
    {
     "data": {
      "text/plain": [
       "<matplotlib.legend.Legend at 0x4809b8c50>"
      ]
     },
     "execution_count": 811,
     "metadata": {},
     "output_type": "execute_result"
    },
    {
     "data": {
      "image/png": "[encoded data removed]",
      "text/plain": [
       "<matplotlib.figure.Figure at 0x4809b8610>"
      ]
     },
     "metadata": {},
     "output_type": "display_data"
    }
   ],
   "source": [
    "fig = plt.figure(figsize = (15, 10))\n",
    "xlimits = [3.55,4]\n",
    "ylimits = [-10,20]\n",
    "for i in range(len(files)):\n",
    "    dt_s[i]['flux'].plot(label=files[i],xlim=xlimits, ylim=ylimits) \n",
    "plt.legend(loc='best')"
   ]
  },
  {
   "cell_type": "code",
   "execution_count": 812,
   "metadata": {
    "collapsed": false
   },
   "outputs": [],
   "source": [
    "#check for the xrange and the size of the step\n",
    "\n",
    "#print [len(mask[i]) for i in range(5)]\n",
    "#for i in range(5):\n",
    "#    print (mask[i].index.values.min()- mask[i].index.values.max())/len(mask[i])\n",
    "#for i in range(len(files)):\n",
    "#    x=dt_s[i].index.values\n",
    "    #print(len(x))\n",
    "    #print (x[-1]-x[0])/(len(x)-1)"
   ]
  },
  {
   "cell_type": "code",
   "execution_count": 813,
   "metadata": {
    "collapsed": false
   },
   "outputs": [],
   "source": [
    "#plot for the masks\n",
    "\n",
    "#fig = plt.figure(figsize = (15, 10))\n",
    "#ax= plt.subplot(1,1,1)\n",
    "##dt_s\n",
    "#mask[0][['flux','model', 'ivar']].plot(ax=ax)\n",
    "#mask[1][['flux','model', 'ivar']].plot(ax=ax)"
   ]
  },
  {
   "cell_type": "code",
   "execution_count": 814,
   "metadata": {
    "collapsed": false
   },
   "outputs": [],
   "source": [
    "#read coefficients\n",
    "\n",
    "#fits = fitsio.FITS(files[0])\n",
    "#coeff0, coeff1 = fits[0].read_header()['COEFF0'], fits[0].read_header()['COEFF1']\n",
    "#for f in files:\n",
    "#    fits = fitsio.FITS(f)\n",
    "#    print fits[0].read_header()['COEFF0'], fits[0].read_header()['COEFF1']\n",
    "\n",
    "#for i in range(len(files)):\n",
    "#    x=dt_s[i].index.values\n",
    "#    print (x[-1]-x[0])/(len(x)-1), len(x)"
   ]
  },
  {
   "cell_type": "code",
   "execution_count": 815,
   "metadata": {
    "collapsed": false
   },
   "outputs": [],
   "source": [
    "for i in range(len(files)):\n",
    "        dt_s[i]['flux_%s'%(i)] = dt_s[i]['flux']\n",
    "        dt_s[i]['ivar_%s'%(i)] = dt_s[i]['ivar']"
   ]
  },
  {
   "cell_type": "code",
   "execution_count": 816,
   "metadata": {
    "collapsed": false
   },
   "outputs": [
    {
     "data": {
      "text/html": [
       "<div>\n",
       "<table border=\"1\" class=\"dataframe\">\n",
       "  <thead>\n",
       "    <tr style=\"text-align: right;\">\n",
       "      <th></th>\n",
       "      <th>flux_0</th>\n",
       "      <th>ivar_0</th>\n",
       "      <th>flux_1</th>\n",
       "      <th>ivar_1</th>\n",
       "      <th>flux_2</th>\n",
       "      <th>ivar_2</th>\n",
       "      <th>flux_3</th>\n",
       "      <th>ivar_3</th>\n",
       "      <th>flux_4</th>\n",
       "      <th>ivar_4</th>\n",
       "      <th>...</th>\n",
       "      <th>flux_12</th>\n",
       "      <th>ivar_12</th>\n",
       "      <th>flux_13</th>\n",
       "      <th>ivar_13</th>\n",
       "      <th>flux_14</th>\n",
       "      <th>ivar_14</th>\n",
       "      <th>flux_15</th>\n",
       "      <th>ivar_15</th>\n",
       "      <th>flux_16</th>\n",
       "      <th>ivar_16</th>\n",
       "    </tr>\n",
       "    <tr>\n",
       "      <th>loglam</th>\n",
       "      <th></th>\n",
       "      <th></th>\n",
       "      <th></th>\n",
       "      <th></th>\n",
       "      <th></th>\n",
       "      <th></th>\n",
       "      <th></th>\n",
       "      <th></th>\n",
       "      <th></th>\n",
       "      <th></th>\n",
       "      <th></th>\n",
       "      <th></th>\n",
       "      <th></th>\n",
       "      <th></th>\n",
       "      <th></th>\n",
       "      <th></th>\n",
       "      <th></th>\n",
       "      <th></th>\n",
       "      <th></th>\n",
       "      <th></th>\n",
       "      <th></th>\n",
       "    </tr>\n",
       "  </thead>\n",
       "  <tbody>\n",
       "    <tr>\n",
       "      <th>3.5525</th>\n",
       "      <td>0.0</td>\n",
       "      <td>0.0</td>\n",
       "      <td>0.0</td>\n",
       "      <td>0.0</td>\n",
       "      <td>0.0</td>\n",
       "      <td>0.0</td>\n",
       "      <td>0.0</td>\n",
       "      <td>0.0</td>\n",
       "      <td>0.0</td>\n",
       "      <td>0.0</td>\n",
       "      <td>...</td>\n",
       "      <td>0.0</td>\n",
       "      <td>0.0</td>\n",
       "      <td>0.0</td>\n",
       "      <td>0.0</td>\n",
       "      <td>0.0</td>\n",
       "      <td>0.0</td>\n",
       "      <td>0.0</td>\n",
       "      <td>0.0</td>\n",
       "      <td>0.0</td>\n",
       "      <td>0.0</td>\n",
       "    </tr>\n",
       "    <tr>\n",
       "      <th>3.5526</th>\n",
       "      <td>0.0</td>\n",
       "      <td>0.0</td>\n",
       "      <td>0.0</td>\n",
       "      <td>0.0</td>\n",
       "      <td>0.0</td>\n",
       "      <td>0.0</td>\n",
       "      <td>0.0</td>\n",
       "      <td>0.0</td>\n",
       "      <td>0.0</td>\n",
       "      <td>0.0</td>\n",
       "      <td>...</td>\n",
       "      <td>0.0</td>\n",
       "      <td>0.0</td>\n",
       "      <td>0.0</td>\n",
       "      <td>0.0</td>\n",
       "      <td>0.0</td>\n",
       "      <td>0.0</td>\n",
       "      <td>0.0</td>\n",
       "      <td>0.0</td>\n",
       "      <td>0.0</td>\n",
       "      <td>0.0</td>\n",
       "    </tr>\n",
       "    <tr>\n",
       "      <th>3.5527</th>\n",
       "      <td>0.0</td>\n",
       "      <td>0.0</td>\n",
       "      <td>0.0</td>\n",
       "      <td>0.0</td>\n",
       "      <td>0.0</td>\n",
       "      <td>0.0</td>\n",
       "      <td>0.0</td>\n",
       "      <td>0.0</td>\n",
       "      <td>0.0</td>\n",
       "      <td>0.0</td>\n",
       "      <td>...</td>\n",
       "      <td>0.0</td>\n",
       "      <td>0.0</td>\n",
       "      <td>0.0</td>\n",
       "      <td>0.0</td>\n",
       "      <td>0.0</td>\n",
       "      <td>0.0</td>\n",
       "      <td>0.0</td>\n",
       "      <td>0.0</td>\n",
       "      <td>0.0</td>\n",
       "      <td>0.0</td>\n",
       "    </tr>\n",
       "    <tr>\n",
       "      <th>3.5528</th>\n",
       "      <td>0.0</td>\n",
       "      <td>0.0</td>\n",
       "      <td>0.0</td>\n",
       "      <td>0.0</td>\n",
       "      <td>0.0</td>\n",
       "      <td>0.0</td>\n",
       "      <td>0.0</td>\n",
       "      <td>0.0</td>\n",
       "      <td>0.0</td>\n",
       "      <td>0.0</td>\n",
       "      <td>...</td>\n",
       "      <td>0.0</td>\n",
       "      <td>0.0</td>\n",
       "      <td>0.0</td>\n",
       "      <td>0.0</td>\n",
       "      <td>0.0</td>\n",
       "      <td>0.0</td>\n",
       "      <td>0.0</td>\n",
       "      <td>0.0</td>\n",
       "      <td>0.0</td>\n",
       "      <td>0.0</td>\n",
       "    </tr>\n",
       "    <tr>\n",
       "      <th>3.5529</th>\n",
       "      <td>0.0</td>\n",
       "      <td>0.0</td>\n",
       "      <td>0.0</td>\n",
       "      <td>0.0</td>\n",
       "      <td>0.0</td>\n",
       "      <td>0.0</td>\n",
       "      <td>0.0</td>\n",
       "      <td>0.0</td>\n",
       "      <td>0.0</td>\n",
       "      <td>0.0</td>\n",
       "      <td>...</td>\n",
       "      <td>0.0</td>\n",
       "      <td>0.0</td>\n",
       "      <td>0.0</td>\n",
       "      <td>0.0</td>\n",
       "      <td>0.0</td>\n",
       "      <td>0.0</td>\n",
       "      <td>0.0</td>\n",
       "      <td>0.0</td>\n",
       "      <td>0.0</td>\n",
       "      <td>0.0</td>\n",
       "    </tr>\n",
       "  </tbody>\n",
       "</table>\n",
       "<p>5 rows × 34 columns</p>\n",
       "</div>"
      ],
      "text/plain": [
       "        flux_0  ivar_0  flux_1  ivar_1  flux_2  ivar_2  flux_3  ivar_3  \\\n",
       "loglam                                                                   \n",
       "3.5525     0.0     0.0     0.0     0.0     0.0     0.0     0.0     0.0   \n",
       "3.5526     0.0     0.0     0.0     0.0     0.0     0.0     0.0     0.0   \n",
       "3.5527     0.0     0.0     0.0     0.0     0.0     0.0     0.0     0.0   \n",
       "3.5528     0.0     0.0     0.0     0.0     0.0     0.0     0.0     0.0   \n",
       "3.5529     0.0     0.0     0.0     0.0     0.0     0.0     0.0     0.0   \n",
       "\n",
       "        flux_4  ivar_4   ...     flux_12  ivar_12  flux_13  ivar_13  flux_14  \\\n",
       "loglam                   ...                                                   \n",
       "3.5525     0.0     0.0   ...         0.0      0.0      0.0      0.0      0.0   \n",
       "3.5526     0.0     0.0   ...         0.0      0.0      0.0      0.0      0.0   \n",
       "3.5527     0.0     0.0   ...         0.0      0.0      0.0      0.0      0.0   \n",
       "3.5528     0.0     0.0   ...         0.0      0.0      0.0      0.0      0.0   \n",
       "3.5529     0.0     0.0   ...         0.0      0.0      0.0      0.0      0.0   \n",
       "\n",
       "        ivar_14  flux_15  ivar_15  flux_16  ivar_16  \n",
       "loglam                                               \n",
       "3.5525      0.0      0.0      0.0      0.0      0.0  \n",
       "3.5526      0.0      0.0      0.0      0.0      0.0  \n",
       "3.5527      0.0      0.0      0.0      0.0      0.0  \n",
       "3.5528      0.0      0.0      0.0      0.0      0.0  \n",
       "3.5529      0.0      0.0      0.0      0.0      0.0  \n",
       "\n",
       "[5 rows x 34 columns]"
      ]
     },
     "execution_count": 816,
     "metadata": {},
     "output_type": "execute_result"
    }
   ],
   "source": [
    "x =range(len(files))\n",
    "result = pd.concat([dt_s[i][['flux_%s'%(i),'ivar_%s'%(i)]] for i in x], axis=1)\n",
    "all_qsos= result.fillna(0).copy()\n",
    "all_qsos.head()"
   ]
  },
  {
   "cell_type": "code",
   "execution_count": 817,
   "metadata": {
    "collapsed": false
   },
   "outputs": [],
   "source": [
    "all_qsos['sum_flux_ivar']=0\n",
    "all_qsos['sum_ivar']=0\n",
    "for i in x:\n",
    "    all_qsos['sum_flux_ivar'] += all_qsos['flux_%s'%(i)]*all_qsos['ivar_%s'%(i)]\n",
    "    all_qsos['sum_ivar']      += all_qsos['ivar_%s'%(i)] \n",
    "all_qsos['coadd'] = all_qsos['sum_flux_ivar']/all_qsos['sum_ivar']"
   ]
  },
  {
   "cell_type": "code",
   "execution_count": 818,
   "metadata": {
    "collapsed": false
   },
   "outputs": [
    {
     "data": {
      "text/plain": [
       "<matplotlib.legend.Legend at 0x490428150>"
      ]
     },
     "execution_count": 818,
     "metadata": {},
     "output_type": "execute_result"
    },
    {
     "data": {
      "image/png": "[encoded data removed]",
      "text/plain": [
       "<matplotlib.figure.Figure at 0x4cbe856d0>"
      ]
     },
     "metadata": {},
     "output_type": "display_data"
    }
   ],
   "source": [
    "fig = plt.figure(figsize = (15, 10))\n",
    "ax= plt.subplot(1,1,1)\n",
    "xlimits = [3.55,4]\n",
    "ylimits = [-10,15]\n",
    "all_qsos['coadd'].plot(ax=ax, label='coad', xlim=xlimits, ylim=ylimits)\n",
    "plt.legend(loc='best')"
   ]
  },
  {
   "cell_type": "code",
   "execution_count": 819,
   "metadata": {
    "collapsed": false
   },
   "outputs": [
    {
     "data": {
      "text/plain": [
       "array([  8.00602631,   8.92329408,   6.29712816, ...,  -1.62233003,\n",
       "        -7.45756262, -21.88217937])"
      ]
     },
     "execution_count": 819,
     "metadata": {},
     "output_type": "execute_result"
    }
   ],
   "source": [
    "all_qsos = all_qsos.fillna(0).copy()\n",
    "all_qsos['coadd'].values"
   ]
  },
  {
   "cell_type": "code",
   "execution_count": 820,
   "metadata": {
    "collapsed": false
   },
   "outputs": [
    {
     "name": "stdout",
     "output_type": "stream",
     "text": [
      "chi-sq= 1.18316693261 \t\tspec-3615-55179-0693.fits\n",
      "chi-sq= 0.814630036411 \t\tspec-3615-55208-0691.fits\n",
      "chi-sq= 0.950363933276 \t\tspec-3615-55445-0685.fits\n",
      "chi-sq= 1.02254375672 \t\tspec-3615-55856-0699.fits\n",
      "chi-sq= 0.862993206424 \t\tspec-3615-56219-0693.fits\n",
      "chi-sq= 0.974970030558 \t\tspec-3615-56544-0713.fits\n",
      "chi-sq= 1.0354952373 \t\tspec-3647-55181-0692.fits\n",
      "chi-sq= 1.39189271561 \t\tspec-3647-55241-0690.fits\n",
      "chi-sq= 0.926219350812 \t\tspec-3647-55476-0712.fits\n",
      "chi-sq= 0.935085283558 \t\tspec-3647-55827-0690.fits\n",
      "chi-sq= 0.979185019436 \t\tspec-3647-55945-0646.fits\n",
      "chi-sq= 0.864700491685 \t\tspec-3647-56219-0692.fits\n",
      "chi-sq= 1.0134173737 \t\tspec-3647-56568-0700.fits\n",
      "chi-sq= 0.948529755146 \t\tspec-3647-56596-0684.fits\n",
      "chi-sq= 1.16203634253 \t\tspec-4237-55478-0988.fits\n",
      "chi-sq= 0.854323898489 \t\tspec-4238-55455-0684.fits\n",
      "chi-sq= 0.979416702791 \t\tspec-7828-57039-0641.fits\n"
     ]
    }
   ],
   "source": [
    "for i in x:\n",
    "    chi_squared = np.sum((all_qsos['coadd'].values - all_qsos['flux_%s'%(i)].values)**2*all_qsos['ivar_%s'%(i)].values)\n",
    "    print  'chi-sq=',chi_squared/len(all_qsos.values), '\\t\\t', files[i]"
   ]
  },
  {
   "cell_type": "code",
   "execution_count": 642,
   "metadata": {
    "collapsed": false
   },
   "outputs": [
    {
     "data": {
      "text/html": [
       "<div>\n",
       "<table border=\"1\" class=\"dataframe\">\n",
       "  <thead>\n",
       "    <tr style=\"text-align: right;\">\n",
       "      <th></th>\n",
       "      <th>flux_0</th>\n",
       "      <th>ivar_0</th>\n",
       "      <th>flux_1</th>\n",
       "      <th>ivar_1</th>\n",
       "      <th>flux_2</th>\n",
       "      <th>ivar_2</th>\n",
       "      <th>flux_3</th>\n",
       "      <th>ivar_3</th>\n",
       "      <th>flux_4</th>\n",
       "      <th>ivar_4</th>\n",
       "      <th>...</th>\n",
       "      <th>ivar_13</th>\n",
       "      <th>flux_14</th>\n",
       "      <th>ivar_14</th>\n",
       "      <th>flux_15</th>\n",
       "      <th>ivar_15</th>\n",
       "      <th>flux_16</th>\n",
       "      <th>ivar_16</th>\n",
       "      <th>sum_flux_ivar</th>\n",
       "      <th>sum_ivar</th>\n",
       "      <th>coadd</th>\n",
       "    </tr>\n",
       "    <tr>\n",
       "      <th>loglam</th>\n",
       "      <th></th>\n",
       "      <th></th>\n",
       "      <th></th>\n",
       "      <th></th>\n",
       "      <th></th>\n",
       "      <th></th>\n",
       "      <th></th>\n",
       "      <th></th>\n",
       "      <th></th>\n",
       "      <th></th>\n",
       "      <th></th>\n",
       "      <th></th>\n",
       "      <th></th>\n",
       "      <th></th>\n",
       "      <th></th>\n",
       "      <th></th>\n",
       "      <th></th>\n",
       "      <th></th>\n",
       "      <th></th>\n",
       "      <th></th>\n",
       "      <th></th>\n",
       "    </tr>\n",
       "  </thead>\n",
       "  <tbody>\n",
       "    <tr>\n",
       "      <th>3.5525</th>\n",
       "      <td>0.0</td>\n",
       "      <td>0.0</td>\n",
       "      <td>0.0</td>\n",
       "      <td>0.0</td>\n",
       "      <td>0.0</td>\n",
       "      <td>0.0</td>\n",
       "      <td>0.0</td>\n",
       "      <td>0.0</td>\n",
       "      <td>0.0</td>\n",
       "      <td>0.0</td>\n",
       "      <td>...</td>\n",
       "      <td>0.0</td>\n",
       "      <td>0.0</td>\n",
       "      <td>0.0</td>\n",
       "      <td>0.0</td>\n",
       "      <td>0.0</td>\n",
       "      <td>0.0</td>\n",
       "      <td>0.0</td>\n",
       "      <td>0.070327</td>\n",
       "      <td>0.008784</td>\n",
       "      <td>8.006026</td>\n",
       "    </tr>\n",
       "    <tr>\n",
       "      <th>3.5526</th>\n",
       "      <td>0.0</td>\n",
       "      <td>0.0</td>\n",
       "      <td>0.0</td>\n",
       "      <td>0.0</td>\n",
       "      <td>0.0</td>\n",
       "      <td>0.0</td>\n",
       "      <td>0.0</td>\n",
       "      <td>0.0</td>\n",
       "      <td>0.0</td>\n",
       "      <td>0.0</td>\n",
       "      <td>...</td>\n",
       "      <td>0.0</td>\n",
       "      <td>0.0</td>\n",
       "      <td>0.0</td>\n",
       "      <td>0.0</td>\n",
       "      <td>0.0</td>\n",
       "      <td>0.0</td>\n",
       "      <td>0.0</td>\n",
       "      <td>0.077585</td>\n",
       "      <td>0.008695</td>\n",
       "      <td>8.923294</td>\n",
       "    </tr>\n",
       "    <tr>\n",
       "      <th>3.5527</th>\n",
       "      <td>0.0</td>\n",
       "      <td>0.0</td>\n",
       "      <td>0.0</td>\n",
       "      <td>0.0</td>\n",
       "      <td>0.0</td>\n",
       "      <td>0.0</td>\n",
       "      <td>0.0</td>\n",
       "      <td>0.0</td>\n",
       "      <td>0.0</td>\n",
       "      <td>0.0</td>\n",
       "      <td>...</td>\n",
       "      <td>0.0</td>\n",
       "      <td>0.0</td>\n",
       "      <td>0.0</td>\n",
       "      <td>0.0</td>\n",
       "      <td>0.0</td>\n",
       "      <td>0.0</td>\n",
       "      <td>0.0</td>\n",
       "      <td>0.059792</td>\n",
       "      <td>0.009495</td>\n",
       "      <td>6.297128</td>\n",
       "    </tr>\n",
       "    <tr>\n",
       "      <th>3.5528</th>\n",
       "      <td>0.0</td>\n",
       "      <td>0.0</td>\n",
       "      <td>0.0</td>\n",
       "      <td>0.0</td>\n",
       "      <td>0.0</td>\n",
       "      <td>0.0</td>\n",
       "      <td>0.0</td>\n",
       "      <td>0.0</td>\n",
       "      <td>0.0</td>\n",
       "      <td>0.0</td>\n",
       "      <td>...</td>\n",
       "      <td>0.0</td>\n",
       "      <td>0.0</td>\n",
       "      <td>0.0</td>\n",
       "      <td>0.0</td>\n",
       "      <td>0.0</td>\n",
       "      <td>0.0</td>\n",
       "      <td>0.0</td>\n",
       "      <td>-0.061222</td>\n",
       "      <td>0.011081</td>\n",
       "      <td>-5.524771</td>\n",
       "    </tr>\n",
       "    <tr>\n",
       "      <th>3.5529</th>\n",
       "      <td>0.0</td>\n",
       "      <td>0.0</td>\n",
       "      <td>0.0</td>\n",
       "      <td>0.0</td>\n",
       "      <td>0.0</td>\n",
       "      <td>0.0</td>\n",
       "      <td>0.0</td>\n",
       "      <td>0.0</td>\n",
       "      <td>0.0</td>\n",
       "      <td>0.0</td>\n",
       "      <td>...</td>\n",
       "      <td>0.0</td>\n",
       "      <td>0.0</td>\n",
       "      <td>0.0</td>\n",
       "      <td>0.0</td>\n",
       "      <td>0.0</td>\n",
       "      <td>0.0</td>\n",
       "      <td>0.0</td>\n",
       "      <td>-0.061483</td>\n",
       "      <td>0.011337</td>\n",
       "      <td>-5.423411</td>\n",
       "    </tr>\n",
       "  </tbody>\n",
       "</table>\n",
       "<p>5 rows × 37 columns</p>\n",
       "</div>"
      ],
      "text/plain": [
       "        flux_0  ivar_0  flux_1  ivar_1  flux_2  ivar_2  flux_3  ivar_3  \\\n",
       "loglam                                                                   \n",
       "3.5525     0.0     0.0     0.0     0.0     0.0     0.0     0.0     0.0   \n",
       "3.5526     0.0     0.0     0.0     0.0     0.0     0.0     0.0     0.0   \n",
       "3.5527     0.0     0.0     0.0     0.0     0.0     0.0     0.0     0.0   \n",
       "3.5528     0.0     0.0     0.0     0.0     0.0     0.0     0.0     0.0   \n",
       "3.5529     0.0     0.0     0.0     0.0     0.0     0.0     0.0     0.0   \n",
       "\n",
       "        flux_4  ivar_4    ...     ivar_13  flux_14  ivar_14  flux_15  ivar_15  \\\n",
       "loglam                    ...                                                   \n",
       "3.5525     0.0     0.0    ...         0.0      0.0      0.0      0.0      0.0   \n",
       "3.5526     0.0     0.0    ...         0.0      0.0      0.0      0.0      0.0   \n",
       "3.5527     0.0     0.0    ...         0.0      0.0      0.0      0.0      0.0   \n",
       "3.5528     0.0     0.0    ...         0.0      0.0      0.0      0.0      0.0   \n",
       "3.5529     0.0     0.0    ...         0.0      0.0      0.0      0.0      0.0   \n",
       "\n",
       "        flux_16  ivar_16  sum_flux_ivar  sum_ivar     coadd  \n",
       "loglam                                                       \n",
       "3.5525      0.0      0.0       0.070327  0.008784  8.006026  \n",
       "3.5526      0.0      0.0       0.077585  0.008695  8.923294  \n",
       "3.5527      0.0      0.0       0.059792  0.009495  6.297128  \n",
       "3.5528      0.0      0.0      -0.061222  0.011081 -5.524771  \n",
       "3.5529      0.0      0.0      -0.061483  0.011337 -5.423411  \n",
       "\n",
       "[5 rows x 37 columns]"
      ]
     },
     "execution_count": 642,
     "metadata": {},
     "output_type": "execute_result"
    }
   ],
   "source": [
    "all_qsos.head()"
   ]
  },
  {
   "cell_type": "code",
   "execution_count": null,
   "metadata": {
    "collapsed": true
   },
   "outputs": [],
   "source": []
  },
  {
   "cell_type": "code",
   "execution_count": null,
   "metadata": {
    "collapsed": true
   },
   "outputs": [],
   "source": []
  },
  {
   "cell_type": "code",
   "execution_count": null,
   "metadata": {
    "collapsed": true
   },
   "outputs": [],
   "source": []
  },
  {
   "cell_type": "code",
   "execution_count": null,
   "metadata": {
    "collapsed": true
   },
   "outputs": [],
   "source": []
  },
  {
   "cell_type": "code",
   "execution_count": null,
   "metadata": {
    "collapsed": true
   },
   "outputs": [],
   "source": []
  },
  {
   "cell_type": "code",
   "execution_count": null,
   "metadata": {
    "collapsed": false
   },
   "outputs": [],
   "source": []
  },
  {
   "cell_type": "code",
   "execution_count": null,
   "metadata": {
    "collapsed": false
   },
   "outputs": [],
   "source": []
  },
  {
   "cell_type": "code",
   "execution_count": 836,
   "metadata": {
    "collapsed": false
   },
   "outputs": [],
   "source": [
    "vect ={'spec-10000-57346-0092.fits': 2.2829750574821879, 'spec-6270-56273-0202.fits': 4.758888651905119, 'spec-7691-57360-0094.fits': 1.388886219480967, 'spec-7691-57040-0100.fits': 1.0508165679437143, 'spec-5697-55944-0990.fits': 0.998865915125282}\n"
   ]
  },
  {
   "cell_type": "code",
   "execution_count": 837,
   "metadata": {
    "collapsed": false
   },
   "outputs": [
    {
     "data": {
      "text/plain": [
       "{'spec-10000-57346-0092.fits': 2.282975057482188,\n",
       " 'spec-5697-55944-0990.fits': 0.998865915125282,\n",
       " 'spec-6270-56273-0202.fits': 4.758888651905119,\n",
       " 'spec-7691-57040-0100.fits': 1.0508165679437143,\n",
       " 'spec-7691-57360-0094.fits': 1.388886219480967}"
      ]
     },
     "execution_count": 837,
     "metadata": {},
     "output_type": "execute_result"
    }
   ],
   "source": [
    "vect"
   ]
  },
  {
   "cell_type": "code",
   "execution_count": 840,
   "metadata": {
    "collapsed": false
   },
   "outputs": [],
   "source": [
    "rm_file =[]\n",
    "for files, chisq in vect.iteritems():\n",
    "    if chisq > 4:\n",
    "        rm_file.append(files)"
   ]
  },
  {
   "cell_type": "code",
   "execution_count": 842,
   "metadata": {
    "collapsed": false
   },
   "outputs": [],
   "source": [
    "for rm in rm_file:\n",
    "    del vect[rm]"
   ]
  },
  {
   "cell_type": "code",
   "execution_count": 850,
   "metadata": {
    "collapsed": false
   },
   "outputs": [
    {
     "data": {
      "text/plain": [
       "{'spec-10000-57346-0092.fits': 2.282975057482188,\n",
       " 'spec-5697-55944-0990.fits': 0.998865915125282,\n",
       " 'spec-7691-57040-0100.fits': 1.0508165679437143,\n",
       " 'spec-7691-57360-0094.fits': 1.388886219480967}"
      ]
     },
     "execution_count": 850,
     "metadata": {},
     "output_type": "execute_result"
    }
   ],
   "source": [
    "vect"
   ]
  },
  {
   "cell_type": "code",
   "execution_count": 851,
   "metadata": {
    "collapsed": true
   },
   "outputs": [],
   "source": [
    "t ='spec-10000-57346-0436.fits'"
   ]
  },
  {
   "cell_type": "code",
   "execution_count": 857,
   "metadata": {
    "collapsed": false
   },
   "outputs": [
    {
     "data": {
      "text/plain": [
       "'10000-57346-0436.fits'"
      ]
     },
     "execution_count": 857,
     "metadata": {},
     "output_type": "execute_result"
    }
   ],
   "source": [
    "t.replace('spec-','')"
   ]
  },
  {
   "cell_type": "code",
   "execution_count": 858,
   "metadata": {
    "collapsed": false
   },
   "outputs": [
    {
     "data": {
      "text/plain": [
       "'spec-10000-57346-0436.fits'"
      ]
     },
     "execution_count": 858,
     "metadata": {},
     "output_type": "execute_result"
    }
   ],
   "source": [
    "t"
   ]
  },
  {
   "cell_type": "code",
   "execution_count": null,
   "metadata": {
    "collapsed": true
   },
   "outputs": [],
   "source": [
    "0093"
   ]
  },
  {
   "cell_type": "code",
   "execution_count": null,
   "metadata": {
    "collapsed": false
   },
   "outputs": [],
   "source": []
  },
  {
   "cell_type": "code",
   "execution_count": null,
   "metadata": {
    "collapsed": false
   },
   "outputs": [],
   "source": []
  },
  {
   "cell_type": "code",
   "execution_count": null,
   "metadata": {
    "collapsed": false
   },
   "outputs": [],
   "source": []
  },
  {
   "cell_type": "code",
   "execution_count": null,
   "metadata": {
    "collapsed": false
   },
   "outputs": [],
   "source": []
  },
  {
   "cell_type": "code",
   "execution_count": null,
   "metadata": {
    "collapsed": true
   },
   "outputs": [],
   "source": []
  },
  {
   "cell_type": "code",
   "execution_count": null,
   "metadata": {
    "collapsed": true
   },
   "outputs": [],
   "source": []
  }
 ],
 "metadata": {
  "kernelspec": {
   "display_name": "Python 2",
   "language": "python",
   "name": "python2"
  },
  "language_info": {
   "codemirror_mode": {
    "name": "ipython",
    "version": 2
   },
   "file_extension": ".py",
   "mimetype": "text/x-python",
   "name": "python",
   "nbconvert_exporter": "python",
   "pygments_lexer": "ipython2",
   "version": "2.7.11"
  }
 },
 "nbformat": 4,
 "nbformat_minor": 0
}
